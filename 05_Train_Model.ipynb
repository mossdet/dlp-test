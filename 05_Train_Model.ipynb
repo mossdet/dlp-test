{
 "cells": [
  {
   "cell_type": "markdown",
   "id": "c248b0e7-b313-45de-a5b5-4a32576fc2d0",
   "metadata": {},
   "source": [
    "<img style=\"float: right;\" src=\"img/openhouse_logo.png\" width=\"200\" height=\"200\"/><br>\n",
    "\n",
    "# <center> <ins> House Price Prediction Coding Test <br><br> 5. Train and Test Model <ins> </center>\n",
    "### <center>by: Daniel Lachner-Piza, PhD <br> for: OpenHouse.ai </center>\n",
    "\n",
    "\n"
   ]
  },
  {
   "cell_type": "code",
   "execution_count": 1,
   "id": "5791fa66-60ba-4017-a1d1-1d4c4250e94a",
   "metadata": {},
   "outputs": [
    {
     "name": "stderr",
     "output_type": "stream",
     "text": [
      "/home/dlp/Development/OpenHouseAI_TechTask1/dlp-test/.venv/lib/python3.12/site-packages/tqdm/auto.py:21: TqdmWarning: IProgress not found. Please update jupyter and ipywidgets. See https://ipywidgets.readthedocs.io/en/stable/user_install.html\n",
      "  from .autonotebook import tqdm as notebook_tqdm\n"
     ]
    }
   ],
   "source": [
    "import os\n",
    "import joblib\n",
    "import pandas as pd\n",
    "import numpy as np\n",
    "import seaborn as sns\n",
    "import matplotlib.pyplot as plt\n",
    "import optuna\n",
    "\n",
    "from pathlib import Path\n",
    "from sklearn.linear_model import LinearRegression\n",
    "from sklearn.model_selection import train_test_split\n",
    "from sklearn.metrics import r2_score, root_mean_squared_error\n",
    "from xgboost import XGBRegressor\n",
    "\n",
    "EDA_FIG_SIZE = (3,3)\n",
    "models_path = Path(\"models\")\n",
    "os.makedirs(models_path, exist_ok=True)"
   ]
  },
  {
   "cell_type": "markdown",
   "id": "7b70b1b6-58c6-42e1-a1ed-f492a295ec5b",
   "metadata": {},
   "source": [
    "# <ins> 1.Data Loading <ins> "
   ]
  },
  {
   "cell_type": "code",
   "execution_count": 2,
   "id": "2439535d-affc-4446-88d4-b366aeb319ad",
   "metadata": {},
   "outputs": [],
   "source": [
    "clean_scaled_data_df = pd.read_csv(\"data/clean_scaled_dataset.csv\")\n",
    "y_df = pd.read_csv(\"data/target.csv\")"
   ]
  },
  {
   "cell_type": "code",
   "execution_count": 3,
   "id": "be88fa1d-38cf-40dd-b58d-f157d83fc291",
   "metadata": {},
   "outputs": [
    {
     "data": {
      "text/html": [
       "<div>\n",
       "<style scoped>\n",
       "    .dataframe tbody tr th:only-of-type {\n",
       "        vertical-align: middle;\n",
       "    }\n",
       "\n",
       "    .dataframe tbody tr th {\n",
       "        vertical-align: top;\n",
       "    }\n",
       "\n",
       "    .dataframe thead th {\n",
       "        text-align: right;\n",
       "    }\n",
       "</style>\n",
       "<table border=\"1\" class=\"dataframe\">\n",
       "  <thead>\n",
       "    <tr style=\"text-align: right;\">\n",
       "      <th></th>\n",
       "      <th>LotArea</th>\n",
       "      <th>GrLivArea</th>\n",
       "      <th>YearBuilt</th>\n",
       "      <th>TotalBsmtSF</th>\n",
       "      <th>GarageArea</th>\n",
       "      <th>LotAreaSqrd</th>\n",
       "      <th>GrLivAreaSqrd</th>\n",
       "      <th>OverallQuality</th>\n",
       "      <th>OverallCondition</th>\n",
       "      <th>FullBath</th>\n",
       "      <th>...</th>\n",
       "      <th>SaleType_ConLw</th>\n",
       "      <th>SaleType_New</th>\n",
       "      <th>SaleType_Oth</th>\n",
       "      <th>SaleType_WD</th>\n",
       "      <th>SaleCondition_Abnorml</th>\n",
       "      <th>SaleCondition_AdjLand</th>\n",
       "      <th>SaleCondition_Alloca</th>\n",
       "      <th>SaleCondition_Family</th>\n",
       "      <th>SaleCondition_Normal</th>\n",
       "      <th>SaleCondition_Partial</th>\n",
       "    </tr>\n",
       "  </thead>\n",
       "  <tbody>\n",
       "    <tr>\n",
       "      <th>0</th>\n",
       "      <td>-0.174981</td>\n",
       "      <td>-0.357075</td>\n",
       "      <td>-0.469580</td>\n",
       "      <td>-0.954556</td>\n",
       "      <td>0.210489</td>\n",
       "      <td>-0.084953</td>\n",
       "      <td>-0.109744</td>\n",
       "      <td>-0.130274</td>\n",
       "      <td>0.389367</td>\n",
       "      <td>-1.056176</td>\n",
       "      <td>...</td>\n",
       "      <td>-0.0548</td>\n",
       "      <td>-0.303967</td>\n",
       "      <td>-0.027369</td>\n",
       "      <td>0.388242</td>\n",
       "      <td>-0.257373</td>\n",
       "      <td>-0.027369</td>\n",
       "      <td>-0.091115</td>\n",
       "      <td>-0.123278</td>\n",
       "      <td>0.45722</td>\n",
       "      <td>-0.308354</td>\n",
       "    </tr>\n",
       "    <tr>\n",
       "      <th>1</th>\n",
       "      <td>-0.888561</td>\n",
       "      <td>-0.868571</td>\n",
       "      <td>-0.096071</td>\n",
       "      <td>-1.011578</td>\n",
       "      <td>-1.154649</td>\n",
       "      <td>-0.130854</td>\n",
       "      <td>-0.158594</td>\n",
       "      <td>-1.624231</td>\n",
       "      <td>2.230762</td>\n",
       "      <td>-1.056176</td>\n",
       "      <td>...</td>\n",
       "      <td>-0.0548</td>\n",
       "      <td>-0.303967</td>\n",
       "      <td>-0.027369</td>\n",
       "      <td>0.388242</td>\n",
       "      <td>-0.257373</td>\n",
       "      <td>-0.027369</td>\n",
       "      <td>-0.091115</td>\n",
       "      <td>-0.123278</td>\n",
       "      <td>0.45722</td>\n",
       "      <td>-0.308354</td>\n",
       "    </tr>\n",
       "    <tr>\n",
       "      <th>2</th>\n",
       "      <td>0.374700</td>\n",
       "      <td>0.313130</td>\n",
       "      <td>1.160276</td>\n",
       "      <td>-0.409426</td>\n",
       "      <td>0.906547</td>\n",
       "      <td>-0.005306</td>\n",
       "      <td>-0.000011</td>\n",
       "      <td>-0.130274</td>\n",
       "      <td>-0.531331</td>\n",
       "      <td>0.771610</td>\n",
       "      <td>...</td>\n",
       "      <td>-0.0548</td>\n",
       "      <td>-0.303967</td>\n",
       "      <td>-0.027369</td>\n",
       "      <td>0.388242</td>\n",
       "      <td>-0.257373</td>\n",
       "      <td>-0.027369</td>\n",
       "      <td>-0.091115</td>\n",
       "      <td>-0.123278</td>\n",
       "      <td>0.45722</td>\n",
       "      <td>-0.308354</td>\n",
       "    </tr>\n",
       "    <tr>\n",
       "      <th>3</th>\n",
       "      <td>-0.340233</td>\n",
       "      <td>-0.496739</td>\n",
       "      <td>-0.809133</td>\n",
       "      <td>-2.448532</td>\n",
       "      <td>-0.431612</td>\n",
       "      <td>-0.101363</td>\n",
       "      <td>-0.126081</td>\n",
       "      <td>-1.624231</td>\n",
       "      <td>-0.531331</td>\n",
       "      <td>0.771610</td>\n",
       "      <td>...</td>\n",
       "      <td>-0.0548</td>\n",
       "      <td>-0.303967</td>\n",
       "      <td>-0.027369</td>\n",
       "      <td>0.388242</td>\n",
       "      <td>-0.257373</td>\n",
       "      <td>-0.027369</td>\n",
       "      <td>-0.091115</td>\n",
       "      <td>-0.123278</td>\n",
       "      <td>0.45722</td>\n",
       "      <td>-0.308354</td>\n",
       "    </tr>\n",
       "    <tr>\n",
       "      <th>4</th>\n",
       "      <td>-0.253258</td>\n",
       "      <td>-0.026053</td>\n",
       "      <td>-0.843088</td>\n",
       "      <td>1.107358</td>\n",
       "      <td>1.683542</td>\n",
       "      <td>-0.093160</td>\n",
       "      <td>-0.062028</td>\n",
       "      <td>-0.877252</td>\n",
       "      <td>0.389367</td>\n",
       "      <td>-1.056176</td>\n",
       "      <td>...</td>\n",
       "      <td>-0.0548</td>\n",
       "      <td>-0.303967</td>\n",
       "      <td>-0.027369</td>\n",
       "      <td>-2.575711</td>\n",
       "      <td>-0.257373</td>\n",
       "      <td>-0.027369</td>\n",
       "      <td>-0.091115</td>\n",
       "      <td>-0.123278</td>\n",
       "      <td>0.45722</td>\n",
       "      <td>-0.308354</td>\n",
       "    </tr>\n",
       "  </tbody>\n",
       "</table>\n",
       "<p>5 rows × 63 columns</p>\n",
       "</div>"
      ],
      "text/plain": [
       "    LotArea  GrLivArea  YearBuilt  TotalBsmtSF  GarageArea  LotAreaSqrd  \\\n",
       "0 -0.174981  -0.357075  -0.469580    -0.954556    0.210489    -0.084953   \n",
       "1 -0.888561  -0.868571  -0.096071    -1.011578   -1.154649    -0.130854   \n",
       "2  0.374700   0.313130   1.160276    -0.409426    0.906547    -0.005306   \n",
       "3 -0.340233  -0.496739  -0.809133    -2.448532   -0.431612    -0.101363   \n",
       "4 -0.253258  -0.026053  -0.843088     1.107358    1.683542    -0.093160   \n",
       "\n",
       "   GrLivAreaSqrd  OverallQuality  OverallCondition  FullBath  ...  \\\n",
       "0      -0.109744       -0.130274          0.389367 -1.056176  ...   \n",
       "1      -0.158594       -1.624231          2.230762 -1.056176  ...   \n",
       "2      -0.000011       -0.130274         -0.531331  0.771610  ...   \n",
       "3      -0.126081       -1.624231         -0.531331  0.771610  ...   \n",
       "4      -0.062028       -0.877252          0.389367 -1.056176  ...   \n",
       "\n",
       "   SaleType_ConLw  SaleType_New  SaleType_Oth  SaleType_WD  \\\n",
       "0         -0.0548     -0.303967     -0.027369     0.388242   \n",
       "1         -0.0548     -0.303967     -0.027369     0.388242   \n",
       "2         -0.0548     -0.303967     -0.027369     0.388242   \n",
       "3         -0.0548     -0.303967     -0.027369     0.388242   \n",
       "4         -0.0548     -0.303967     -0.027369    -2.575711   \n",
       "\n",
       "   SaleCondition_Abnorml  SaleCondition_AdjLand  SaleCondition_Alloca  \\\n",
       "0              -0.257373              -0.027369             -0.091115   \n",
       "1              -0.257373              -0.027369             -0.091115   \n",
       "2              -0.257373              -0.027369             -0.091115   \n",
       "3              -0.257373              -0.027369             -0.091115   \n",
       "4              -0.257373              -0.027369             -0.091115   \n",
       "\n",
       "   SaleCondition_Family  SaleCondition_Normal  SaleCondition_Partial  \n",
       "0             -0.123278               0.45722              -0.308354  \n",
       "1             -0.123278               0.45722              -0.308354  \n",
       "2             -0.123278               0.45722              -0.308354  \n",
       "3             -0.123278               0.45722              -0.308354  \n",
       "4             -0.123278               0.45722              -0.308354  \n",
       "\n",
       "[5 rows x 63 columns]"
      ]
     },
     "execution_count": 3,
     "metadata": {},
     "output_type": "execute_result"
    }
   ],
   "source": [
    "clean_scaled_data_df.head(5)"
   ]
  },
  {
   "cell_type": "code",
   "execution_count": 4,
   "id": "9d8821c7-7fc4-4667-ad04-6e6dc3f84e4a",
   "metadata": {},
   "outputs": [
    {
     "data": {
      "text/html": [
       "<div>\n",
       "<style scoped>\n",
       "    .dataframe tbody tr th:only-of-type {\n",
       "        vertical-align: middle;\n",
       "    }\n",
       "\n",
       "    .dataframe tbody tr th {\n",
       "        vertical-align: top;\n",
       "    }\n",
       "\n",
       "    .dataframe thead th {\n",
       "        text-align: right;\n",
       "    }\n",
       "</style>\n",
       "<table border=\"1\" class=\"dataframe\">\n",
       "  <thead>\n",
       "    <tr style=\"text-align: right;\">\n",
       "      <th></th>\n",
       "      <th>SalePrice</th>\n",
       "    </tr>\n",
       "  </thead>\n",
       "  <tbody>\n",
       "    <tr>\n",
       "      <th>0</th>\n",
       "      <td>159500</td>\n",
       "    </tr>\n",
       "    <tr>\n",
       "      <th>1</th>\n",
       "      <td>86000</td>\n",
       "    </tr>\n",
       "    <tr>\n",
       "      <th>2</th>\n",
       "      <td>214000</td>\n",
       "    </tr>\n",
       "    <tr>\n",
       "      <th>3</th>\n",
       "      <td>90000</td>\n",
       "    </tr>\n",
       "    <tr>\n",
       "      <th>4</th>\n",
       "      <td>153500</td>\n",
       "    </tr>\n",
       "  </tbody>\n",
       "</table>\n",
       "</div>"
      ],
      "text/plain": [
       "   SalePrice\n",
       "0     159500\n",
       "1      86000\n",
       "2     214000\n",
       "3      90000\n",
       "4     153500"
      ]
     },
     "execution_count": 4,
     "metadata": {},
     "output_type": "execute_result"
    }
   ],
   "source": [
    "y_df.head(5)"
   ]
  },
  {
   "cell_type": "markdown",
   "id": "995df59b-2884-46ba-b426-c88b57848d54",
   "metadata": {},
   "source": [
    "# <ins> 2. Partition Data <ins> "
   ]
  },
  {
   "cell_type": "code",
   "execution_count": 5,
   "id": "69238e53-99d7-411b-9e30-61207cd52b1e",
   "metadata": {},
   "outputs": [],
   "source": [
    "# X_train_valid, X_test, y_train_valid, y_test = train_test_split(clean_scaled_data_df, y_df, test_size=0.20, stratify=y, random_state=42)\n",
    "# X_train, X_valid, y_train, y_valid = train_test_split(X_train_valid, y_train_valid, test_size=0.40, stratify=y_train_valid, random_state=42)\n",
    "\n",
    "X_train_valid, X_test, y_train_valid, y_test = train_test_split(clean_scaled_data_df, y_df, test_size=0.20, random_state=42)\n",
    "X_train, X_valid, y_train, y_valid = train_test_split(X_train_valid, y_train_valid, test_size=0.20, random_state=42)"
   ]
  },
  {
   "cell_type": "code",
   "execution_count": 6,
   "id": "20eda334-90c9-4be0-a7af-350d080f45ba",
   "metadata": {},
   "outputs": [
    {
     "name": "stdout",
     "output_type": "stream",
     "text": [
      "Train-set size: (854, 63) --- Perecentage: 63.92\n",
      "Validation-set size: (214, 63) --- Perecentage: 16.02\n",
      "Test-set size: (268, 63) --- Perecentage: 20.06\n"
     ]
    }
   ],
   "source": [
    "print(f\"Train-set size: {X_train.shape} --- Perecentage: {100*X_train.shape[0]/clean_scaled_data_df.shape[0]:.2f}\")\n",
    "print(f\"Validation-set size: {X_valid.shape} --- Perecentage: {100*X_valid.shape[0]/clean_scaled_data_df.shape[0]:.2f}\")\n",
    "print(f\"Test-set size: {X_test.shape} --- Perecentage: {100*X_test.shape[0]/clean_scaled_data_df.shape[0]:.2f}\")"
   ]
  },
  {
   "cell_type": "code",
   "execution_count": null,
   "id": "f6dfc471-0094-448c-adfa-c9d0e116f804",
   "metadata": {},
   "outputs": [],
   "source": []
  },
  {
   "cell_type": "markdown",
   "id": "e658cb13-3761-4901-8aa3-d7f66647f842",
   "metadata": {},
   "source": [
    "# <ins>  3. Train Simple Linear Regressor <ins> "
   ]
  },
  {
   "cell_type": "code",
   "execution_count": 7,
   "id": "d86fd5a5-0637-4522-93ad-9773714c1017",
   "metadata": {},
   "outputs": [],
   "source": [
    "lr_model = LinearRegression().fit(X_train_valid, y_train_valid)\n",
    "y_pred_test = lr_model.predict(X_test)\n",
    "r2_value = r2_score(y_test, y_pred_test)\n",
    "rmse_value = root_mean_squared_error(y_test, y_pred_test)"
   ]
  },
  {
   "cell_type": "code",
   "execution_count": 8,
   "id": "6d746b54-db43-4c48-bc3a-f5c4fe950dbd",
   "metadata": {},
   "outputs": [
    {
     "name": "stdout",
     "output_type": "stream",
     "text": [
      "R2 Score: 0.7733243830316461\n",
      "RMSE Score: 38605.29196388142\n"
     ]
    }
   ],
   "source": [
    "print(f\"R2 Score: {r2_value}\")\n",
    "print(f\"RMSE Score: {rmse_value}\")"
   ]
  },
  {
   "cell_type": "code",
   "execution_count": 9,
   "id": "7bf6e00b-66a7-492e-addf-4975f63005db",
   "metadata": {},
   "outputs": [
    {
     "data": {
      "image/png": "[encoded data removed]",
      "text/plain": [
       "<Figure size 500x500 with 1 Axes>"
      ]
     },
     "metadata": {},
     "output_type": "display_data"
    }
   ],
   "source": [
    "plt.figure(figsize=(5, 5))\n",
    "pf = sns.scatterplot(x=y_pred_test.flatten(), y=y_test.to_numpy().flatten(), legend=\"full\")\n",
    "plt.plot(y_test.to_numpy().flatten(), y_test.to_numpy().flatten(), color=\"red\", linewidth=3)\n",
    "plt.title(f\"Linear Regression (R2={r2_value:.2f})\")\n",
    "pf.set_xlabel(\"Predicted Price\",fontsize=16)\n",
    "pf.set_ylabel(\"Real Price\",fontsize=16)\n",
    "plt.xticks(rotation=90);"
   ]
  },
  {
   "cell_type": "markdown",
   "id": "592308dd-b5f7-4fb8-9121-165ed71b0633",
   "metadata": {},
   "source": [
    "# <center> Using a simple linear regression model,<br> the sale price prediction deviates on average <br> <ins> +/- $39k </ins><br>from the real sale price."
   ]
  },
  {
   "cell_type": "code",
   "execution_count": null,
   "id": "60c29db7-d3da-4544-8961-472857cf8ab3",
   "metadata": {},
   "outputs": [],
   "source": []
  },
  {
   "cell_type": "markdown",
   "id": "f5297089-4313-4df4-a77b-feef2b4eb526",
   "metadata": {},
   "source": [
    "# <ins>  4. Train XGBoost Regressor <ins> "
   ]
  },
  {
   "cell_type": "code",
   "execution_count": 10,
   "id": "982be7df-f5bf-475d-bbd6-e5f6ee0704dd",
   "metadata": {},
   "outputs": [],
   "source": [
    "# Objective function for hyperparameter tuning of XGBRegressor\n",
    "def objective_xgb(trial, X_train, X_valid, y_train, y_valid):\n",
    "    \n",
    "    params = {\n",
    "    \"objective\":\"reg:squarederror\",\n",
    "    \"max_depth\": trial.suggest_int(\"max_depth\", 10, 50, step=5),\n",
    "    \"n_estimators\": trial.suggest_int(\"n_estimators\", 100, 1000, step=50),\n",
    "    \"learning_rate\": trial.suggest_float(\"learning_rate\", 1e-6, 1, log=False),\n",
    "    \"subsample\": trial.suggest_float(\"subsample\", 0.05, 1.0),\n",
    "    \"colsample_bytree\": trial.suggest_float(\"colsample_bytree\", 0.05, 1.0),\n",
    "    \"min_child_weight\": trial.suggest_int(\"min_child_weight\", 1, 20),\n",
    "    }\n",
    "   \n",
    "    model = XGBRegressor(**params,random_state=42).fit(X_train, y_train)\n",
    "    y_predicted = model.predict(X_valid)\n",
    "    r2 = r2_score(y_valid, y_predicted)\n",
    "    \n",
    "    return r2"
   ]
  },
  {
   "cell_type": "code",
   "execution_count": 11,
   "id": "20cffb1b-de82-4029-a9ad-0d46e8531254",
   "metadata": {},
   "outputs": [
    {
     "name": "stderr",
     "output_type": "stream",
     "text": [
      "[I 2025-04-19 16:31:57,771] A new study created in memory with name: no-name-8ed34166-6bdf-43ca-87ad-213ec5ccfb65\n",
      "[I 2025-04-19 16:31:58,003] Trial 0 finished with value: 0.8335878252983093 and parameters: {'max_depth': 30, 'n_estimators': 150, 'learning_rate': 0.17644837951095008, 'subsample': 0.12884027341098564, 'colsample_bytree': 0.5416043391442577, 'min_child_weight': 10}. Best is trial 0 with value: 0.8335878252983093.\n",
      "[I 2025-04-19 16:31:58,321] Trial 1 finished with value: 0.7883375883102417 and parameters: {'max_depth': 10, 'n_estimators': 350, 'learning_rate': 0.45620841814697227, 'subsample': 0.40661505489166916, 'colsample_bytree': 0.5454114127290906, 'min_child_weight': 18}. Best is trial 0 with value: 0.8335878252983093.\n",
      "[I 2025-04-19 16:31:58,531] Trial 2 finished with value: 0.06167227029800415 and parameters: {'max_depth': 40, 'n_estimators': 650, 'learning_rate': 0.9160429581083628, 'subsample': 0.12078530354154116, 'colsample_bytree': 0.06527094972073703, 'min_child_weight': 20}. Best is trial 0 with value: 0.8335878252983093.\n",
      "[I 2025-04-19 16:32:00,406] Trial 3 finished with value: 0.5943121910095215 and parameters: {'max_depth': 25, 'n_estimators': 650, 'learning_rate': 0.9459563143891899, 'subsample': 0.5697155657501946, 'colsample_bytree': 0.8020253362047263, 'min_child_weight': 19}. Best is trial 0 with value: 0.8335878252983093.\n",
      "[I 2025-04-19 16:32:02,624] Trial 4 finished with value: 0.8676568865776062 and parameters: {'max_depth': 45, 'n_estimators': 600, 'learning_rate': 0.06087998075534421, 'subsample': 0.8322553179893515, 'colsample_bytree': 0.8452637308596135, 'min_child_weight': 9}. Best is trial 4 with value: 0.8676568865776062.\n",
      "[I 2025-04-19 16:32:03,055] Trial 5 finished with value: 0.8547409772872925 and parameters: {'max_depth': 20, 'n_estimators': 350, 'learning_rate': 0.10779346140247534, 'subsample': 0.100700541293992, 'colsample_bytree': 0.20687849154777738, 'min_child_weight': 10}. Best is trial 4 with value: 0.8676568865776062.\n",
      "[I 2025-04-19 16:32:03,158] Trial 6 finished with value: 0.8151061534881592 and parameters: {'max_depth': 30, 'n_estimators': 100, 'learning_rate': 0.45903111712775146, 'subsample': 0.8304287245003849, 'colsample_bytree': 0.46486643220219476, 'min_child_weight': 20}. Best is trial 4 with value: 0.8676568865776062.\n",
      "[I 2025-04-19 16:32:03,851] Trial 7 finished with value: -2330675456.0 and parameters: {'max_depth': 15, 'n_estimators': 850, 'learning_rate': 0.8509907826897679, 'subsample': 0.22187457397861904, 'colsample_bytree': 0.6041695986891213, 'min_child_weight': 8}. Best is trial 4 with value: 0.8676568865776062.\n",
      "[I 2025-04-19 16:32:04,321] Trial 8 finished with value: 0.8359982967376709 and parameters: {'max_depth': 20, 'n_estimators': 200, 'learning_rate': 0.37140996169782614, 'subsample': 0.7044742142345641, 'colsample_bytree': 0.4997663226974853, 'min_child_weight': 5}. Best is trial 4 with value: 0.8676568865776062.\n",
      "[I 2025-04-19 16:32:07,285] Trial 9 finished with value: 0.8378629684448242 and parameters: {'max_depth': 40, 'n_estimators': 600, 'learning_rate': 0.4392629687589443, 'subsample': 0.8388319048134749, 'colsample_bytree': 0.5375464058466947, 'min_child_weight': 2}. Best is trial 4 with value: 0.8676568865776062.\n",
      "[I 2025-04-19 16:32:10,371] Trial 10 finished with value: 0.8754209876060486 and parameters: {'max_depth': 50, 'n_estimators': 900, 'learning_rate': 0.018764239762489615, 'subsample': 0.9876064157585319, 'colsample_bytree': 0.9948656730446243, 'min_child_weight': 14}. Best is trial 10 with value: 0.8754209876060486.\n",
      "[I 2025-04-19 16:32:12,690] Trial 11 finished with value: 0.8794008493423462 and parameters: {'max_depth': 50, 'n_estimators': 1000, 'learning_rate': 0.03271154176065767, 'subsample': 0.95906601892862, 'colsample_bytree': 0.9869596768708995, 'min_child_weight': 15}. Best is trial 11 with value: 0.8794008493423462.\n",
      "[I 2025-04-19 16:32:15,736] Trial 12 finished with value: 0.8533072471618652 and parameters: {'max_depth': 50, 'n_estimators': 1000, 'learning_rate': 0.2468965665832096, 'subsample': 0.956088483841131, 'colsample_bytree': 0.9993496941579577, 'min_child_weight': 15}. Best is trial 11 with value: 0.8794008493423462.\n",
      "[I 2025-04-19 16:32:17,902] Trial 13 finished with value: 0.8010889291763306 and parameters: {'max_depth': 50, 'n_estimators': 1000, 'learning_rate': 0.7015811236228595, 'subsample': 0.9583563130415643, 'colsample_bytree': 0.9607319482155398, 'min_child_weight': 14}. Best is trial 11 with value: 0.8794008493423462.\n",
      "[I 2025-04-19 16:32:20,291] Trial 14 finished with value: 0.893441915512085 and parameters: {'max_depth': 40, 'n_estimators': 800, 'learning_rate': 0.01311143060512826, 'subsample': 0.6554830130816223, 'colsample_bytree': 0.7488733666572713, 'min_child_weight': 14}. Best is trial 14 with value: 0.893441915512085.\n",
      "[I 2025-04-19 16:32:21,189] Trial 15 finished with value: 0.8249877095222473 and parameters: {'max_depth': 40, 'n_estimators': 750, 'learning_rate': 0.28013724648550736, 'subsample': 0.565993655218041, 'colsample_bytree': 0.7459655637948034, 'min_child_weight': 16}. Best is trial 14 with value: 0.893441915512085.\n",
      "[I 2025-04-19 16:32:21,948] Trial 16 finished with value: 0.6207189559936523 and parameters: {'max_depth': 35, 'n_estimators': 800, 'learning_rate': 0.7007851196413437, 'subsample': 0.37490504855674306, 'colsample_bytree': 0.7023784886809006, 'min_child_weight': 12}. Best is trial 14 with value: 0.893441915512085.\n",
      "[I 2025-04-19 16:32:23,472] Trial 17 finished with value: 0.8666663765907288 and parameters: {'max_depth': 45, 'n_estimators': 900, 'learning_rate': 0.17734043098512425, 'subsample': 0.6602129805970283, 'colsample_bytree': 0.8687801652948628, 'min_child_weight': 17}. Best is trial 14 with value: 0.893441915512085.\n",
      "[I 2025-04-19 16:32:24,196] Trial 18 finished with value: 0.8140066266059875 and parameters: {'max_depth': 35, 'n_estimators': 450, 'learning_rate': 0.6578771692478926, 'subsample': 0.7150036813087172, 'colsample_bytree': 0.3703408725863004, 'min_child_weight': 12}. Best is trial 14 with value: 0.893441915512085.\n",
      "[I 2025-04-19 16:32:25,578] Trial 19 finished with value: 0.8870450258255005 and parameters: {'max_depth': 45, 'n_estimators': 750, 'learning_rate': 0.019660203514528803, 'subsample': 0.46584914332946115, 'colsample_bytree': 0.6796394694237453, 'min_child_weight': 7}. Best is trial 14 with value: 0.893441915512085.\n",
      "[I 2025-04-19 16:32:27,415] Trial 20 finished with value: 0.6951383352279663 and parameters: {'max_depth': 35, 'n_estimators': 750, 'learning_rate': 0.5674861064301316, 'subsample': 0.41257020488883817, 'colsample_bytree': 0.6681264259776862, 'min_child_weight': 7}. Best is trial 14 with value: 0.893441915512085.\n",
      "[I 2025-04-19 16:32:29,094] Trial 21 finished with value: 0.8599076271057129 and parameters: {'max_depth': 45, 'n_estimators': 950, 'learning_rate': 0.1252341843116766, 'subsample': 0.2986760052286136, 'colsample_bytree': 0.8930746153895418, 'min_child_weight': 5}. Best is trial 14 with value: 0.893441915512085.\n",
      "[I 2025-04-19 16:32:29,684] Trial 22 finished with value: 0.5448218584060669 and parameters: {'max_depth': 45, 'n_estimators': 750, 'learning_rate': 0.0007629648674425914, 'subsample': 0.5095690936233874, 'colsample_bytree': 0.7702765702957115, 'min_child_weight': 12}. Best is trial 14 with value: 0.893441915512085.\n",
      "[I 2025-04-19 16:32:33,084] Trial 23 finished with value: 0.8305540680885315 and parameters: {'max_depth': 50, 'n_estimators': 850, 'learning_rate': 0.290976315368835, 'subsample': 0.46061863283504056, 'colsample_bytree': 0.6564875789737217, 'min_child_weight': 6}. Best is trial 14 with value: 0.893441915512085.\n",
      "[I 2025-04-19 16:32:35,927] Trial 24 finished with value: 0.8802449107170105 and parameters: {'max_depth': 40, 'n_estimators': 500, 'learning_rate': 0.09944307047549619, 'subsample': 0.6143196078505371, 'colsample_bytree': 0.41270380057979594, 'min_child_weight': 2}. Best is trial 14 with value: 0.893441915512085.\n",
      "[I 2025-04-19 16:32:38,448] Trial 25 finished with value: 0.8563151359558105 and parameters: {'max_depth': 40, 'n_estimators': 500, 'learning_rate': 0.1682161316491623, 'subsample': 0.63538664734393, 'colsample_bytree': 0.3946079369817284, 'min_child_weight': 1}. Best is trial 14 with value: 0.893441915512085.\n",
      "[I 2025-04-19 16:32:39,419] Trial 26 finished with value: 0.8651731610298157 and parameters: {'max_depth': 35, 'n_estimators': 400, 'learning_rate': 0.08601119593680387, 'subsample': 0.7609738700286192, 'colsample_bytree': 0.3189330250228706, 'min_child_weight': 3}. Best is trial 14 with value: 0.893441915512085.\n",
      "[I 2025-04-19 16:32:40,813] Trial 27 finished with value: 0.8288586139678955 and parameters: {'max_depth': 40, 'n_estimators': 700, 'learning_rate': 0.35029615370537953, 'subsample': 0.6028089386048657, 'colsample_bytree': 0.23658966935711667, 'min_child_weight': 3}. Best is trial 14 with value: 0.893441915512085.\n",
      "[I 2025-04-19 16:32:42,157] Trial 28 finished with value: 0.858906626701355 and parameters: {'max_depth': 45, 'n_estimators': 550, 'learning_rate': 0.23102667183600428, 'subsample': 0.490104106824669, 'colsample_bytree': 0.6173691125385944, 'min_child_weight': 4}. Best is trial 14 with value: 0.893441915512085.\n",
      "[I 2025-04-19 16:32:42,591] Trial 29 finished with value: 0.853400707244873 and parameters: {'max_depth': 30, 'n_estimators': 250, 'learning_rate': 0.13699928212751528, 'subsample': 0.2271343593203971, 'colsample_bytree': 0.44448513465405853, 'min_child_weight': 8}. Best is trial 14 with value: 0.893441915512085.\n",
      "[I 2025-04-19 16:32:44,672] Trial 30 finished with value: 0.8724042177200317 and parameters: {'max_depth': 30, 'n_estimators': 500, 'learning_rate': 0.08516269588668922, 'subsample': 0.5248625499142682, 'colsample_bytree': 0.6038617491077389, 'min_child_weight': 1}. Best is trial 14 with value: 0.893441915512085.\n",
      "[I 2025-04-19 16:32:47,726] Trial 31 finished with value: 0.8913407325744629 and parameters: {'max_depth': 45, 'n_estimators': 850, 'learning_rate': 0.014705265732332093, 'subsample': 0.7503656818293872, 'colsample_bytree': 0.9137050643160648, 'min_child_weight': 13}. Best is trial 14 with value: 0.893441915512085.\n",
      "[I 2025-04-19 16:32:49,655] Trial 32 finished with value: 0.87083899974823 and parameters: {'max_depth': 45, 'n_estimators': 800, 'learning_rate': 0.19904039996742837, 'subsample': 0.7484867573568247, 'colsample_bytree': 0.9092922002373081, 'min_child_weight': 11}. Best is trial 14 with value: 0.893441915512085.\n",
      "[I 2025-04-19 16:32:50,941] Trial 33 finished with value: 0.8650689125061035 and parameters: {'max_depth': 40, 'n_estimators': 650, 'learning_rate': 0.0035181309555912914, 'subsample': 0.6607856861702532, 'colsample_bytree': 0.8184798374425188, 'min_child_weight': 13}. Best is trial 14 with value: 0.893441915512085.\n",
      "[I 2025-04-19 16:32:52,428] Trial 34 finished with value: 0.8711891174316406 and parameters: {'max_depth': 40, 'n_estimators': 700, 'learning_rate': 0.061701105515614176, 'subsample': 0.5856640047084579, 'colsample_bytree': 0.7256800595895201, 'min_child_weight': 9}. Best is trial 14 with value: 0.893441915512085.\n",
      "[I 2025-04-19 16:32:54,492] Trial 35 finished with value: 0.872821569442749 and parameters: {'max_depth': 45, 'n_estimators': 850, 'learning_rate': 0.13599859866054875, 'subsample': 0.7874864215761093, 'colsample_bytree': 0.7876399305211328, 'min_child_weight': 17}. Best is trial 14 with value: 0.893441915512085.\n",
      "[I 2025-04-19 16:32:55,496] Trial 36 finished with value: 0.8661754727363586 and parameters: {'max_depth': 35, 'n_estimators': 600, 'learning_rate': 0.07272248117422754, 'subsample': 0.3884363484855911, 'colsample_bytree': 0.566317979177833, 'min_child_weight': 11}. Best is trial 14 with value: 0.893441915512085.\n",
      "[I 2025-04-19 16:32:56,487] Trial 37 finished with value: 0.8662474751472473 and parameters: {'max_depth': 10, 'n_estimators': 900, 'learning_rate': 0.18832324719145999, 'subsample': 0.8632695240930812, 'colsample_bytree': 0.9277044593958033, 'min_child_weight': 13}. Best is trial 14 with value: 0.893441915512085.\n",
      "[I 2025-04-19 16:32:57,140] Trial 38 finished with value: 0.844720721244812 and parameters: {'max_depth': 35, 'n_estimators': 700, 'learning_rate': 0.11201956076951576, 'subsample': 0.05109523443661723, 'colsample_bytree': 0.8423602459039132, 'min_child_weight': 9}. Best is trial 14 with value: 0.893441915512085.\n",
      "[I 2025-04-19 16:32:59,063] Trial 39 finished with value: 0.8794525861740112 and parameters: {'max_depth': 45, 'n_estimators': 800, 'learning_rate': 0.051131687358204995, 'subsample': 0.4394293431086891, 'colsample_bytree': 0.22057854462466053, 'min_child_weight': 7}. Best is trial 14 with value: 0.893441915512085.\n",
      "[I 2025-04-19 16:32:59,297] Trial 40 finished with value: 0.795715868473053 and parameters: {'max_depth': 25, 'n_estimators': 350, 'learning_rate': 0.3356542212361943, 'subsample': 0.33649583252394183, 'colsample_bytree': 0.15188230059678576, 'min_child_weight': 18}. Best is trial 14 with value: 0.893441915512085.\n",
      "[I 2025-04-19 16:32:59,777] Trial 41 finished with value: 0.8620821833610535 and parameters: {'max_depth': 45, 'n_estimators': 850, 'learning_rate': 0.04530113850903436, 'subsample': 0.4477529943070119, 'colsample_bytree': 0.053067650496225194, 'min_child_weight': 6}. Best is trial 14 with value: 0.893441915512085.\n",
      "[I 2025-04-19 16:33:00,504] Trial 42 finished with value: 0.8072306513786316 and parameters: {'max_depth': 40, 'n_estimators': 800, 'learning_rate': 0.002238905119621694, 'subsample': 0.6987557817713789, 'colsample_bytree': 0.2841838098437235, 'min_child_weight': 10}. Best is trial 14 with value: 0.893441915512085.\n",
      "[I 2025-04-19 16:33:01,102] Trial 43 finished with value: 0.8717135190963745 and parameters: {'max_depth': 50, 'n_estimators': 550, 'learning_rate': 0.0537881479473611, 'subsample': 0.5842714536657186, 'colsample_bytree': 0.1155109895629724, 'min_child_weight': 7}. Best is trial 14 with value: 0.893441915512085.\n",
      "[I 2025-04-19 16:33:02,310] Trial 44 finished with value: 0.8345136642456055 and parameters: {'max_depth': 45, 'n_estimators': 950, 'learning_rate': 0.14143483210573793, 'subsample': 0.5584785833012863, 'colsample_bytree': 0.17017010213474948, 'min_child_weight': 4}. Best is trial 14 with value: 0.893441915512085.\n",
      "[I 2025-04-19 16:33:03,281] Trial 45 finished with value: -1070.3787841796875 and parameters: {'max_depth': 40, 'n_estimators': 650, 'learning_rate': 0.8781753316844731, 'subsample': 0.30280602004395085, 'colsample_bytree': 0.458095575270862, 'min_child_weight': 8}. Best is trial 14 with value: 0.893441915512085.\n",
      "[I 2025-04-19 16:33:04,443] Trial 46 finished with value: 0.8412600159645081 and parameters: {'max_depth': 50, 'n_estimators': 800, 'learning_rate': 0.2400794105022469, 'subsample': 0.6387510029465856, 'colsample_bytree': 0.2550569257031116, 'min_child_weight': 14}. Best is trial 14 with value: 0.893441915512085.\n",
      "[I 2025-04-19 16:33:07,770] Trial 47 finished with value: 0.8731151819229126 and parameters: {'max_depth': 45, 'n_estimators': 950, 'learning_rate': 0.08772492416925073, 'subsample': 0.8862498920167339, 'colsample_bytree': 0.5150875197370125, 'min_child_weight': 15}. Best is trial 14 with value: 0.893441915512085.\n",
      "[I 2025-04-19 16:33:08,649] Trial 48 finished with value: 0.8818830847740173 and parameters: {'max_depth': 40, 'n_estimators': 600, 'learning_rate': 0.04231525258843978, 'subsample': 0.46507356867953487, 'colsample_bytree': 0.35066081541859, 'min_child_weight': 10}. Best is trial 14 with value: 0.893441915512085.\n",
      "[I 2025-04-19 16:33:09,209] Trial 49 finished with value: 0.8397667407989502 and parameters: {'max_depth': 40, 'n_estimators': 600, 'learning_rate': 0.20611878923463883, 'subsample': 0.544228150770709, 'colsample_bytree': 0.3593182767629243, 'min_child_weight': 13}. Best is trial 14 with value: 0.893441915512085.\n",
      "[I 2025-04-19 16:33:09,798] Trial 50 finished with value: 0.8688954710960388 and parameters: {'max_depth': 30, 'n_estimators': 400, 'learning_rate': 0.4194352489937557, 'subsample': 0.786549186548942, 'colsample_bytree': 0.4264709217534543, 'min_child_weight': 11}. Best is trial 14 with value: 0.893441915512085.\n",
      "[I 2025-04-19 16:33:10,620] Trial 51 finished with value: 0.8860290050506592 and parameters: {'max_depth': 45, 'n_estimators': 750, 'learning_rate': 0.039552741482835496, 'subsample': 0.45042617826480497, 'colsample_bytree': 0.49288889823737914, 'min_child_weight': 9}. Best is trial 14 with value: 0.893441915512085.\n",
      "[I 2025-04-19 16:33:11,981] Trial 52 finished with value: 0.8921574950218201 and parameters: {'max_depth': 25, 'n_estimators': 750, 'learning_rate': 0.031560628388691545, 'subsample': 0.48290213719694536, 'colsample_bytree': 0.48835200280345076, 'min_child_weight': 10}. Best is trial 14 with value: 0.893441915512085.\n",
      "[I 2025-04-19 16:33:13,342] Trial 53 finished with value: 0.8857589960098267 and parameters: {'max_depth': 25, 'n_estimators': 750, 'learning_rate': 0.03262018808268341, 'subsample': 0.49065004932502415, 'colsample_bytree': 0.5604073390218354, 'min_child_weight': 10}. Best is trial 14 with value: 0.893441915512085.\n",
      "[I 2025-04-19 16:33:14,481] Trial 54 finished with value: 0.7598170638084412 and parameters: {'max_depth': 25, 'n_estimators': 750, 'learning_rate': 0.5518363135415677, 'subsample': 0.4863108986413014, 'colsample_bytree': 0.49199506482577976, 'min_child_weight': 10}. Best is trial 14 with value: 0.893441915512085.\n",
      "[I 2025-04-19 16:33:15,417] Trial 55 finished with value: 0.8813818693161011 and parameters: {'max_depth': 20, 'n_estimators': 700, 'learning_rate': 0.03199513756922341, 'subsample': 0.4268668012982107, 'colsample_bytree': 0.5632163509205844, 'min_child_weight': 9}. Best is trial 14 with value: 0.893441915512085.\n",
      "[I 2025-04-19 16:33:16,442] Trial 56 finished with value: 0.8264266848564148 and parameters: {'max_depth': 25, 'n_estimators': 750, 'learning_rate': 0.14605693443088608, 'subsample': 0.34542517286773944, 'colsample_bytree': 0.677912280712581, 'min_child_weight': 12}. Best is trial 14 with value: 0.893441915512085.\n",
      "[I 2025-04-19 16:33:17,561] Trial 57 finished with value: 0.883796215057373 and parameters: {'max_depth': 20, 'n_estimators': 900, 'learning_rate': 0.026156350927350323, 'subsample': 0.5214037010186316, 'colsample_bytree': 0.6248035916380029, 'min_child_weight': 9}. Best is trial 14 with value: 0.893441915512085.\n",
      "[I 2025-04-19 16:33:18,527] Trial 58 finished with value: 0.8561768531799316 and parameters: {'max_depth': 25, 'n_estimators': 850, 'learning_rate': 0.11358918464381847, 'subsample': 0.38856049010386173, 'colsample_bytree': 0.48328750699029543, 'min_child_weight': 8}. Best is trial 14 with value: 0.893441915512085.\n",
      "[I 2025-04-19 16:33:19,991] Trial 59 finished with value: 0.6042876839637756 and parameters: {'max_depth': 20, 'n_estimators': 650, 'learning_rate': 0.9981511471965507, 'subsample': 0.6813974118256013, 'colsample_bytree': 0.5359285704658184, 'min_child_weight': 14}. Best is trial 14 with value: 0.893441915512085.\n",
      "[I 2025-04-19 16:33:20,902] Trial 60 finished with value: 0.34552425146102905 and parameters: {'max_depth': 25, 'n_estimators': 700, 'learning_rate': 0.0004610852652148466, 'subsample': 0.2323878954426703, 'colsample_bytree': 0.7478935811228246, 'min_child_weight': 11}. Best is trial 14 with value: 0.893441915512085.\n",
      "[I 2025-04-19 16:33:22,132] Trial 61 finished with value: 0.8860577344894409 and parameters: {'max_depth': 15, 'n_estimators': 800, 'learning_rate': 0.028895120018971508, 'subsample': 0.4941821840666541, 'colsample_bytree': 0.6097184580171275, 'min_child_weight': 9}. Best is trial 14 with value: 0.893441915512085.\n",
      "[I 2025-04-19 16:33:23,177] Trial 62 finished with value: 0.8819506764411926 and parameters: {'max_depth': 10, 'n_estimators': 750, 'learning_rate': 0.07330566278972883, 'subsample': 0.48876528267092645, 'colsample_bytree': 0.5861709908092589, 'min_child_weight': 6}. Best is trial 14 with value: 0.893441915512085.\n",
      "[I 2025-04-19 16:33:24,387] Trial 63 finished with value: 0.8614059686660767 and parameters: {'max_depth': 15, 'n_estimators': 800, 'learning_rate': 0.15866010299171, 'subsample': 0.5522610796549345, 'colsample_bytree': 0.6482121531236775, 'min_child_weight': 10}. Best is trial 14 with value: 0.893441915512085.\n",
      "[I 2025-04-19 16:33:25,951] Trial 64 finished with value: 0.8660523891448975 and parameters: {'max_depth': 15, 'n_estimators': 900, 'learning_rate': 0.09642415258554221, 'subsample': 0.5026689095233993, 'colsample_bytree': 0.5178995785488868, 'min_child_weight': 7}. Best is trial 14 with value: 0.893441915512085.\n",
      "[I 2025-04-19 16:33:27,021] Trial 65 finished with value: 0.8797913789749146 and parameters: {'max_depth': 15, 'n_estimators': 750, 'learning_rate': 0.039847953406552165, 'subsample': 0.4708377558376586, 'colsample_bytree': 0.7100798284049462, 'min_child_weight': 9}. Best is trial 14 with value: 0.893441915512085.\n",
      "[I 2025-04-19 16:33:27,953] Trial 66 finished with value: 0.8772414326667786 and parameters: {'max_depth': 30, 'n_estimators': 850, 'learning_rate': 0.027274331062213743, 'subsample': 0.4196226045370151, 'colsample_bytree': 0.6388880079103911, 'min_child_weight': 12}. Best is trial 14 with value: 0.893441915512085.\n",
      "[I 2025-04-19 16:33:29,837] Trial 67 finished with value: 0.8706657886505127 and parameters: {'max_depth': 50, 'n_estimators': 800, 'learning_rate': 0.11589209902914493, 'subsample': 0.7323765763826702, 'colsample_bytree': 0.5930156660468883, 'min_child_weight': 8}. Best is trial 14 with value: 0.893441915512085.\n",
      "[I 2025-04-19 16:33:30,671] Trial 68 finished with value: 0.3176040053367615 and parameters: {'max_depth': 30, 'n_estimators': 700, 'learning_rate': 0.7700922324433112, 'subsample': 0.36709902520318705, 'colsample_bytree': 0.6797188540470831, 'min_child_weight': 15}. Best is trial 14 with value: 0.893441915512085.\n",
      "[I 2025-04-19 16:33:31,654] Trial 69 finished with value: 0.8795050382614136 and parameters: {'max_depth': 10, 'n_estimators': 750, 'learning_rate': 0.07507400243425087, 'subsample': 0.6296005541537755, 'colsample_bytree': 0.9565517367613978, 'min_child_weight': 16}. Best is trial 14 with value: 0.893441915512085.\n",
      "[I 2025-04-19 16:33:33,503] Trial 70 finished with value: 0.8532872200012207 and parameters: {'max_depth': 20, 'n_estimators': 950, 'learning_rate': 0.16556702614669175, 'subsample': 0.5390959217040954, 'colsample_bytree': 0.5575836811151417, 'min_child_weight': 13}. Best is trial 14 with value: 0.893441915512085.\n",
      "[I 2025-04-19 16:33:35,200] Trial 71 finished with value: 0.8878167271614075 and parameters: {'max_depth': 20, 'n_estimators': 900, 'learning_rate': 0.017409646421924215, 'subsample': 0.5189869340453833, 'colsample_bytree': 0.6176572411365657, 'min_child_weight': 8}. Best is trial 14 with value: 0.893441915512085.\n",
      "[I 2025-04-19 16:33:36,855] Trial 72 finished with value: 0.8808947801589966 and parameters: {'max_depth': 20, 'n_estimators': 900, 'learning_rate': 0.022091729916728857, 'subsample': 0.6038246186292391, 'colsample_bytree': 0.7505709898226498, 'min_child_weight': 8}. Best is trial 14 with value: 0.893441915512085.\n",
      "[I 2025-04-19 16:33:37,774] Trial 73 finished with value: 0.2856537103652954 and parameters: {'max_depth': 15, 'n_estimators': 850, 'learning_rate': 0.00028178632558946773, 'subsample': 0.5134912618356356, 'colsample_bytree': 0.5809216189393286, 'min_child_weight': 9}. Best is trial 14 with value: 0.893441915512085.\n",
      "[I 2025-04-19 16:33:38,696] Trial 74 finished with value: 0.8719699382781982 and parameters: {'max_depth': 25, 'n_estimators': 800, 'learning_rate': 0.06285390152728099, 'subsample': 0.4051150718545375, 'colsample_bytree': 0.8040381176303342, 'min_child_weight': 11}. Best is trial 14 with value: 0.893441915512085.\n",
      "[I 2025-04-19 16:33:39,955] Trial 75 finished with value: 0.8628268837928772 and parameters: {'max_depth': 15, 'n_estimators': 1000, 'learning_rate': 0.09093032657048378, 'subsample': 0.45231291938581564, 'colsample_bytree': 0.6962804421967971, 'min_child_weight': 6}. Best is trial 14 with value: 0.893441915512085.\n",
      "[I 2025-04-19 16:33:41,326] Trial 76 finished with value: 0.885595977306366 and parameters: {'max_depth': 20, 'n_estimators': 850, 'learning_rate': 0.05767538101865387, 'subsample': 0.5813770312485822, 'colsample_bytree': 0.8656452707858306, 'min_child_weight': 7}. Best is trial 14 with value: 0.893441915512085.\n",
      "[I 2025-04-19 16:33:42,870] Trial 77 finished with value: 0.8651946783065796 and parameters: {'max_depth': 45, 'n_estimators': 900, 'learning_rate': 0.12710119757163152, 'subsample': 0.46892138758890517, 'colsample_bytree': 0.47917995356549853, 'min_child_weight': 10}. Best is trial 14 with value: 0.893441915512085.\n",
      "[I 2025-04-19 16:33:44,779] Trial 78 finished with value: 0.8738781213760376 and parameters: {'max_depth': 25, 'n_estimators': 750, 'learning_rate': 0.02825560897610061, 'subsample': 0.6571182560169141, 'colsample_bytree': 0.6212155513762664, 'min_child_weight': 5}. Best is trial 14 with value: 0.893441915512085.\n",
      "[I 2025-04-19 16:33:46,413] Trial 79 finished with value: 0.8541189432144165 and parameters: {'max_depth': 50, 'n_estimators': 800, 'learning_rate': 0.1031288935932087, 'subsample': 0.4289255722596237, 'colsample_bytree': 0.5375311491887341, 'min_child_weight': 8}. Best is trial 14 with value: 0.893441915512085.\n",
      "[I 2025-04-19 16:33:47,292] Trial 80 finished with value: 0.8814076781272888 and parameters: {'max_depth': 45, 'n_estimators': 650, 'learning_rate': 0.06726344330638995, 'subsample': 0.7948484297923235, 'colsample_bytree': 0.38997182788144, 'min_child_weight': 12}. Best is trial 14 with value: 0.893441915512085.\n",
      "[I 2025-04-19 16:33:49,180] Trial 81 finished with value: 0.8806343078613281 and parameters: {'max_depth': 20, 'n_estimators': 850, 'learning_rate': 0.049013035781264064, 'subsample': 0.5798066761767403, 'colsample_bytree': 0.8604122139090365, 'min_child_weight': 7}. Best is trial 14 with value: 0.893441915512085.\n",
      "[I 2025-04-19 16:33:50,561] Trial 82 finished with value: 0.885877251625061 and parameters: {'max_depth': 20, 'n_estimators': 950, 'learning_rate': 0.016072811300711528, 'subsample': 0.5318454128133011, 'colsample_bytree': 0.892711440338868, 'min_child_weight': 7}. Best is trial 14 with value: 0.893441915512085.\n",
      "[I 2025-04-19 16:33:51,455] Trial 83 finished with value: 0.32777178287506104 and parameters: {'max_depth': 20, 'n_estimators': 950, 'learning_rate': 0.0002882630965445332, 'subsample': 0.5379032275169877, 'colsample_bytree': 0.8907532781593712, 'min_child_weight': 9}. Best is trial 14 with value: 0.893441915512085.\n",
      "[I 2025-04-19 16:33:52,708] Trial 84 finished with value: 0.8848273754119873 and parameters: {'max_depth': 15, 'n_estimators': 950, 'learning_rate': 0.019758382852908082, 'subsample': 0.5090965766576606, 'colsample_bytree': 0.9684690886806022, 'min_child_weight': 8}. Best is trial 14 with value: 0.893441915512085.\n",
      "[I 2025-04-19 16:33:53,644] Trial 85 finished with value: 0.8741958737373352 and parameters: {'max_depth': 25, 'n_estimators': 700, 'learning_rate': 0.09472524427706748, 'subsample': 0.49298688495646514, 'colsample_bytree': 0.9324006763768619, 'min_child_weight': 11}. Best is trial 14 with value: 0.893441915512085.\n",
      "[I 2025-04-19 16:33:55,340] Trial 86 finished with value: 0.8331047892570496 and parameters: {'max_depth': 45, 'n_estimators': 1000, 'learning_rate': 0.2663718254916695, 'subsample': 0.3958073054253753, 'colsample_bytree': 0.8230068542642724, 'min_child_weight': 5}. Best is trial 14 with value: 0.893441915512085.\n",
      "[I 2025-04-19 16:33:56,639] Trial 87 finished with value: 0.8821854591369629 and parameters: {'max_depth': 20, 'n_estimators': 900, 'learning_rate': 0.042359315976658624, 'subsample': 0.5646758744335385, 'colsample_bytree': 0.767765148852361, 'min_child_weight': 9}. Best is trial 14 with value: 0.893441915512085.\n",
      "[I 2025-04-19 16:33:56,948] Trial 88 finished with value: 0.8607635498046875 and parameters: {'max_depth': 25, 'n_estimators': 200, 'learning_rate': 0.21793827695010598, 'subsample': 0.612910946514722, 'colsample_bytree': 0.7249418566678734, 'min_child_weight': 10}. Best is trial 14 with value: 0.893441915512085.\n",
      "[I 2025-04-19 16:33:58,267] Trial 89 finished with value: 0.8600000739097595 and parameters: {'max_depth': 35, 'n_estimators': 800, 'learning_rate': 0.17777159145285842, 'subsample': 0.44601969306225986, 'colsample_bytree': 0.66686468798754, 'min_child_weight': 6}. Best is trial 14 with value: 0.893441915512085.\n",
      "[I 2025-04-19 16:33:59,156] Trial 90 finished with value: 0.8518283367156982 and parameters: {'max_depth': 50, 'n_estimators': 850, 'learning_rate': 0.1230070235235431, 'subsample': 0.3695094523364492, 'colsample_bytree': 0.5066939276333841, 'min_child_weight': 8}. Best is trial 14 with value: 0.893441915512085.\n",
      "[I 2025-04-19 16:34:00,485] Trial 91 finished with value: 0.8772913217544556 and parameters: {'max_depth': 20, 'n_estimators': 850, 'learning_rate': 0.06555730882444721, 'subsample': 0.5292782255167253, 'colsample_bytree': 0.8918313136813489, 'min_child_weight': 7}. Best is trial 14 with value: 0.893441915512085.\n",
      "[I 2025-04-19 16:34:01,802] Trial 92 finished with value: 0.8829062581062317 and parameters: {'max_depth': 20, 'n_estimators': 900, 'learning_rate': 0.01914276044746102, 'subsample': 0.5830227690753996, 'colsample_bytree': 0.8694280913070155, 'min_child_weight': 7}. Best is trial 14 with value: 0.893441915512085.\n",
      "[I 2025-04-19 16:34:02,695] Trial 93 finished with value: 0.8880929350852966 and parameters: {'max_depth': 15, 'n_estimators': 750, 'learning_rate': 0.05508114495328953, 'subsample': 0.4778950955102106, 'colsample_bytree': 0.8405023394516844, 'min_child_weight': 10}. Best is trial 14 with value: 0.893441915512085.\n",
      "[I 2025-04-19 16:34:03,380] Trial 94 finished with value: 0.8752713203430176 and parameters: {'max_depth': 10, 'n_estimators': 750, 'learning_rate': 0.08060886896839259, 'subsample': 0.484318524212216, 'colsample_bytree': 0.9202370819318211, 'min_child_weight': 10}. Best is trial 14 with value: 0.893441915512085.\n",
      "[I 2025-04-19 16:34:04,138] Trial 95 finished with value: 0.8865964412689209 and parameters: {'max_depth': 15, 'n_estimators': 700, 'learning_rate': 0.04120037210517673, 'subsample': 0.914754686533902, 'colsample_bytree': 0.4323939297567791, 'min_child_weight': 11}. Best is trial 14 with value: 0.893441915512085.\n",
      "[I 2025-04-19 16:34:04,950] Trial 96 finished with value: 0.8699148893356323 and parameters: {'max_depth': 15, 'n_estimators': 700, 'learning_rate': 0.14694309321482224, 'subsample': 0.8209788439241686, 'colsample_bytree': 0.4174822235500949, 'min_child_weight': 14}. Best is trial 14 with value: 0.893441915512085.\n",
      "[I 2025-04-19 16:34:05,804] Trial 97 finished with value: 0.8760758638381958 and parameters: {'max_depth': 15, 'n_estimators': 800, 'learning_rate': 0.04758064510606114, 'subsample': 0.8937374614031182, 'colsample_bytree': 0.4452040467030654, 'min_child_weight': 13}. Best is trial 14 with value: 0.893441915512085.\n",
      "[I 2025-04-19 16:34:06,577] Trial 98 finished with value: 0.8911675810813904 and parameters: {'max_depth': 15, 'n_estimators': 700, 'learning_rate': 0.013355218474437054, 'subsample': 0.6945313415947748, 'colsample_bytree': 0.7959380402680362, 'min_child_weight': 15}. Best is trial 14 with value: 0.893441915512085.\n",
      "[I 2025-04-19 16:34:07,156] Trial 99 finished with value: 0.8686196208000183 and parameters: {'max_depth': 10, 'n_estimators': 650, 'learning_rate': 0.10687742806341909, 'subsample': 0.906460482532121, 'colsample_bytree': 0.7784262656473767, 'min_child_weight': 16}. Best is trial 14 with value: 0.893441915512085.\n"
     ]
    }
   ],
   "source": [
    "# XGBoost\n",
    "study_xgb = optuna.create_study(direction = \"maximize\")\n",
    "func = lambda trial: objective_xgb(trial, X_train, X_valid, y_train, y_valid)\n",
    "study_xgb.optimize(func, n_trials = 100, timeout=600)\n",
    "xgb_model = XGBRegressor(**study_xgb.best_trial.params).fit(X_train_valid, y_train_valid)"
   ]
  },
  {
   "cell_type": "code",
   "execution_count": 12,
   "id": "b27e736c-b1a8-445c-b901-8b6fecbe88cb",
   "metadata": {},
   "outputs": [],
   "source": [
    "y_pred_test = xgb_model.predict(X_test)\n",
    "r2_value = r2_score(y_test, y_pred_test)\n",
    "rmse_value = root_mean_squared_error(y_test, y_pred_test)"
   ]
  },
  {
   "cell_type": "code",
   "execution_count": 13,
   "id": "4c070e84-2aae-4ee9-96f8-4116939139aa",
   "metadata": {},
   "outputs": [
    {
     "name": "stdout",
     "output_type": "stream",
     "text": [
      "R2 Score: 0.8579399585723877\n",
      "RMSE Score: 30561.904296875\n"
     ]
    }
   ],
   "source": [
    "print(f\"R2 Score: {r2_value}\")\n",
    "print(f\"RMSE Score: {rmse_value}\")"
   ]
  },
  {
   "cell_type": "code",
   "execution_count": 14,
   "id": "42de7a00-5119-4062-b599-8db35967983c",
   "metadata": {},
   "outputs": [
    {
     "data": {
      "image/png": "[encoded data removed]",
      "text/plain": [
       "<Figure size 500x500 with 1 Axes>"
      ]
     },
     "metadata": {},
     "output_type": "display_data"
    }
   ],
   "source": [
    "plt.figure(figsize=(5, 5))\n",
    "pf = sns.scatterplot(x=y_pred_test.flatten(), y=y_test.to_numpy().flatten(), legend=\"full\")\n",
    "plt.plot(y_test.to_numpy().flatten(), y_test.to_numpy().flatten(), color=\"red\", linewidth=3)\n",
    "plt.title(f\"XGB Regressor (R2={r2_value:.2f})\")\n",
    "pf.set_xlabel(\"Predicted Price\",fontsize=16)\n",
    "pf.set_ylabel(\"Real Price\",fontsize=16)\n",
    "plt.xticks(rotation=90);"
   ]
  },
  {
   "cell_type": "markdown",
   "id": "2ca01f14-f5c5-4b07-b54a-7180bcacdce9",
   "metadata": {},
   "source": [
    "# <center> Using an XGBoost Regressor,<br> the sale price prediction deviates on average <br> <ins> +/- $31k </ins><br>from the real sale price."
   ]
  },
  {
   "cell_type": "markdown",
   "id": "e08679e9-6cc0-4e58-9d6a-60812475207f",
   "metadata": {},
   "source": [
    "# 5. Save Models"
   ]
  },
  {
   "cell_type": "code",
   "execution_count": 15,
   "id": "bc3bf54a-d613-4ee6-bdab-11437e28c3d9",
   "metadata": {},
   "outputs": [
    {
     "data": {
      "text/plain": [
       "['models/LinearRegressorModel.bin']"
      ]
     },
     "execution_count": 15,
     "metadata": {},
     "output_type": "execute_result"
    }
   ],
   "source": [
    "lr_path = models_path / \"LinearRegressorModel.bin\"\n",
    "joblib.dump(lr_model, lr_path, compress=True)"
   ]
  },
  {
   "cell_type": "code",
   "execution_count": 16,
   "id": "4cda2428-85c6-4e2d-aab2-a470202e1739",
   "metadata": {},
   "outputs": [],
   "source": [
    "xgb_path = models_path / \"XGBRegressorModel.json\"\n",
    "xgb_model.save_model(xgb_path)"
   ]
  },
  {
   "cell_type": "code",
   "execution_count": null,
   "id": "51d262f1-6252-4980-a76a-dc5da85ccede",
   "metadata": {},
   "outputs": [],
   "source": []
  }
 ],
 "metadata": {
  "kernelspec": {
   "display_name": "Python 3 (ipykernel)",
   "language": "python",
   "name": "python3"
  },
  "language_info": {
   "codemirror_mode": {
    "name": "ipython",
    "version": 3
   },
   "file_extension": ".py",
   "mimetype": "text/x-python",
   "name": "python",
   "nbconvert_exporter": "python",
   "pygments_lexer": "ipython3",
   "version": "3.12.3"
  }
 },
 "nbformat": 4,
 "nbformat_minor": 5
}
