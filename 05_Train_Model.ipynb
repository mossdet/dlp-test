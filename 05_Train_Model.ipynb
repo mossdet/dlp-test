{
 "cells": [
  {
   "cell_type": "markdown",
   "id": "c248b0e7-b313-45de-a5b5-4a32576fc2d0",
   "metadata": {},
   "source": [
    "<img style=\"float: right;\" src=\"img/openhouse_logo.png\" width=\"200\" height=\"200\"/><br>\n",
    "\n",
    "# <center> <ins> House Price Prediction Coding Test <br><br> 5. Train and Test Model <ins> </center>\n",
    "### <center>by: Daniel Lachner-Piza, PhD <br> for: OpenHouse.ai </center>\n",
    "\n",
    "\n"
   ]
  },
  {
   "cell_type": "code",
   "execution_count": 1,
   "id": "5791fa66-60ba-4017-a1d1-1d4c4250e94a",
   "metadata": {},
   "outputs": [
    {
     "name": "stderr",
     "output_type": "stream",
     "text": [
      "/home/dlp/Development/OpenHouseAI_TechTask1/dlp-test/.venv/lib/python3.12/site-packages/tqdm/auto.py:21: TqdmWarning: IProgress not found. Please update jupyter and ipywidgets. See https://ipywidgets.readthedocs.io/en/stable/user_install.html\n",
      "  from .autonotebook import tqdm as notebook_tqdm\n"
     ]
    }
   ],
   "source": [
    "import os\n",
    "import joblib\n",
    "import pandas as pd\n",
    "import numpy as np\n",
    "import seaborn as sns\n",
    "import matplotlib.pyplot as plt\n",
    "import optuna\n",
    "\n",
    "from pathlib import Path\n",
    "from sklearn.linear_model import LinearRegression\n",
    "from sklearn.model_selection import train_test_split\n",
    "from sklearn.metrics import r2_score, root_mean_squared_error\n",
    "from xgboost import XGBRegressor\n",
    "\n",
    "EDA_FIG_SIZE = (3,3)\n",
    "models_path = Path(\"models\")\n",
    "os.makedirs(models_path, exist_ok=True)"
   ]
  },
  {
   "cell_type": "markdown",
   "id": "7b70b1b6-58c6-42e1-a1ed-f492a295ec5b",
   "metadata": {},
   "source": [
    "# <ins> 1.Data Loading <ins> "
   ]
  },
  {
   "cell_type": "code",
   "execution_count": 2,
   "id": "2439535d-affc-4446-88d4-b366aeb319ad",
   "metadata": {},
   "outputs": [],
   "source": [
    "clean_scaled_data_df = pd.read_csv(\"data/clean_scaled_dataset.csv\")\n",
    "y_df = pd.read_csv(\"data/target.csv\")"
   ]
  },
  {
   "cell_type": "code",
   "execution_count": 3,
   "id": "be88fa1d-38cf-40dd-b58d-f157d83fc291",
   "metadata": {},
   "outputs": [
    {
     "data": {
      "text/html": [
       "<div>\n",
       "<style scoped>\n",
       "    .dataframe tbody tr th:only-of-type {\n",
       "        vertical-align: middle;\n",
       "    }\n",
       "\n",
       "    .dataframe tbody tr th {\n",
       "        vertical-align: top;\n",
       "    }\n",
       "\n",
       "    .dataframe thead th {\n",
       "        text-align: right;\n",
       "    }\n",
       "</style>\n",
       "<table border=\"1\" class=\"dataframe\">\n",
       "  <thead>\n",
       "    <tr style=\"text-align: right;\">\n",
       "      <th></th>\n",
       "      <th>LotArea</th>\n",
       "      <th>GrLivArea</th>\n",
       "      <th>YearBuilt</th>\n",
       "      <th>TotalBsmtSF</th>\n",
       "      <th>GarageArea</th>\n",
       "      <th>OverallQuality</th>\n",
       "      <th>OverallCondition</th>\n",
       "      <th>FullBath</th>\n",
       "      <th>HalfBath</th>\n",
       "      <th>GarageCars</th>\n",
       "      <th>...</th>\n",
       "      <th>SaleType_ConLw</th>\n",
       "      <th>SaleType_New</th>\n",
       "      <th>SaleType_Oth</th>\n",
       "      <th>SaleType_WD</th>\n",
       "      <th>SaleCondition_Abnorml</th>\n",
       "      <th>SaleCondition_AdjLand</th>\n",
       "      <th>SaleCondition_Alloca</th>\n",
       "      <th>SaleCondition_Family</th>\n",
       "      <th>SaleCondition_Normal</th>\n",
       "      <th>SaleCondition_Partial</th>\n",
       "    </tr>\n",
       "  </thead>\n",
       "  <tbody>\n",
       "    <tr>\n",
       "      <th>0</th>\n",
       "      <td>-0.174981</td>\n",
       "      <td>-0.357075</td>\n",
       "      <td>-0.469580</td>\n",
       "      <td>-0.954556</td>\n",
       "      <td>0.210489</td>\n",
       "      <td>-0.130274</td>\n",
       "      <td>0.389367</td>\n",
       "      <td>-1.056176</td>\n",
       "      <td>-0.785264</td>\n",
       "      <td>0.209788</td>\n",
       "      <td>...</td>\n",
       "      <td>-0.0548</td>\n",
       "      <td>-0.303967</td>\n",
       "      <td>-0.027369</td>\n",
       "      <td>0.388242</td>\n",
       "      <td>-0.257373</td>\n",
       "      <td>-0.027369</td>\n",
       "      <td>-0.091115</td>\n",
       "      <td>-0.123278</td>\n",
       "      <td>0.45722</td>\n",
       "      <td>-0.308354</td>\n",
       "    </tr>\n",
       "    <tr>\n",
       "      <th>1</th>\n",
       "      <td>-0.888561</td>\n",
       "      <td>-0.868571</td>\n",
       "      <td>-0.096071</td>\n",
       "      <td>-1.011578</td>\n",
       "      <td>-1.154649</td>\n",
       "      <td>-1.624231</td>\n",
       "      <td>2.230762</td>\n",
       "      <td>-1.056176</td>\n",
       "      <td>-0.785264</td>\n",
       "      <td>-1.382694</td>\n",
       "      <td>...</td>\n",
       "      <td>-0.0548</td>\n",
       "      <td>-0.303967</td>\n",
       "      <td>-0.027369</td>\n",
       "      <td>0.388242</td>\n",
       "      <td>-0.257373</td>\n",
       "      <td>-0.027369</td>\n",
       "      <td>-0.091115</td>\n",
       "      <td>-0.123278</td>\n",
       "      <td>0.45722</td>\n",
       "      <td>-0.308354</td>\n",
       "    </tr>\n",
       "    <tr>\n",
       "      <th>2</th>\n",
       "      <td>0.374700</td>\n",
       "      <td>0.313130</td>\n",
       "      <td>1.160276</td>\n",
       "      <td>-0.409426</td>\n",
       "      <td>0.906547</td>\n",
       "      <td>-0.130274</td>\n",
       "      <td>-0.531331</td>\n",
       "      <td>0.771610</td>\n",
       "      <td>1.205462</td>\n",
       "      <td>1.802270</td>\n",
       "      <td>...</td>\n",
       "      <td>-0.0548</td>\n",
       "      <td>-0.303967</td>\n",
       "      <td>-0.027369</td>\n",
       "      <td>0.388242</td>\n",
       "      <td>-0.257373</td>\n",
       "      <td>-0.027369</td>\n",
       "      <td>-0.091115</td>\n",
       "      <td>-0.123278</td>\n",
       "      <td>0.45722</td>\n",
       "      <td>-0.308354</td>\n",
       "    </tr>\n",
       "    <tr>\n",
       "      <th>3</th>\n",
       "      <td>-0.340233</td>\n",
       "      <td>-0.496739</td>\n",
       "      <td>-0.809133</td>\n",
       "      <td>-2.448532</td>\n",
       "      <td>-0.431612</td>\n",
       "      <td>-1.624231</td>\n",
       "      <td>-0.531331</td>\n",
       "      <td>0.771610</td>\n",
       "      <td>-0.785264</td>\n",
       "      <td>0.209788</td>\n",
       "      <td>...</td>\n",
       "      <td>-0.0548</td>\n",
       "      <td>-0.303967</td>\n",
       "      <td>-0.027369</td>\n",
       "      <td>0.388242</td>\n",
       "      <td>-0.257373</td>\n",
       "      <td>-0.027369</td>\n",
       "      <td>-0.091115</td>\n",
       "      <td>-0.123278</td>\n",
       "      <td>0.45722</td>\n",
       "      <td>-0.308354</td>\n",
       "    </tr>\n",
       "    <tr>\n",
       "      <th>4</th>\n",
       "      <td>-0.253258</td>\n",
       "      <td>-0.026053</td>\n",
       "      <td>-0.843088</td>\n",
       "      <td>1.107358</td>\n",
       "      <td>1.683542</td>\n",
       "      <td>-0.877252</td>\n",
       "      <td>0.389367</td>\n",
       "      <td>-1.056176</td>\n",
       "      <td>-0.785264</td>\n",
       "      <td>0.209788</td>\n",
       "      <td>...</td>\n",
       "      <td>-0.0548</td>\n",
       "      <td>-0.303967</td>\n",
       "      <td>-0.027369</td>\n",
       "      <td>-2.575711</td>\n",
       "      <td>-0.257373</td>\n",
       "      <td>-0.027369</td>\n",
       "      <td>-0.091115</td>\n",
       "      <td>-0.123278</td>\n",
       "      <td>0.45722</td>\n",
       "      <td>-0.308354</td>\n",
       "    </tr>\n",
       "  </tbody>\n",
       "</table>\n",
       "<p>5 rows × 61 columns</p>\n",
       "</div>"
      ],
      "text/plain": [
       "    LotArea  GrLivArea  YearBuilt  TotalBsmtSF  GarageArea  OverallQuality  \\\n",
       "0 -0.174981  -0.357075  -0.469580    -0.954556    0.210489       -0.130274   \n",
       "1 -0.888561  -0.868571  -0.096071    -1.011578   -1.154649       -1.624231   \n",
       "2  0.374700   0.313130   1.160276    -0.409426    0.906547       -0.130274   \n",
       "3 -0.340233  -0.496739  -0.809133    -2.448532   -0.431612       -1.624231   \n",
       "4 -0.253258  -0.026053  -0.843088     1.107358    1.683542       -0.877252   \n",
       "\n",
       "   OverallCondition  FullBath  HalfBath  GarageCars  ...  SaleType_ConLw  \\\n",
       "0          0.389367 -1.056176 -0.785264    0.209788  ...         -0.0548   \n",
       "1          2.230762 -1.056176 -0.785264   -1.382694  ...         -0.0548   \n",
       "2         -0.531331  0.771610  1.205462    1.802270  ...         -0.0548   \n",
       "3         -0.531331  0.771610 -0.785264    0.209788  ...         -0.0548   \n",
       "4          0.389367 -1.056176 -0.785264    0.209788  ...         -0.0548   \n",
       "\n",
       "   SaleType_New  SaleType_Oth  SaleType_WD  SaleCondition_Abnorml  \\\n",
       "0     -0.303967     -0.027369     0.388242              -0.257373   \n",
       "1     -0.303967     -0.027369     0.388242              -0.257373   \n",
       "2     -0.303967     -0.027369     0.388242              -0.257373   \n",
       "3     -0.303967     -0.027369     0.388242              -0.257373   \n",
       "4     -0.303967     -0.027369    -2.575711              -0.257373   \n",
       "\n",
       "   SaleCondition_AdjLand  SaleCondition_Alloca  SaleCondition_Family  \\\n",
       "0              -0.027369             -0.091115             -0.123278   \n",
       "1              -0.027369             -0.091115             -0.123278   \n",
       "2              -0.027369             -0.091115             -0.123278   \n",
       "3              -0.027369             -0.091115             -0.123278   \n",
       "4              -0.027369             -0.091115             -0.123278   \n",
       "\n",
       "   SaleCondition_Normal  SaleCondition_Partial  \n",
       "0               0.45722              -0.308354  \n",
       "1               0.45722              -0.308354  \n",
       "2               0.45722              -0.308354  \n",
       "3               0.45722              -0.308354  \n",
       "4               0.45722              -0.308354  \n",
       "\n",
       "[5 rows x 61 columns]"
      ]
     },
     "execution_count": 3,
     "metadata": {},
     "output_type": "execute_result"
    }
   ],
   "source": [
    "clean_scaled_data_df.head(5)"
   ]
  },
  {
   "cell_type": "code",
   "execution_count": 4,
   "id": "9d8821c7-7fc4-4667-ad04-6e6dc3f84e4a",
   "metadata": {},
   "outputs": [
    {
     "data": {
      "text/html": [
       "<div>\n",
       "<style scoped>\n",
       "    .dataframe tbody tr th:only-of-type {\n",
       "        vertical-align: middle;\n",
       "    }\n",
       "\n",
       "    .dataframe tbody tr th {\n",
       "        vertical-align: top;\n",
       "    }\n",
       "\n",
       "    .dataframe thead th {\n",
       "        text-align: right;\n",
       "    }\n",
       "</style>\n",
       "<table border=\"1\" class=\"dataframe\">\n",
       "  <thead>\n",
       "    <tr style=\"text-align: right;\">\n",
       "      <th></th>\n",
       "      <th>SalePrice</th>\n",
       "    </tr>\n",
       "  </thead>\n",
       "  <tbody>\n",
       "    <tr>\n",
       "      <th>0</th>\n",
       "      <td>159500</td>\n",
       "    </tr>\n",
       "    <tr>\n",
       "      <th>1</th>\n",
       "      <td>86000</td>\n",
       "    </tr>\n",
       "    <tr>\n",
       "      <th>2</th>\n",
       "      <td>214000</td>\n",
       "    </tr>\n",
       "    <tr>\n",
       "      <th>3</th>\n",
       "      <td>90000</td>\n",
       "    </tr>\n",
       "    <tr>\n",
       "      <th>4</th>\n",
       "      <td>153500</td>\n",
       "    </tr>\n",
       "  </tbody>\n",
       "</table>\n",
       "</div>"
      ],
      "text/plain": [
       "   SalePrice\n",
       "0     159500\n",
       "1      86000\n",
       "2     214000\n",
       "3      90000\n",
       "4     153500"
      ]
     },
     "execution_count": 4,
     "metadata": {},
     "output_type": "execute_result"
    }
   ],
   "source": [
    "y_df.head(5)"
   ]
  },
  {
   "cell_type": "markdown",
   "id": "995df59b-2884-46ba-b426-c88b57848d54",
   "metadata": {},
   "source": [
    "# <ins> 2. Partition Data <ins> "
   ]
  },
  {
   "cell_type": "code",
   "execution_count": 5,
   "id": "69238e53-99d7-411b-9e30-61207cd52b1e",
   "metadata": {},
   "outputs": [],
   "source": [
    "# X_train_valid, X_test, y_train_valid, y_test = train_test_split(clean_scaled_data_df, y_df, test_size=0.20, stratify=y, random_state=42)\n",
    "# X_train, X_valid, y_train, y_valid = train_test_split(X_train_valid, y_train_valid, test_size=0.40, stratify=y_train_valid, random_state=42)\n",
    "\n",
    "X_train_valid, X_test, y_train_valid, y_test = train_test_split(clean_scaled_data_df, y_df, test_size=0.20, random_state=42)\n",
    "X_train, X_valid, y_train, y_valid = train_test_split(X_train_valid, y_train_valid, test_size=0.20, random_state=42)"
   ]
  },
  {
   "cell_type": "code",
   "execution_count": 6,
   "id": "20eda334-90c9-4be0-a7af-350d080f45ba",
   "metadata": {},
   "outputs": [
    {
     "name": "stdout",
     "output_type": "stream",
     "text": [
      "Train-set size: (854, 61) --- Perecentage: 63.92\n",
      "Validation-set size: (214, 61) --- Perecentage: 16.02\n",
      "Test-set size: (268, 61) --- Perecentage: 20.06\n"
     ]
    }
   ],
   "source": [
    "print(f\"Train-set size: {X_train.shape} --- Perecentage: {100*X_train.shape[0]/clean_scaled_data_df.shape[0]:.2f}\")\n",
    "print(f\"Validation-set size: {X_valid.shape} --- Perecentage: {100*X_valid.shape[0]/clean_scaled_data_df.shape[0]:.2f}\")\n",
    "print(f\"Test-set size: {X_test.shape} --- Perecentage: {100*X_test.shape[0]/clean_scaled_data_df.shape[0]:.2f}\")"
   ]
  },
  {
   "cell_type": "code",
   "execution_count": null,
   "id": "f6dfc471-0094-448c-adfa-c9d0e116f804",
   "metadata": {},
   "outputs": [],
   "source": []
  },
  {
   "cell_type": "markdown",
   "id": "e658cb13-3761-4901-8aa3-d7f66647f842",
   "metadata": {},
   "source": [
    "# <ins>  3. Train Simple Linear Regressor <ins> "
   ]
  },
  {
   "cell_type": "code",
   "execution_count": 7,
   "id": "d86fd5a5-0637-4522-93ad-9773714c1017",
   "metadata": {},
   "outputs": [],
   "source": [
    "lr_model = LinearRegression().fit(X_train_valid, y_train_valid)\n",
    "y_pred_test = lr_model.predict(X_test)\n",
    "r2_value = r2_score(y_test, y_pred_test)\n",
    "rmse_value = root_mean_squared_error(y_test, y_pred_test)"
   ]
  },
  {
   "cell_type": "code",
   "execution_count": 8,
   "id": "6d746b54-db43-4c48-bc3a-f5c4fe950dbd",
   "metadata": {},
   "outputs": [
    {
     "name": "stdout",
     "output_type": "stream",
     "text": [
      "R2 Score: 0.7551370221609158\n",
      "RMSE Score: 40124.16442334738\n"
     ]
    }
   ],
   "source": [
    "print(f\"R2 Score: {r2_value}\")\n",
    "print(f\"RMSE Score: {rmse_value}\")"
   ]
  },
  {
   "cell_type": "markdown",
   "id": "592308dd-b5f7-4fb8-9121-165ed71b0633",
   "metadata": {},
   "source": [
    "# <center> Using a simple linear regression model,<br> the sale price prediction deviates on average <br> <ins> +/- $40k </ins><br>from the real sale price."
   ]
  },
  {
   "cell_type": "code",
   "execution_count": null,
   "id": "60c29db7-d3da-4544-8961-472857cf8ab3",
   "metadata": {},
   "outputs": [],
   "source": []
  },
  {
   "cell_type": "markdown",
   "id": "f5297089-4313-4df4-a77b-feef2b4eb526",
   "metadata": {},
   "source": [
    "# <ins>  4. Train XGBoost Regressor <ins> "
   ]
  },
  {
   "cell_type": "code",
   "execution_count": 9,
   "id": "982be7df-f5bf-475d-bbd6-e5f6ee0704dd",
   "metadata": {},
   "outputs": [],
   "source": [
    "# Objective function for hyperparameter tuning of XGBRegressor\n",
    "def objective_xgb(trial, X_train, X_valid, y_train, y_valid):\n",
    "    \n",
    "    params = {\n",
    "    \"objective\":\"reg:squarederror\",\n",
    "    \"max_depth\": trial.suggest_int(\"max_depth\", 10, 50, step=5),\n",
    "    \"n_estimators\": trial.suggest_int(\"n_estimators\", 100, 1000, step=50),\n",
    "    \"learning_rate\": trial.suggest_float(\"learning_rate\", 1e-6, 1, log=False),\n",
    "    \"subsample\": trial.suggest_float(\"subsample\", 0.05, 1.0),\n",
    "    \"colsample_bytree\": trial.suggest_float(\"colsample_bytree\", 0.05, 1.0),\n",
    "    \"min_child_weight\": trial.suggest_int(\"min_child_weight\", 1, 20),\n",
    "    }\n",
    "   \n",
    "    model = XGBRegressor(**params,random_state=42).fit(X_train, y_train)\n",
    "    y_predicted = model.predict(X_valid)\n",
    "    r2 = r2_score(y_valid, y_predicted)\n",
    "    \n",
    "    return r2"
   ]
  },
  {
   "cell_type": "code",
   "execution_count": 10,
   "id": "20cffb1b-de82-4029-a9ad-0d46e8531254",
   "metadata": {},
   "outputs": [
    {
     "name": "stderr",
     "output_type": "stream",
     "text": [
      "[I 2025-04-19 16:01:57,555] A new study created in memory with name: no-name-73f8599c-e13a-4659-b613-f4df4426509b\n",
      "[I 2025-04-19 16:01:59,190] Trial 0 finished with value: 0.8760290145874023 and parameters: {'max_depth': 45, 'n_estimators': 850, 'learning_rate': 0.08631047775400054, 'subsample': 0.6068944331245991, 'colsample_bytree': 0.3795446224395096, 'min_child_weight': 13}. Best is trial 0 with value: 0.8760290145874023.\n",
      "[I 2025-04-19 16:01:59,970] Trial 1 finished with value: 0.7459105253219604 and parameters: {'max_depth': 35, 'n_estimators': 750, 'learning_rate': 0.4754676132352626, 'subsample': 0.34254199508507377, 'colsample_bytree': 0.1950514225739136, 'min_child_weight': 17}. Best is trial 0 with value: 0.8760290145874023.\n",
      "[I 2025-04-19 16:02:00,265] Trial 2 finished with value: 0.8281064033508301 and parameters: {'max_depth': 20, 'n_estimators': 400, 'learning_rate': 0.23729147386368077, 'subsample': 0.29532723306095227, 'colsample_bytree': 0.25889503427310934, 'min_child_weight': 18}. Best is trial 0 with value: 0.8760290145874023.\n",
      "[I 2025-04-19 16:02:01,670] Trial 3 finished with value: 0.6467864513397217 and parameters: {'max_depth': 30, 'n_estimators': 550, 'learning_rate': 0.947734273793861, 'subsample': 0.715206620580692, 'colsample_bytree': 0.6465696128028244, 'min_child_weight': 10}. Best is trial 0 with value: 0.8760290145874023.\n",
      "[I 2025-04-19 16:02:02,524] Trial 4 finished with value: 0.386890709400177 and parameters: {'max_depth': 20, 'n_estimators': 750, 'learning_rate': 0.4473549247671833, 'subsample': 0.2063865644487402, 'colsample_bytree': 0.10728608684683319, 'min_child_weight': 7}. Best is trial 0 with value: 0.8760290145874023.\n",
      "[I 2025-04-19 16:02:03,391] Trial 5 finished with value: 0.46576422452926636 and parameters: {'max_depth': 35, 'n_estimators': 900, 'learning_rate': 0.8194193328778141, 'subsample': 0.47100765763742075, 'colsample_bytree': 0.06597168099684288, 'min_child_weight': 15}. Best is trial 0 with value: 0.8760290145874023.\n",
      "[I 2025-04-19 16:02:04,182] Trial 6 finished with value: 0.8248298764228821 and parameters: {'max_depth': 20, 'n_estimators': 150, 'learning_rate': 0.5107677093320035, 'subsample': 0.7648689451012375, 'colsample_bytree': 0.41802836911717023, 'min_child_weight': 1}. Best is trial 0 with value: 0.8760290145874023.\n",
      "[I 2025-04-19 16:02:05,099] Trial 7 finished with value: 0.859793484210968 and parameters: {'max_depth': 40, 'n_estimators': 800, 'learning_rate': 0.07174949993065276, 'subsample': 0.5471251361942946, 'colsample_bytree': 0.5761527763859798, 'min_child_weight': 17}. Best is trial 0 with value: 0.8760290145874023.\n",
      "[I 2025-04-19 16:02:07,090] Trial 8 finished with value: 0.43700695037841797 and parameters: {'max_depth': 50, 'n_estimators': 500, 'learning_rate': 0.9166102840179897, 'subsample': 0.5516197500937787, 'colsample_bytree': 0.6979039646491955, 'min_child_weight': 2}. Best is trial 0 with value: 0.8760290145874023.\n",
      "[I 2025-04-19 16:02:07,446] Trial 9 finished with value: 0.8569802045822144 and parameters: {'max_depth': 45, 'n_estimators': 450, 'learning_rate': 0.05932866892257816, 'subsample': 0.5297775559154514, 'colsample_bytree': 0.09888651756830037, 'min_child_weight': 4}. Best is trial 0 with value: 0.8760290145874023.\n",
      "[I 2025-04-19 16:02:08,714] Trial 10 finished with value: 0.8543088436126709 and parameters: {'max_depth': 10, 'n_estimators': 1000, 'learning_rate': 0.2623307248187893, 'subsample': 0.9856633950455, 'colsample_bytree': 0.969946451770217, 'min_child_weight': 13}. Best is trial 0 with value: 0.8760290145874023.\n",
      "[I 2025-04-19 16:02:10,335] Trial 11 finished with value: 0.8971074223518372 and parameters: {'max_depth': 45, 'n_estimators': 750, 'learning_rate': 0.013724832376929522, 'subsample': 0.6968797609869642, 'colsample_bytree': 0.4470384192388953, 'min_child_weight': 12}. Best is trial 11 with value: 0.8971074223518372.\n",
      "[I 2025-04-19 16:02:11,462] Trial 12 finished with value: 0.5760886669158936 and parameters: {'max_depth': 50, 'n_estimators': 650, 'learning_rate': 0.0010686432588948164, 'subsample': 0.7677239947797551, 'colsample_bytree': 0.4016642513872905, 'min_child_weight': 11}. Best is trial 11 with value: 0.8971074223518372.\n",
      "[I 2025-04-19 16:02:12,110] Trial 13 finished with value: 0.7184479236602783 and parameters: {'max_depth': 45, 'n_estimators': 1000, 'learning_rate': 0.21817698356051007, 'subsample': 0.06499932525788876, 'colsample_bytree': 0.42440487985997505, 'min_child_weight': 9}. Best is trial 11 with value: 0.8971074223518372.\n",
      "[I 2025-04-19 16:02:13,575] Trial 14 finished with value: 0.8228649497032166 and parameters: {'max_depth': 40, 'n_estimators': 850, 'learning_rate': 0.6554868536152804, 'subsample': 0.9231912485927288, 'colsample_bytree': 0.7676500263596451, 'min_child_weight': 20}. Best is trial 11 with value: 0.8971074223518372.\n",
      "[I 2025-04-19 16:02:14,502] Trial 15 finished with value: 0.8733897805213928 and parameters: {'max_depth': 45, 'n_estimators': 650, 'learning_rate': 0.169328580842322, 'subsample': 0.6678696907326621, 'colsample_bytree': 0.35053644453206356, 'min_child_weight': 13}. Best is trial 11 with value: 0.8971074223518372.\n",
      "[I 2025-04-19 16:02:15,366] Trial 16 finished with value: 0.8299952745437622 and parameters: {'max_depth': 30, 'n_estimators': 300, 'learning_rate': 0.36642891597334554, 'subsample': 0.8467856480502899, 'colsample_bytree': 0.5131761427230906, 'min_child_weight': 7}. Best is trial 11 with value: 0.8971074223518372.\n",
      "[I 2025-04-19 16:02:16,190] Trial 17 finished with value: 0.8674995303153992 and parameters: {'max_depth': 40, 'n_estimators': 600, 'learning_rate': 0.1312154969441423, 'subsample': 0.6484968831736756, 'colsample_bytree': 0.28394804529801193, 'min_child_weight': 13}. Best is trial 11 with value: 0.8971074223518372.\n",
      "[I 2025-04-19 16:02:17,066] Trial 18 finished with value: 0.8005837798118591 and parameters: {'max_depth': 50, 'n_estimators': 700, 'learning_rate': 0.32828335467961783, 'subsample': 0.4391807908421734, 'colsample_bytree': 0.8317569149606405, 'min_child_weight': 15}. Best is trial 11 with value: 0.8971074223518372.\n",
      "[I 2025-04-19 16:02:19,011] Trial 19 finished with value: 0.7759138941764832 and parameters: {'max_depth': 25, 'n_estimators': 900, 'learning_rate': 0.6311194304094002, 'subsample': 0.8434220845445564, 'colsample_bytree': 0.5432364817817283, 'min_child_weight': 7}. Best is trial 11 with value: 0.8971074223518372.\n",
      "[I 2025-04-19 16:02:20,227] Trial 20 finished with value: 0.8925290107727051 and parameters: {'max_depth': 35, 'n_estimators': 850, 'learning_rate': 0.021339903780381864, 'subsample': 0.6011873854812355, 'colsample_bytree': 0.4738032086436482, 'min_child_weight': 11}. Best is trial 11 with value: 0.8971074223518372.\n",
      "[I 2025-04-19 16:02:21,061] Trial 21 finished with value: 0.7880857586860657 and parameters: {'max_depth': 35, 'n_estimators': 900, 'learning_rate': 0.0016163007600574764, 'subsample': 0.630709775986243, 'colsample_bytree': 0.48863197835864636, 'min_child_weight': 11}. Best is trial 11 with value: 0.8971074223518372.\n",
      "[I 2025-04-19 16:02:21,909] Trial 22 finished with value: 0.8752378225326538 and parameters: {'max_depth': 45, 'n_estimators': 800, 'learning_rate': 0.09827567985287004, 'subsample': 0.6100033732629532, 'colsample_bytree': 0.3232662956135286, 'min_child_weight': 9}. Best is trial 11 with value: 0.8971074223518372.\n",
      "[I 2025-04-19 16:02:22,838] Trial 23 finished with value: 0.8590524792671204 and parameters: {'max_depth': 40, 'n_estimators': 950, 'learning_rate': 0.15290369610892085, 'subsample': 0.36497592798384804, 'colsample_bytree': 0.6080802823237837, 'min_child_weight': 15}. Best is trial 11 with value: 0.8971074223518372.\n",
      "[I 2025-04-19 16:02:23,546] Trial 24 finished with value: 0.8604583740234375 and parameters: {'max_depth': 30, 'n_estimators': 750, 'learning_rate': 0.00475028603413322, 'subsample': 0.7247411955662102, 'colsample_bytree': 0.21708502523641832, 'min_child_weight': 12}. Best is trial 11 with value: 0.8971074223518372.\n",
      "[I 2025-04-19 16:02:24,481] Trial 25 finished with value: 0.8241838812828064 and parameters: {'max_depth': 35, 'n_estimators': 850, 'learning_rate': 0.3353018490419519, 'subsample': 0.43761860029308675, 'colsample_bytree': 0.44479508033767917, 'min_child_weight': 9}. Best is trial 11 with value: 0.8971074223518372.\n",
      "[I 2025-04-19 16:02:25,019] Trial 26 finished with value: 0.8666470050811768 and parameters: {'max_depth': 45, 'n_estimators': 650, 'learning_rate': 0.18625597323728432, 'subsample': 0.5875638632450474, 'colsample_bytree': 0.3481948218724238, 'min_child_weight': 14}. Best is trial 11 with value: 0.8971074223518372.\n",
      "[I 2025-04-19 16:02:26,776] Trial 27 finished with value: 0.8795703649520874 and parameters: {'max_depth': 50, 'n_estimators': 800, 'learning_rate': 0.08708385232841123, 'subsample': 0.82385853871202, 'colsample_bytree': 0.47596978914669047, 'min_child_weight': 5}. Best is trial 11 with value: 0.8971074223518372.\n",
      "[I 2025-04-19 16:02:28,378] Trial 28 finished with value: 0.8638665676116943 and parameters: {'max_depth': 50, 'n_estimators': 700, 'learning_rate': 0.27990090056165245, 'subsample': 0.8541794297355856, 'colsample_bytree': 0.481181189356464, 'min_child_weight': 4}. Best is trial 11 with value: 0.8971074223518372.\n",
      "[I 2025-04-19 16:02:30,447] Trial 29 finished with value: 0.8739199042320251 and parameters: {'max_depth': 50, 'n_estimators': 800, 'learning_rate': 0.09511260096391266, 'subsample': 0.7753210453701972, 'colsample_bytree': 0.6952689739857478, 'min_child_weight': 5}. Best is trial 11 with value: 0.8971074223518372.\n",
      "[I 2025-04-19 16:02:32,322] Trial 30 finished with value: 0.878674328327179 and parameters: {'max_depth': 40, 'n_estimators': 950, 'learning_rate': 0.07513254789916242, 'subsample': 0.9994971419870631, 'colsample_bytree': 0.6161527189342961, 'min_child_weight': 8}. Best is trial 11 with value: 0.8971074223518372.\n",
      "[I 2025-04-19 16:02:35,126] Trial 31 finished with value: 0.8768928647041321 and parameters: {'max_depth': 40, 'n_estimators': 950, 'learning_rate': 0.06637255251066569, 'subsample': 0.9886914409718115, 'colsample_bytree': 0.6203501162603395, 'min_child_weight': 6}. Best is trial 11 with value: 0.8971074223518372.\n",
      "[I 2025-04-19 16:02:36,578] Trial 32 finished with value: 0.8721818923950195 and parameters: {'max_depth': 45, 'n_estimators': 850, 'learning_rate': 0.1354941502394118, 'subsample': 0.9062094726531178, 'colsample_bytree': 0.5464089045466386, 'min_child_weight': 8}. Best is trial 11 with value: 0.8971074223518372.\n",
      "[I 2025-04-19 16:02:38,757] Trial 33 finished with value: 0.8797087669372559 and parameters: {'max_depth': 35, 'n_estimators': 950, 'learning_rate': 0.04580499575207188, 'subsample': 0.9250278935002325, 'colsample_bytree': 0.4723051436180469, 'min_child_weight': 10}. Best is trial 11 with value: 0.8971074223518372.\n",
      "[I 2025-04-19 16:02:39,735] Trial 34 finished with value: 0.8886882662773132 and parameters: {'max_depth': 25, 'n_estimators': 750, 'learning_rate': 0.03034676438068139, 'subsample': 0.69336129921696, 'colsample_bytree': 0.4893905291716984, 'min_child_weight': 10}. Best is trial 11 with value: 0.8971074223518372.\n",
      "[I 2025-04-19 16:02:40,783] Trial 35 finished with value: 0.8686777949333191 and parameters: {'max_depth': 25, 'n_estimators': 550, 'learning_rate': 0.1988101028282933, 'subsample': 0.6822991563084708, 'colsample_bytree': 0.37805159191188653, 'min_child_weight': 10}. Best is trial 11 with value: 0.8971074223518372.\n",
      "[I 2025-04-19 16:02:41,369] Trial 36 finished with value: 0.883857786655426 and parameters: {'max_depth': 25, 'n_estimators': 750, 'learning_rate': 0.03626212646554022, 'subsample': 0.46609492937861785, 'colsample_bytree': 0.2918356804687954, 'min_child_weight': 12}. Best is trial 11 with value: 0.8971074223518372.\n",
      "[I 2025-04-19 16:02:41,779] Trial 37 finished with value: 0.7972615957260132 and parameters: {'max_depth': 15, 'n_estimators': 700, 'learning_rate': 0.42207132533529396, 'subsample': 0.48690919407954475, 'colsample_bytree': 0.1482816749766237, 'min_child_weight': 12}. Best is trial 11 with value: 0.8971074223518372.\n",
      "[I 2025-04-19 16:02:42,096] Trial 38 finished with value: 0.6369997262954712 and parameters: {'max_depth': 25, 'n_estimators': 600, 'learning_rate': 0.5530508365075095, 'subsample': 0.35018532749189557, 'colsample_bytree': 0.25910168652532994, 'min_child_weight': 17}. Best is trial 11 with value: 0.8971074223518372.\n",
      "[I 2025-04-19 16:02:42,740] Trial 39 finished with value: 0.6666594743728638 and parameters: {'max_depth': 20, 'n_estimators': 750, 'learning_rate': 0.7897786283686414, 'subsample': 0.7234697955282375, 'colsample_bytree': 0.1815214018365821, 'min_child_weight': 11}. Best is trial 11 with value: 0.8971074223518372.\n",
      "[I 2025-04-19 16:02:43,018] Trial 40 finished with value: 0.8877882957458496 and parameters: {'max_depth': 25, 'n_estimators': 350, 'learning_rate': 0.02628244240635375, 'subsample': 0.29261915547524564, 'colsample_bytree': 0.32075059868834593, 'min_child_weight': 12}. Best is trial 11 with value: 0.8971074223518372.\n",
      "[I 2025-04-19 16:02:43,254] Trial 41 finished with value: 0.8800086975097656 and parameters: {'max_depth': 25, 'n_estimators': 350, 'learning_rate': 0.022098111809842017, 'subsample': 0.24316321645956335, 'colsample_bytree': 0.3003129250861147, 'min_child_weight': 12}. Best is trial 11 with value: 0.8971074223518372.\n",
      "[I 2025-04-19 16:02:43,358] Trial 42 finished with value: 0.8722637891769409 and parameters: {'max_depth': 25, 'n_estimators': 200, 'learning_rate': 0.12648246339267502, 'subsample': 0.1613397829172361, 'colsample_bytree': 0.2354758029363847, 'min_child_weight': 14}. Best is trial 11 with value: 0.8971074223518372.\n",
      "[I 2025-04-19 16:02:43,460] Trial 43 finished with value: 0.8819255828857422 and parameters: {'max_depth': 15, 'n_estimators': 100, 'learning_rate': 0.04886494680789155, 'subsample': 0.40430108367152984, 'colsample_bytree': 0.3913442464113177, 'min_child_weight': 14}. Best is trial 11 with value: 0.8971074223518372.\n",
      "[I 2025-04-19 16:02:43,970] Trial 44 finished with value: 0.8598483204841614 and parameters: {'max_depth': 30, 'n_estimators': 450, 'learning_rate': 0.23066178246985947, 'subsample': 0.5743949658688424, 'colsample_bytree': 0.35223460927164923, 'min_child_weight': 12}. Best is trial 11 with value: 0.8971074223518372.\n",
      "[I 2025-04-19 16:02:44,146] Trial 45 finished with value: 0.8770694136619568 and parameters: {'max_depth': 20, 'n_estimators': 250, 'learning_rate': 0.028882042164656774, 'subsample': 0.2827816482432871, 'colsample_bytree': 0.43694279062901614, 'min_child_weight': 16}. Best is trial 11 with value: 0.8971074223518372.\n",
      "[I 2025-04-19 16:02:45,188] Trial 46 finished with value: 0.8425222635269165 and parameters: {'max_depth': 30, 'n_estimators': 550, 'learning_rate': 0.11414556475907622, 'subsample': 0.14071520795933654, 'colsample_bytree': 0.3008991110361114, 'min_child_weight': 11}. Best is trial 11 with value: 0.8971074223518372.\n",
      "[I 2025-04-19 16:02:45,516] Trial 47 finished with value: 0.8483171463012695 and parameters: {'max_depth': 15, 'n_estimators': 450, 'learning_rate': 0.26251234096663106, 'subsample': 0.5138527034213527, 'colsample_bytree': 0.17493346013596955, 'min_child_weight': 10}. Best is trial 11 with value: 0.8971074223518372.\n",
      "[I 2025-04-19 16:02:46,784] Trial 48 finished with value: 0.8461285829544067 and parameters: {'max_depth': 20, 'n_estimators': 750, 'learning_rate': 0.17722090924307266, 'subsample': 0.2982403352926529, 'colsample_bytree': 0.5779546425525031, 'min_child_weight': 9}. Best is trial 11 with value: 0.8971074223518372.\n",
      "[I 2025-04-19 16:02:47,381] Trial 49 finished with value: 0.8467839956283569 and parameters: {'max_depth': 25, 'n_estimators': 600, 'learning_rate': 0.051133685131892107, 'subsample': 0.67581831319895, 'colsample_bytree': 0.05182672283052425, 'min_child_weight': 13}. Best is trial 11 with value: 0.8971074223518372.\n",
      "[I 2025-04-19 16:02:48,300] Trial 50 finished with value: 0.8681411147117615 and parameters: {'max_depth': 30, 'n_estimators': 350, 'learning_rate': 0.15267304746591878, 'subsample': 0.5452145334213537, 'colsample_bytree': 0.6790088436091218, 'min_child_weight': 8}. Best is trial 11 with value: 0.8971074223518372.\n",
      "[I 2025-04-19 16:02:48,611] Trial 51 finished with value: 0.8727007508277893 and parameters: {'max_depth': 15, 'n_estimators': 100, 'learning_rate': 0.05422147799900348, 'subsample': 0.3815526844000435, 'colsample_bytree': 0.38923568961885363, 'min_child_weight': 14}. Best is trial 11 with value: 0.8971074223518372.\n",
      "[I 2025-04-19 16:02:49,209] Trial 52 finished with value: 0.6090112924575806 and parameters: {'max_depth': 10, 'n_estimators': 200, 'learning_rate': 0.004235736891545341, 'subsample': 0.40461302746382455, 'colsample_bytree': 0.4074647126987436, 'min_child_weight': 13}. Best is trial 11 with value: 0.8971074223518372.\n",
      "[I 2025-04-19 16:02:49,391] Trial 53 finished with value: 0.8862285614013672 and parameters: {'max_depth': 20, 'n_estimators': 150, 'learning_rate': 0.09719151265659612, 'subsample': 0.46652896697559487, 'colsample_bytree': 0.37606677311262626, 'min_child_weight': 16}. Best is trial 11 with value: 0.8971074223518372.\n",
      "[I 2025-04-19 16:02:49,641] Trial 54 finished with value: 0.8722861409187317 and parameters: {'max_depth': 25, 'n_estimators': 250, 'learning_rate': 0.10104862920160303, 'subsample': 0.48963134099307365, 'colsample_bytree': 0.44892654517110975, 'min_child_weight': 19}. Best is trial 11 with value: 0.8971074223518372.\n",
      "[I 2025-04-19 16:02:49,895] Trial 55 finished with value: 0.4494480490684509 and parameters: {'max_depth': 20, 'n_estimators': 400, 'learning_rate': 0.0013557210089279736, 'subsample': 0.6207542868841484, 'colsample_bytree': 0.2601388628287039, 'min_child_weight': 17}. Best is trial 11 with value: 0.8971074223518372.\n",
      "[I 2025-04-19 16:02:50,456] Trial 56 finished with value: 0.8562139868736267 and parameters: {'max_depth': 30, 'n_estimators': 850, 'learning_rate': 0.11772949344303239, 'subsample': 0.32547441619713413, 'colsample_bytree': 0.5199986654910796, 'min_child_weight': 16}. Best is trial 11 with value: 0.8971074223518372.\n",
      "[I 2025-04-19 16:02:51,167] Trial 57 finished with value: 0.8799775242805481 and parameters: {'max_depth': 20, 'n_estimators': 700, 'learning_rate': 0.07330981330563148, 'subsample': 0.6976808106132485, 'colsample_bytree': 0.32569385115507377, 'min_child_weight': 11}. Best is trial 11 with value: 0.8971074223518372.\n",
      "[I 2025-04-19 16:02:53,428] Trial 58 finished with value: 0.8449440002441406 and parameters: {'max_depth': 25, 'n_estimators': 800, 'learning_rate': 0.2141877673775347, 'subsample': 0.4519197481805172, 'colsample_bytree': 0.5146555004183295, 'min_child_weight': 19}. Best is trial 11 with value: 0.8971074223518372.\n",
      "[I 2025-04-19 16:02:53,724] Trial 59 finished with value: 0.8900615572929382 and parameters: {'max_depth': 35, 'n_estimators': 150, 'learning_rate': 0.153623166916182, 'subsample': 0.7876713130626019, 'colsample_bytree': 0.3611056463362058, 'min_child_weight': 15}. Best is trial 11 with value: 0.8971074223518372.\n",
      "[I 2025-04-19 16:02:54,308] Trial 60 finished with value: 0.8764354586601257 and parameters: {'max_depth': 35, 'n_estimators': 200, 'learning_rate': 0.2995559141097686, 'subsample': 0.75942781919368, 'colsample_bytree': 0.5659798355525033, 'min_child_weight': 16}. Best is trial 11 with value: 0.8971074223518372.\n",
      "[I 2025-04-19 16:02:54,520] Trial 61 finished with value: 0.8829755783081055 and parameters: {'max_depth': 35, 'n_estimators': 150, 'learning_rate': 0.03275377163653789, 'subsample': 0.6391143468025801, 'colsample_bytree': 0.3485569588255225, 'min_child_weight': 18}. Best is trial 11 with value: 0.8971074223518372.\n",
      "[I 2025-04-19 16:02:55,224] Trial 62 finished with value: 0.8677732348442078 and parameters: {'max_depth': 30, 'n_estimators': 300, 'learning_rate': 0.1691318241980186, 'subsample': 0.788504473992774, 'colsample_bytree': 0.4194855249819208, 'min_child_weight': 15}. Best is trial 11 with value: 0.8971074223518372.\n",
      "[I 2025-04-19 16:02:55,374] Trial 63 finished with value: 0.8922327756881714 and parameters: {'max_depth': 25, 'n_estimators': 150, 'learning_rate': 0.08678329946394858, 'subsample': 0.5835841717725785, 'colsample_bytree': 0.3748152283611694, 'min_child_weight': 12}. Best is trial 11 with value: 0.8971074223518372.\n",
      "[I 2025-04-19 16:02:55,538] Trial 64 finished with value: 0.8832590579986572 and parameters: {'max_depth': 35, 'n_estimators': 150, 'learning_rate': 0.0931758947741123, 'subsample': 0.5736210618107638, 'colsample_bytree': 0.45753225360322214, 'min_child_weight': 10}. Best is trial 11 with value: 0.8971074223518372.\n",
      "[I 2025-04-19 16:02:55,696] Trial 65 finished with value: 0.8823333382606506 and parameters: {'max_depth': 20, 'n_estimators': 100, 'learning_rate': 0.14336524936057282, 'subsample': 0.7483544271305302, 'colsample_bytree': 0.37936918641642875, 'min_child_weight': 13}. Best is trial 11 with value: 0.8971074223518372.\n",
      "[I 2025-04-19 16:02:56,271] Trial 66 finished with value: 0.8983950614929199 and parameters: {'max_depth': 30, 'n_estimators': 250, 'learning_rate': 0.07162515175001896, 'subsample': 0.7986195192608949, 'colsample_bytree': 0.3600756755844707, 'min_child_weight': 15}. Best is trial 66 with value: 0.8983950614929199.\n",
      "[I 2025-04-19 16:02:56,585] Trial 67 finished with value: 0.8784915208816528 and parameters: {'max_depth': 30, 'n_estimators': 250, 'learning_rate': 0.06909656421271139, 'subsample': 0.8029780899124305, 'colsample_bytree': 0.4918020086485613, 'min_child_weight': 12}. Best is trial 66 with value: 0.8983950614929199.\n",
      "[I 2025-04-19 16:02:56,835] Trial 68 finished with value: 0.7193815112113953 and parameters: {'max_depth': 30, 'n_estimators': 300, 'learning_rate': 0.7885720029997, 'subsample': 0.6614279073118441, 'colsample_bytree': 0.33212983370373717, 'min_child_weight': 15}. Best is trial 66 with value: 0.8983950614929199.\n",
      "[I 2025-04-19 16:02:57,154] Trial 69 finished with value: 0.7337541580200195 and parameters: {'max_depth': 40, 'n_estimators': 200, 'learning_rate': 0.9124723805346469, 'subsample': 0.8709863424183484, 'colsample_bytree': 0.41841646055031584, 'min_child_weight': 9}. Best is trial 66 with value: 0.8983950614929199.\n",
      "[I 2025-04-19 16:02:57,374] Trial 70 finished with value: 0.8814387917518616 and parameters: {'max_depth': 35, 'n_estimators': 250, 'learning_rate': 0.02596195240734585, 'subsample': 0.7314872054596671, 'colsample_bytree': 0.22366278117621172, 'min_child_weight': 11}. Best is trial 66 with value: 0.8983950614929199.\n",
      "[I 2025-04-19 16:02:57,574] Trial 71 finished with value: 0.8818756937980652 and parameters: {'max_depth': 25, 'n_estimators': 150, 'learning_rate': 0.1021325095155435, 'subsample': 0.7029974944104822, 'colsample_bytree': 0.3603880741135396, 'min_child_weight': 16}. Best is trial 66 with value: 0.8983950614929199.\n",
      "[I 2025-04-19 16:02:57,674] Trial 72 finished with value: 0.889647901058197 and parameters: {'max_depth': 25, 'n_estimators': 100, 'learning_rate': 0.07615233609302552, 'subsample': 0.6085332683703755, 'colsample_bytree': 0.3150165070166957, 'min_child_weight': 14}. Best is trial 66 with value: 0.8983950614929199.\n",
      "[I 2025-04-19 16:02:57,852] Trial 73 finished with value: 0.8679383993148804 and parameters: {'max_depth': 25, 'n_estimators': 100, 'learning_rate': 0.15869411583749535, 'subsample': 0.5925312265096127, 'colsample_bytree': 0.27752518725135333, 'min_child_weight': 14}. Best is trial 66 with value: 0.8983950614929199.\n",
      "[I 2025-04-19 16:02:58,190] Trial 74 finished with value: 0.12277007102966309 and parameters: {'max_depth': 30, 'n_estimators': 150, 'learning_rate': 0.0006587937796914516, 'subsample': 0.8226206353126022, 'colsample_bytree': 0.4439687812526292, 'min_child_weight': 13}. Best is trial 66 with value: 0.8983950614929199.\n",
      "[I 2025-04-19 16:02:59,159] Trial 75 finished with value: 0.8721150159835815 and parameters: {'max_depth': 25, 'n_estimators': 900, 'learning_rate': 0.08028044656103911, 'subsample': 0.5242519058852402, 'colsample_bytree': 0.31504012236849055, 'min_child_weight': 15}. Best is trial 66 with value: 0.8983950614929199.\n",
      "[I 2025-04-19 16:02:59,595] Trial 76 finished with value: 0.8626298904418945 and parameters: {'max_depth': 35, 'n_estimators': 200, 'learning_rate': 0.19776057876145353, 'subsample': 0.613989574841183, 'colsample_bytree': 0.9892754579486134, 'min_child_weight': 14}. Best is trial 66 with value: 0.8983950614929199.\n",
      "[I 2025-04-19 16:02:59,980] Trial 77 finished with value: 0.8696359395980835 and parameters: {'max_depth': 40, 'n_estimators': 350, 'learning_rate': 0.13482444892279435, 'subsample': 0.5579886474051187, 'colsample_bytree': 0.9057581667886645, 'min_child_weight': 13}. Best is trial 66 with value: 0.8983950614929199.\n",
      "[I 2025-04-19 16:03:01,026] Trial 78 finished with value: 0.8098695278167725 and parameters: {'max_depth': 25, 'n_estimators': 500, 'learning_rate': 0.4105127511677685, 'subsample': 0.6590138901281744, 'colsample_bytree': 0.24278677501656948, 'min_child_weight': 12}. Best is trial 66 with value: 0.8983950614929199.\n",
      "[I 2025-04-19 16:03:02,124] Trial 79 finished with value: 0.8365285992622375 and parameters: {'max_depth': 30, 'n_estimators': 650, 'learning_rate': 0.5029948891352268, 'subsample': 0.8863766144522355, 'colsample_bytree': 0.5033007923387012, 'min_child_weight': 12}. Best is trial 66 with value: 0.8983950614929199.\n",
      "[I 2025-04-19 16:03:02,443] Trial 80 finished with value: 0.8909045457839966 and parameters: {'max_depth': 45, 'n_estimators': 100, 'learning_rate': 0.04616388205863965, 'subsample': 0.9459410378753461, 'colsample_bytree': 0.5423975458008532, 'min_child_weight': 10}. Best is trial 66 with value: 0.8983950614929199.\n",
      "[I 2025-04-19 16:03:02,631] Trial 81 finished with value: 0.896701455116272 and parameters: {'max_depth': 45, 'n_estimators': 100, 'learning_rate': 0.04782665864766571, 'subsample': 0.9201496649263897, 'colsample_bytree': 0.544166556470029, 'min_child_weight': 10}. Best is trial 66 with value: 0.8983950614929199.\n",
      "[I 2025-04-19 16:03:02,808] Trial 82 finished with value: 0.8916708827018738 and parameters: {'max_depth': 45, 'n_estimators': 100, 'learning_rate': 0.06576385396552478, 'subsample': 0.9478684192266048, 'colsample_bytree': 0.5881124967378073, 'min_child_weight': 10}. Best is trial 66 with value: 0.8983950614929199.\n",
      "[I 2025-04-19 16:03:02,951] Trial 83 finished with value: 0.8897504806518555 and parameters: {'max_depth': 45, 'n_estimators': 100, 'learning_rate': 0.05909754975519939, 'subsample': 0.9467044728683448, 'colsample_bytree': 0.544121849757167, 'min_child_weight': 10}. Best is trial 66 with value: 0.8983950614929199.\n",
      "[I 2025-04-19 16:03:03,152] Trial 84 finished with value: 0.8744546175003052 and parameters: {'max_depth': 45, 'n_estimators': 100, 'learning_rate': 0.1251985581719483, 'subsample': 0.9582004495011247, 'colsample_bytree': 0.5939478420521997, 'min_child_weight': 8}. Best is trial 66 with value: 0.8983950614929199.\n",
      "[I 2025-04-19 16:03:03,423] Trial 85 finished with value: 0.8874240517616272 and parameters: {'max_depth': 45, 'n_estimators': 150, 'learning_rate': 0.06053645367224491, 'subsample': 0.9388898211976809, 'colsample_bytree': 0.6278856845428655, 'min_child_weight': 9}. Best is trial 66 with value: 0.8983950614929199.\n",
      "[I 2025-04-19 16:03:03,650] Trial 86 finished with value: 0.8879708051681519 and parameters: {'max_depth': 45, 'n_estimators': 100, 'learning_rate': 0.04679168846859319, 'subsample': 0.9644348473751981, 'colsample_bytree': 0.5563080410831649, 'min_child_weight': 11}. Best is trial 66 with value: 0.8983950614929199.\n",
      "[I 2025-04-19 16:03:03,959] Trial 87 finished with value: 0.8778858184814453 and parameters: {'max_depth': 50, 'n_estimators': 100, 'learning_rate': 0.11207551322104914, 'subsample': 0.9048763979744482, 'colsample_bytree': 0.6628346836239613, 'min_child_weight': 10}. Best is trial 66 with value: 0.8983950614929199.\n",
      "[I 2025-04-19 16:03:04,548] Trial 88 finished with value: 0.8970979452133179 and parameters: {'max_depth': 45, 'n_estimators': 150, 'learning_rate': 0.03291172206061144, 'subsample': 0.9637693337071804, 'colsample_bytree': 0.7306999274312035, 'min_child_weight': 10}. Best is trial 66 with value: 0.8983950614929199.\n",
      "[I 2025-04-19 16:03:04,947] Trial 89 finished with value: 0.8855186104774475 and parameters: {'max_depth': 40, 'n_estimators': 150, 'learning_rate': 0.02074609502452616, 'subsample': 0.9754050220844904, 'colsample_bytree': 0.7765950024549118, 'min_child_weight': 7}. Best is trial 66 with value: 0.8983950614929199.\n",
      "[I 2025-04-19 16:03:05,548] Trial 90 finished with value: 0.8746616244316101 and parameters: {'max_depth': 45, 'n_estimators': 200, 'learning_rate': 0.07931658924919077, 'subsample': 0.864828562180104, 'colsample_bytree': 0.721473215539023, 'min_child_weight': 11}. Best is trial 66 with value: 0.8983950614929199.\n",
      "[I 2025-04-19 16:03:05,919] Trial 91 finished with value: 0.8925108313560486 and parameters: {'max_depth': 45, 'n_estimators': 150, 'learning_rate': 0.0519651236387361, 'subsample': 0.9451057478661525, 'colsample_bytree': 0.54164556176742, 'min_child_weight': 10}. Best is trial 66 with value: 0.8983950614929199.\n",
      "[I 2025-04-19 16:03:06,394] Trial 92 finished with value: 0.8340253233909607 and parameters: {'max_depth': 45, 'n_estimators': 150, 'learning_rate': 0.5855815081324718, 'subsample': 0.9132905993383169, 'colsample_bytree': 0.5922908776877461, 'min_child_weight': 9}. Best is trial 66 with value: 0.8983950614929199.\n",
      "[I 2025-04-19 16:03:06,810] Trial 93 finished with value: 0.8941783308982849 and parameters: {'max_depth': 50, 'n_estimators': 150, 'learning_rate': 0.04265489863513746, 'subsample': 0.8899736121369419, 'colsample_bytree': 0.5333872574534868, 'min_child_weight': 10}. Best is trial 66 with value: 0.8983950614929199.\n",
      "[I 2025-04-19 16:03:07,422] Trial 94 finished with value: 0.8898195624351501 and parameters: {'max_depth': 50, 'n_estimators': 200, 'learning_rate': 0.022842726246338416, 'subsample': 0.9308654534656646, 'colsample_bytree': 0.6427300788529646, 'min_child_weight': 8}. Best is trial 66 with value: 0.8983950614929199.\n",
      "[I 2025-04-19 16:03:07,640] Trial 95 finished with value: 0.8925209045410156 and parameters: {'max_depth': 50, 'n_estimators': 150, 'learning_rate': 0.04555041911787859, 'subsample': 0.8949312184400589, 'colsample_bytree': 0.7471017996304902, 'min_child_weight': 10}. Best is trial 66 with value: 0.8983950614929199.\n",
      "[I 2025-04-19 16:03:08,029] Trial 96 finished with value: 0.8935297727584839 and parameters: {'max_depth': 50, 'n_estimators': 250, 'learning_rate': 0.017038877158996497, 'subsample': 0.8281511015978983, 'colsample_bytree': 0.7387154978343182, 'min_child_weight': 9}. Best is trial 66 with value: 0.8983950614929199.\n",
      "[I 2025-04-19 16:03:08,927] Trial 97 finished with value: 0.8052747249603271 and parameters: {'max_depth': 50, 'n_estimators': 250, 'learning_rate': 0.699802306309094, 'subsample': 0.8287642104370715, 'colsample_bytree': 0.7642089338409863, 'min_child_weight': 9}. Best is trial 66 with value: 0.8983950614929199.\n",
      "[I 2025-04-19 16:03:09,195] Trial 98 finished with value: 0.8881585001945496 and parameters: {'max_depth': 50, 'n_estimators': 200, 'learning_rate': 0.015570720149989448, 'subsample': 0.8904004522744932, 'colsample_bytree': 0.7212566683295901, 'min_child_weight': 11}. Best is trial 66 with value: 0.8983950614929199.\n",
      "[I 2025-04-19 16:03:09,710] Trial 99 finished with value: 0.8825507760047913 and parameters: {'max_depth': 50, 'n_estimators': 250, 'learning_rate': 0.036656229326514064, 'subsample': 0.9992130873366418, 'colsample_bytree': 0.8008307456166375, 'min_child_weight': 7}. Best is trial 66 with value: 0.8983950614929199.\n"
     ]
    }
   ],
   "source": [
    "# XGBoost\n",
    "study_xgb = optuna.create_study(direction = \"maximize\")\n",
    "func = lambda trial: objective_xgb(trial, X_train, X_valid, y_train, y_valid)\n",
    "study_xgb.optimize(func, n_trials = 100, timeout=600)\n",
    "xgb_model = XGBRegressor(**study_xgb.best_trial.params).fit(X_train_valid, y_train_valid)"
   ]
  },
  {
   "cell_type": "code",
   "execution_count": 11,
   "id": "b27e736c-b1a8-445c-b901-8b6fecbe88cb",
   "metadata": {},
   "outputs": [],
   "source": [
    "y_pred_test = xgb_model.predict(X_test)\n",
    "r2_value = r2_score(y_test, y_pred_test)\n",
    "rmse_value = root_mean_squared_error(y_test, y_pred_test)"
   ]
  },
  {
   "cell_type": "code",
   "execution_count": 12,
   "id": "4c070e84-2aae-4ee9-96f8-4116939139aa",
   "metadata": {},
   "outputs": [
    {
     "name": "stdout",
     "output_type": "stream",
     "text": [
      "R2 Score: 0.8584675192832947\n",
      "RMSE Score: 30505.10546875\n"
     ]
    }
   ],
   "source": [
    "print(f\"R2 Score: {r2_value}\")\n",
    "print(f\"RMSE Score: {rmse_value}\")"
   ]
  },
  {
   "cell_type": "markdown",
   "id": "2ca01f14-f5c5-4b07-b54a-7180bcacdce9",
   "metadata": {},
   "source": [
    "# <center> Using an XGBoost Regressor,<br> the sale price prediction deviates on average <br> <ins> +/- $31k </ins><br>from the real sale price."
   ]
  },
  {
   "cell_type": "markdown",
   "id": "e08679e9-6cc0-4e58-9d6a-60812475207f",
   "metadata": {},
   "source": [
    "# 5. Save Models"
   ]
  },
  {
   "cell_type": "code",
   "execution_count": 13,
   "id": "bc3bf54a-d613-4ee6-bdab-11437e28c3d9",
   "metadata": {},
   "outputs": [
    {
     "data": {
      "text/plain": [
       "['models/LinearRegressorModel.bin']"
      ]
     },
     "execution_count": 13,
     "metadata": {},
     "output_type": "execute_result"
    }
   ],
   "source": [
    "lr_path = models_path / \"LinearRegressorModel.bin\"\n",
    "joblib.dump(lr_model, lr_path, compress=True)"
   ]
  },
  {
   "cell_type": "code",
   "execution_count": 14,
   "id": "4cda2428-85c6-4e2d-aab2-a470202e1739",
   "metadata": {},
   "outputs": [],
   "source": [
    "xgb_path = models_path / \"XGBRegressorModel.json\"\n",
    "xgb_model.save_model(xgb_path)"
   ]
  },
  {
   "cell_type": "code",
   "execution_count": null,
   "id": "51d262f1-6252-4980-a76a-dc5da85ccede",
   "metadata": {},
   "outputs": [],
   "source": []
  }
 ],
 "metadata": {
  "kernelspec": {
   "display_name": "Python 3 (ipykernel)",
   "language": "python",
   "name": "python3"
  },
  "language_info": {
   "codemirror_mode": {
    "name": "ipython",
    "version": 3
   },
   "file_extension": ".py",
   "mimetype": "text/x-python",
   "name": "python",
   "nbconvert_exporter": "python",
   "pygments_lexer": "ipython3",
   "version": "3.12.3"
  }
 },
 "nbformat": 4,
 "nbformat_minor": 5
}
