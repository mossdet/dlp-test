{
 "cells": [
  {
   "cell_type": "markdown",
   "id": "c248b0e7-b313-45de-a5b5-4a32576fc2d0",
   "metadata": {},
   "source": [
    "<img style=\"float: right;\" src=\"img/openhouse_logo.png\" width=\"200\" height=\"200\"/><br>\n",
    "\n",
    "# <center> <ins> House Price Prediction Coding Test <br><br> Linear-Regression <ins> </center>\n",
    "### <center>by: Daniel Lachner-Piza, PhD <br> for: OpenHouse.ai </center>\n",
    "\n",
    "\n"
   ]
  },
  {
   "cell_type": "code",
   "execution_count": 1,
   "id": "5791fa66-60ba-4017-a1d1-1d4c4250e94a",
   "metadata": {},
   "outputs": [],
   "source": [
    "import pandas as pd\n",
    "import numpy as np\n",
    "import seaborn as sns\n",
    "import matplotlib.pyplot as plt\n",
    "\n",
    "import etl.data_loader as dl\n",
    "import eda.eda_engine as eda"
   ]
  },
  {
   "cell_type": "markdown",
   "id": "7b70b1b6-58c6-42e1-a1ed-f492a295ec5b",
   "metadata": {},
   "source": [
    "# 1.Data Loading <a class=\"data-loading\"></a>"
   ]
  },
  {
   "cell_type": "code",
   "execution_count": 2,
   "id": "2439535d-affc-4446-88d4-b366aeb319ad",
   "metadata": {},
   "outputs": [],
   "source": [
    "# Import the dataset using the DataLoader class, which wraps several file types into one single data reader.\n",
    "data_loader = dl.DataLoader(\"data/clean_dataset.csv\")\n",
    "raw_df = data_loader.load_data()"
   ]
  },
  {
   "cell_type": "markdown",
   "id": "474d4f41-50cb-4996-a9ac-40584e53b604",
   "metadata": {},
   "source": [
    "### <ins> 3.3. Explore the dataset and categorize each feature as numerical, categorical or ordinal<ins> "
   ]
  },
  {
   "cell_type": "code",
   "execution_count": null,
   "id": "a0ca6623-c7c4-4007-96cb-c369f55ca41c",
   "metadata": {},
   "outputs": [],
   "source": [
    "contin_num_cols = ['LotArea', 'GrLivArea', 'YearBuilt', 'TotalBsmtSF', 'GarageArea']\n",
    "ordinal_cols = ['OverallQuality','OverallCondition','FullBath','HalfBath','GarageCars','YearSold']\n",
    "categorical_columns = ['Street', 'LotType', 'BldgType', 'HouseStyle', 'Foundation', 'CentralAir', 'GarageType', 'SaleType', 'SaleCondition']\n",
    "print(f\"Numerical Columns: {contin_num_cols}\")\n",
    "print(f\"Ordinal Columns: {ordinal_cols}\")\n",
    "print(f\"Categorical Columns: {categorical_columns}\")"
   ]
  },
  {
   "cell_type": "code",
   "execution_count": null,
   "id": "7d3a61a5-b222-4686-baaa-29c81ef4e23a",
   "metadata": {},
   "outputs": [],
   "source": [
    "df_numerical = clean_df[contin_num_cols].copy()\n",
    "df_ordinal = clean_df[ordinal_cols].copy()\n",
    "df_categorical = clean_df[categorical_columns].copy()\n",
    "y_df = clean_df['SalePrice'].copy()"
   ]
  },
  {
   "cell_type": "code",
   "execution_count": null,
   "id": "7905f2c9-b5a7-4e14-bd6e-006027156709",
   "metadata": {},
   "outputs": [],
   "source": [
    "print(\"Numerical Features\")\n",
    "eda_engine = eda.EDA_Engine(df_numerical)\n",
    "eda_engine.categorical_values()\n",
    "eda_engine.numerical_values()"
   ]
  },
  {
   "cell_type": "code",
   "execution_count": null,
   "id": "51da49c6-cfd9-4a58-82dd-ac22df01dab2",
   "metadata": {},
   "outputs": [],
   "source": [
    "print(\"Ordinal Features\")\n",
    "eda_engine = eda.EDA_Engine(df_ordinal)\n",
    "eda_engine.categorical_values()\n",
    "eda_engine.numerical_values()"
   ]
  },
  {
   "cell_type": "code",
   "execution_count": null,
   "id": "01718df4-e0eb-4380-a165-155c68ebb2c4",
   "metadata": {},
   "outputs": [],
   "source": []
  },
  {
   "cell_type": "code",
   "execution_count": null,
   "id": "487f01fd-763a-404c-bae2-8b7e6bd9999a",
   "metadata": {},
   "outputs": [],
   "source": []
  },
  {
   "cell_type": "code",
   "execution_count": null,
   "id": "76900e2a-bd76-4e5e-92f1-9c5201bb85b2",
   "metadata": {},
   "outputs": [],
   "source": [
    "print(\"Categorical Features\")\n",
    "eda_engine = eda.EDA_Engine(df_categorical)\n",
    "eda_engine.categorical_values()\n",
    "eda_engine.numerical_values()"
   ]
  },
  {
   "cell_type": "code",
   "execution_count": null,
   "id": "0771e1c3-c143-48fc-8215-d28e1b47ebbe",
   "metadata": {},
   "outputs": [],
   "source": []
  },
  {
   "cell_type": "code",
   "execution_count": null,
   "id": "ffb5c6ae-5e69-4f8c-a5a6-f4352f4987e2",
   "metadata": {},
   "outputs": [],
   "source": []
  },
  {
   "cell_type": "markdown",
   "id": "44ddb865-1a45-4942-9f7d-9534653621bb",
   "metadata": {},
   "source": [
    "### <ins> Inspect each feature and its relationship with the target"
   ]
  },
  {
   "cell_type": "code",
   "execution_count": null,
   "id": "c1a269ea-0e8d-482d-b764-88784897b5c6",
   "metadata": {},
   "outputs": [],
   "source": [
    "df_numerical\n",
    "df_ordinal\n",
    "df_categorical\n",
    "y_df\n",
    "\n",
    "contin_num_cols = ['LotArea', 'GrLivArea', 'YearBuilt', 'TotalBsmtSF', 'GarageArea']\n",
    "ordinal_cols = ['OverallQuality','OverallCondition','FullBath','HalfBath','GarageCars','YearSold']\n",
    "categorical_columns = ['Street', 'LotType', 'BldgType', 'HouseStyle', 'Foundation', 'CentralAir', 'GarageType', 'SaleType', 'SaleCondition']\n",
    "\n"
   ]
  },
  {
   "cell_type": "markdown",
   "id": "14c3415d-f588-440a-a368-489ed8509741",
   "metadata": {},
   "source": [
    "# Continous Numerical Features"
   ]
  },
  {
   "cell_type": "code",
   "execution_count": null,
   "id": "24164ab3-3976-4b73-916b-5d1d7488e5fa",
   "metadata": {},
   "outputs": [],
   "source": [
    "df = df_numerical.copy()\n",
    "df['price'] = y_df.to_numpy()\n",
    "for feat_name in contin_num_cols:\n",
    "    fig = plt.figure(figsize = (5,10))\n",
    "    ax = fig.subplots()\n",
    "    sns.boxplot(data=df, x=feat_name,y='price', hue=feat_name, ax=ax);\n",
    "    plt.xticks(rotation=90);"
   ]
  },
  {
   "cell_type": "code",
   "execution_count": null,
   "id": "b661e96e-dcde-4cb6-8d87-19de69c6ad39",
   "metadata": {},
   "outputs": [],
   "source": []
  },
  {
   "cell_type": "code",
   "execution_count": null,
   "id": "651149c4-63f1-4e44-a925-2a37bdb7d7c4",
   "metadata": {},
   "outputs": [],
   "source": []
  },
  {
   "cell_type": "markdown",
   "id": "056d4e5e-0a0c-4d6c-8d57-f2d1aba406e6",
   "metadata": {},
   "source": [
    "# Ordinal Features"
   ]
  },
  {
   "cell_type": "code",
   "execution_count": null,
   "id": "7bbae506-d95a-4006-87eb-0ef71c3340ee",
   "metadata": {},
   "outputs": [],
   "source": [
    "df = df_ordinal.copy()\n",
    "df['price'] = y_df.to_numpy()\n",
    "for feat_name in ordinal_cols:\n",
    "    fig = plt.figure(figsize = (5,10))\n",
    "    ax = fig.subplots()\n",
    "    sns.boxplot(data=df, x=feat_name,y='price', hue=feat_name, ax=ax);\n",
    "    plt.xticks(rotation=90);"
   ]
  },
  {
   "cell_type": "markdown",
   "id": "07a06375-64c9-4a6b-978b-e03e99184729",
   "metadata": {},
   "source": [
    "# Categorical Features"
   ]
  },
  {
   "cell_type": "code",
   "execution_count": null,
   "id": "723cca99-33ca-45b2-a0ea-2658b0092362",
   "metadata": {},
   "outputs": [],
   "source": [
    "df = df_categorical.copy()\n",
    "df['price'] = y_df.to_numpy()\n",
    "for feat_name in categorical_columns:\n",
    "    fig = plt.figure(figsize = (5,10))\n",
    "    ax = fig.subplots()\n",
    "    sns.boxplot(data=df, x=feat_name,y='price', hue=feat_name, ax=ax);\n",
    "    plt.xticks(rotation=90);"
   ]
  },
  {
   "cell_type": "code",
   "execution_count": null,
   "id": "4296c816-4daa-4acb-b8f7-15e6803664f4",
   "metadata": {},
   "outputs": [],
   "source": []
  }
 ],
 "metadata": {
  "kernelspec": {
   "display_name": "Python 3 (ipykernel)",
   "language": "python",
   "name": "python3"
  },
  "language_info": {
   "codemirror_mode": {
    "name": "ipython",
    "version": 3
   },
   "file_extension": ".py",
   "mimetype": "text/x-python",
   "name": "python",
   "nbconvert_exporter": "python",
   "pygments_lexer": "ipython3",
   "version": "3.12.3"
  }
 },
 "nbformat": 4,
 "nbformat_minor": 5
}
