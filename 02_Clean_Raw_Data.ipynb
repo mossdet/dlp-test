{
 "cells": [
  {
   "cell_type": "markdown",
   "id": "c248b0e7-b313-45de-a5b5-4a32576fc2d0",
   "metadata": {},
   "source": [
    "<img style=\"float: right;\" src=\"img/openhouse_logo.png\" width=\"200\" height=\"200\"/><br>\n",
    "\n",
    "# <center> <ins> House Price Prediction Coding Test <br><br> 2. Clean Raw Data <ins> </center>\n",
    "### <center>by: Daniel Lachner-Piza, PhD <br> for: OpenHouse.ai </center>\n",
    "\n",
    "\n"
   ]
  },
  {
   "cell_type": "code",
   "execution_count": 1,
   "id": "5791fa66-60ba-4017-a1d1-1d4c4250e94a",
   "metadata": {},
   "outputs": [],
   "source": [
    "import pandas as pd\n",
    "import numpy as np\n",
    "import seaborn as sns\n",
    "import matplotlib.pyplot as plt\n",
    "\n",
    "import openhouse.etl.data_loader as dl\n",
    "import openhouse.eda.eda_engine as eda"
   ]
  },
  {
   "cell_type": "markdown",
   "id": "7b70b1b6-58c6-42e1-a1ed-f492a295ec5b",
   "metadata": {},
   "source": [
    "# 1.Data Loading <a class=\"data-loading\"></a>"
   ]
  },
  {
   "cell_type": "code",
   "execution_count": 2,
   "id": "2439535d-affc-4446-88d4-b366aeb319ad",
   "metadata": {},
   "outputs": [],
   "source": [
    "# Import the dataset using the DataLoader class, which wraps several file types into one single data reader.\n",
    "data_loader = dl.DataLoader(\"data/dataset.csv\")\n",
    "raw_df = data_loader.load_data()"
   ]
  },
  {
   "cell_type": "markdown",
   "id": "d8fa393a-9ea3-4ca4-9410-6e58301438a9",
   "metadata": {},
   "source": [
    "# 2.Data Cleaning"
   ]
  },
  {
   "cell_type": "markdown",
   "id": "53a3eb56-5d1b-46e4-ae71-a079a5315680",
   "metadata": {},
   "source": [
    "## <ins> 2.1. Handle NaNs <ins>\n",
    "\n",
    "### From the previous exploration of the raw data we know that:\n",
    "- The column Alley is composed of 93.77% NaNs\n",
    "- The column GarageType is composed of 5.55% NaNs\n",
    "- The column GarageArea is composed of 2.94% NaNs\n",
    "\n",
    "### Policies to handle NaN values:\n",
    "- 2.1.1 Drop columns with over 80% NaNs\n",
    "- 2.1.2 Drop rows containing NaN is they represent les than 10% of the data"
   ]
  },
  {
   "cell_type": "markdown",
   "id": "e328f99e-8436-4b20-a9b6-5bd0a9089a7e",
   "metadata": {},
   "source": [
    "### Describe Missing Values again:"
   ]
  },
  {
   "cell_type": "code",
   "execution_count": 3,
   "id": "33c80c5e-fb5c-4701-9be1-7477ebc46455",
   "metadata": {},
   "outputs": [
    {
     "name": "stdout",
     "output_type": "stream",
     "text": [
      "\n",
      "Missing values:\n",
      "\n",
      "Rows with at least one NaN --- Nr. Rows: 1379.00 --- Percentage: 94.45%\n",
      "\n",
      "0 Column: LotArea --- Missing values: 0.00 --- Percentage: 0.00%\n",
      "1 Column: GrLivArea --- Missing values: 0.00 --- Percentage: 0.00%\n",
      "2 Column: Street --- Missing values: 0.00 --- Percentage: 0.00%\n",
      "3 Column: Alley --- Missing values: 1369.00 --- Percentage: 93.77%\n",
      "4 Column: LotType --- Missing values: 0.00 --- Percentage: 0.00%\n",
      "5 Column: BldgType --- Missing values: 0.00 --- Percentage: 0.00%\n",
      "6 Column: HouseStyle --- Missing values: 0.00 --- Percentage: 0.00%\n",
      "7 Column: OverallQuality --- Missing values: 0.00 --- Percentage: 0.00%\n",
      "8 Column: OverallCondition --- Missing values: 0.00 --- Percentage: 0.00%\n",
      "9 Column: YearBuilt --- Missing values: 0.00 --- Percentage: 0.00%\n",
      "10 Column: Foundation --- Missing values: 0.00 --- Percentage: 0.00%\n",
      "11 Column: TotalBsmtSF --- Missing values: 0.00 --- Percentage: 0.00%\n",
      "12 Column: CentralAir --- Missing values: 0.00 --- Percentage: 0.00%\n",
      "13 Column: FullBath --- Missing values: 0.00 --- Percentage: 0.00%\n",
      "14 Column: HalfBath --- Missing values: 0.00 --- Percentage: 0.00%\n",
      "15 Column: GarageType --- Missing values: 81.00 --- Percentage: 5.55%\n",
      "16 Column: GarageCars --- Missing values: 0.00 --- Percentage: 0.00%\n",
      "17 Column: GarageArea --- Missing values: 43.00 --- Percentage: 2.95%\n",
      "18 Column: YearSold --- Missing values: 0.00 --- Percentage: 0.00%\n",
      "19 Column: SaleType --- Missing values: 0.00 --- Percentage: 0.00%\n",
      "20 Column: SaleCondition --- Missing values: 0.00 --- Percentage: 0.00%\n",
      "21 Column: SalePrice --- Missing values: 0.00 --- Percentage: 0.00%\n"
     ]
    }
   ],
   "source": [
    "eda_engine = eda.EDA_Engine(raw_df)\n",
    "eda_engine.missing_values()"
   ]
  },
  {
   "cell_type": "markdown",
   "id": "459e1999-2c48-4920-b1eb-604984e22e70",
   "metadata": {},
   "source": [
    "### 2.1.1 Drop column \"Alley\" because 94% of its entries are NaN"
   ]
  },
  {
   "cell_type": "code",
   "execution_count": 4,
   "id": "f5f755d1-c3e8-4718-a69f-a175b7387b02",
   "metadata": {},
   "outputs": [],
   "source": [
    "clean_df = raw_df.drop([\"Alley\"], axis='columns').copy()"
   ]
  },
  {
   "cell_type": "markdown",
   "id": "73f4785e-aeb6-42a5-9301-647f0c1f4eb1",
   "metadata": {},
   "source": [
    "### 2.1.2 Drop rows containing NaNs, as long as they are less than 10% of the data"
   ]
  },
  {
   "cell_type": "code",
   "execution_count": 5,
   "id": "ef7708d9-7fc1-4f56-952b-aa9d075a9b98",
   "metadata": {},
   "outputs": [
    {
     "name": "stdout",
     "output_type": "stream",
     "text": [
      "\n",
      "Missing values:\n",
      "\n",
      "Rows with at least one NaN --- Nr. Rows: 124.00 --- Percentage: 8.49%\n",
      "\n",
      "0 Column: LotArea --- Missing values: 0.00 --- Percentage: 0.00%\n",
      "1 Column: GrLivArea --- Missing values: 0.00 --- Percentage: 0.00%\n",
      "2 Column: Street --- Missing values: 0.00 --- Percentage: 0.00%\n",
      "3 Column: LotType --- Missing values: 0.00 --- Percentage: 0.00%\n",
      "4 Column: BldgType --- Missing values: 0.00 --- Percentage: 0.00%\n",
      "5 Column: HouseStyle --- Missing values: 0.00 --- Percentage: 0.00%\n",
      "6 Column: OverallQuality --- Missing values: 0.00 --- Percentage: 0.00%\n",
      "7 Column: OverallCondition --- Missing values: 0.00 --- Percentage: 0.00%\n",
      "8 Column: YearBuilt --- Missing values: 0.00 --- Percentage: 0.00%\n",
      "9 Column: Foundation --- Missing values: 0.00 --- Percentage: 0.00%\n",
      "10 Column: TotalBsmtSF --- Missing values: 0.00 --- Percentage: 0.00%\n",
      "11 Column: CentralAir --- Missing values: 0.00 --- Percentage: 0.00%\n",
      "12 Column: FullBath --- Missing values: 0.00 --- Percentage: 0.00%\n",
      "13 Column: HalfBath --- Missing values: 0.00 --- Percentage: 0.00%\n",
      "14 Column: GarageType --- Missing values: 81.00 --- Percentage: 5.55%\n",
      "15 Column: GarageCars --- Missing values: 0.00 --- Percentage: 0.00%\n",
      "16 Column: GarageArea --- Missing values: 43.00 --- Percentage: 2.95%\n",
      "17 Column: YearSold --- Missing values: 0.00 --- Percentage: 0.00%\n",
      "18 Column: SaleType --- Missing values: 0.00 --- Percentage: 0.00%\n",
      "19 Column: SaleCondition --- Missing values: 0.00 --- Percentage: 0.00%\n",
      "20 Column: SalePrice --- Missing values: 0.00 --- Percentage: 0.00%\n"
     ]
    }
   ],
   "source": [
    "eda.EDA_Engine(clean_df).missing_values()"
   ]
  },
  {
   "cell_type": "markdown",
   "id": "253762b5-3982-4e5b-9881-a7c446323a6c",
   "metadata": {},
   "source": [
    "### From the previous analysis we know that:\n",
    "- The columns GarageCars and GarageArea contain NaNs\n",
    "- The total amount of rows with at least one NaN is 8.5% of all rows\n",
    "### The defined policy is therefore, to drop these rows"
   ]
  },
  {
   "cell_type": "code",
   "execution_count": 6,
   "id": "dd111ee4-7378-4af9-a1d3-f67b741f929a",
   "metadata": {},
   "outputs": [],
   "source": [
    "clean_df = clean_df.dropna(axis='index', how='any')"
   ]
  },
  {
   "cell_type": "code",
   "execution_count": 7,
   "id": "d218fb9d-7d57-419a-b9ee-3e193a9e1dbd",
   "metadata": {},
   "outputs": [
    {
     "name": "stdout",
     "output_type": "stream",
     "text": [
      "Nr. Dropped Rows: 124 (8.49%)\n"
     ]
    }
   ],
   "source": [
    "print(f\"Nr. Dropped Rows: {raw_df.shape[0]-clean_df.shape[0]} ({100*(1-(clean_df.shape[0]/raw_df.shape[0])):.2f}%)\")"
   ]
  },
  {
   "cell_type": "code",
   "execution_count": null,
   "id": "1113fd50-7c23-4ff4-985d-87af3ad718ff",
   "metadata": {},
   "outputs": [],
   "source": []
  },
  {
   "cell_type": "markdown",
   "id": "63d7a3b4-1470-4aae-9aa7-8ac582a780b0",
   "metadata": {},
   "source": [
    "## <ins> 2.2. Handle Duplicates <ins>"
   ]
  },
  {
   "cell_type": "code",
   "execution_count": 8,
   "id": "eb0aa17e-d90f-4a4f-8698-6353dee7df9f",
   "metadata": {},
   "outputs": [
    {
     "name": "stdout",
     "output_type": "stream",
     "text": [
      "\n",
      "Duplicates:\n",
      "Number of duplicate rows: 0\n",
      "\n"
     ]
    }
   ],
   "source": [
    "eda.EDA_Engine(clean_df).duplicates()"
   ]
  },
  {
   "cell_type": "markdown",
   "id": "999299e9-fc1c-4146-b819-713709de2f47",
   "metadata": {},
   "source": [
    "## <ins> One final check for NaNs and duplicate rows <ins>"
   ]
  },
  {
   "cell_type": "code",
   "execution_count": 9,
   "id": "bc5502ce-8229-4943-8af8-4dd27d96d93c",
   "metadata": {},
   "outputs": [
    {
     "name": "stdout",
     "output_type": "stream",
     "text": [
      "\n",
      "Missing values:\n",
      "\n",
      "Rows with at least one NaN --- Nr. Rows: 0.00 --- Percentage: 0.00%\n",
      "\n",
      "0 Column: LotArea --- Missing values: 0.00 --- Percentage: 0.00%\n",
      "1 Column: GrLivArea --- Missing values: 0.00 --- Percentage: 0.00%\n",
      "2 Column: Street --- Missing values: 0.00 --- Percentage: 0.00%\n",
      "3 Column: LotType --- Missing values: 0.00 --- Percentage: 0.00%\n",
      "4 Column: BldgType --- Missing values: 0.00 --- Percentage: 0.00%\n",
      "5 Column: HouseStyle --- Missing values: 0.00 --- Percentage: 0.00%\n",
      "6 Column: OverallQuality --- Missing values: 0.00 --- Percentage: 0.00%\n",
      "7 Column: OverallCondition --- Missing values: 0.00 --- Percentage: 0.00%\n",
      "8 Column: YearBuilt --- Missing values: 0.00 --- Percentage: 0.00%\n",
      "9 Column: Foundation --- Missing values: 0.00 --- Percentage: 0.00%\n",
      "10 Column: TotalBsmtSF --- Missing values: 0.00 --- Percentage: 0.00%\n",
      "11 Column: CentralAir --- Missing values: 0.00 --- Percentage: 0.00%\n",
      "12 Column: FullBath --- Missing values: 0.00 --- Percentage: 0.00%\n",
      "13 Column: HalfBath --- Missing values: 0.00 --- Percentage: 0.00%\n",
      "14 Column: GarageType --- Missing values: 0.00 --- Percentage: 0.00%\n",
      "15 Column: GarageCars --- Missing values: 0.00 --- Percentage: 0.00%\n",
      "16 Column: GarageArea --- Missing values: 0.00 --- Percentage: 0.00%\n",
      "17 Column: YearSold --- Missing values: 0.00 --- Percentage: 0.00%\n",
      "18 Column: SaleType --- Missing values: 0.00 --- Percentage: 0.00%\n",
      "19 Column: SaleCondition --- Missing values: 0.00 --- Percentage: 0.00%\n",
      "20 Column: SalePrice --- Missing values: 0.00 --- Percentage: 0.00%\n",
      "\n",
      "Duplicates:\n",
      "Number of duplicate rows: 0\n",
      "\n"
     ]
    }
   ],
   "source": [
    "eda_engine = eda.EDA_Engine(clean_df)\n",
    "eda_engine.missing_values()\n",
    "eda_engine.duplicates()"
   ]
  },
  {
   "cell_type": "markdown",
   "id": "ee376033-d209-4513-996c-362cc3353b23",
   "metadata": {},
   "source": [
    "## <ins> 2.3 Clean categorical values <ins> "
   ]
  },
  {
   "cell_type": "code",
   "execution_count": 10,
   "id": "f3737dc1-bb35-4dc1-bf37-c4976950e0f6",
   "metadata": {},
   "outputs": [],
   "source": [
    "eda_engine = eda.EDA_Engine(clean_df)"
   ]
  },
  {
   "cell_type": "markdown",
   "id": "7d7f4584-ee75-4124-b7db-af0d005a51d4",
   "metadata": {},
   "source": [
    "### Describe the categorical columns again"
   ]
  },
  {
   "cell_type": "code",
   "execution_count": 11,
   "id": "78ed0306-543b-4847-a081-0ea493c5ce54",
   "metadata": {},
   "outputs": [
    {
     "name": "stdout",
     "output_type": "stream",
     "text": [
      "Describe the categorical columns\n",
      "\n",
      "Categorical Columns:Index(['Street', 'LotType', 'BldgType', 'HouseStyle', 'Foundation',\n",
      "       'CentralAir', 'GarageType', 'SaleType', 'SaleCondition'],\n",
      "      dtype='object')\n",
      "\n",
      "Column: Street --- Nr.Uniques : 2\n",
      "Pave: 99.63%\n",
      "Grvl: 0.37%\n",
      "\n",
      "\n",
      "Column: LotType --- Nr.Uniques : 5\n",
      "Corner: 18.04%\n",
      "Inside: 71.71%\n",
      "CulDSac: 6.74%\n",
      "FR2: 3.22%\n",
      "FR3: 0.30%\n",
      "\n",
      "\n",
      "Column: BldgType --- Nr.Uniques : 5\n",
      "1Fam: 84.51%\n",
      "Twnhs: 2.69%\n",
      "Duplex: 2.99%\n",
      "TwnhsE: 8.23%\n",
      "2fmCon: 1.57%\n",
      "\n",
      "\n",
      "Column: HouseStyle --- Nr.Uniques : 9\n",
      "1Fam: 0.07%\n",
      "SFoyer: 2.32%\n",
      "2Story: 31.14%\n",
      "1Story: 49.93%\n",
      "2.5Unf: 0.75%\n",
      "2.5Fin: 0.37%\n",
      "1.5Fin: 10.25%\n",
      "SLvl: 4.64%\n",
      "1.5Unf: 0.52%\n",
      "\n",
      "\n",
      "Column: Foundation --- Nr.Uniques : 7\n",
      "CBlock: 39.22%\n",
      "PConc: 43.56%\n",
      "Slab: 1.42%\n",
      "BrkTil: 9.21%\n",
      "Do Not use this Field in the Model: 5.91%\n",
      "Stone: 0.45%\n",
      "Wood: 0.22%\n",
      "\n",
      "\n",
      "Column: CentralAir --- Nr.Uniques : 2\n",
      "Y: 94.99%\n",
      "N: 5.01%\n",
      "\n",
      "\n",
      "Column: GarageType --- Nr.Uniques : 6\n",
      "BuiltIn: 6.21%\n",
      "Attchd: 63.17%\n",
      "Detchd: 28.07%\n",
      "Basment: 1.42%\n",
      "2Types: 0.45%\n",
      "CarPort: 0.67%\n",
      "\n",
      "\n",
      "Column: SaleType --- Nr.Uniques : 9\n",
      "WD: 86.90%\n",
      "COD: 3.14%\n",
      "New: 8.46%\n",
      "CWD: 0.30%\n",
      "ConLI: 0.22%\n",
      "ConLD: 0.52%\n",
      "Con: 0.07%\n",
      "ConLw: 0.30%\n",
      "Oth: 0.07%\n",
      "\n",
      "\n",
      "Column: SaleCondition --- Nr.Uniques : 7\n",
      "Normal: 71.11%\n",
      "Abnorml: 6.21%\n",
      "Partial: 8.68%\n",
      "Family: 1.50%\n",
      "Alloca: 0.82%\n",
      "AdjLand: 0.07%\n",
      "normal: 11.60%\n",
      "\n",
      "\n"
     ]
    }
   ],
   "source": [
    "eda_engine.categorical_values()"
   ]
  },
  {
   "cell_type": "markdown",
   "id": "5a1fccec-f8ed-4804-870b-17f6a2087043",
   "metadata": {},
   "source": [
    "#### 2.3.1 Clean entries with the value \"Do Not use this Field in the Model\". Assign them the value 'Unknown'"
   ]
  },
  {
   "cell_type": "code",
   "execution_count": 12,
   "id": "d2e81ab8-927c-49bf-9cfe-474670816602",
   "metadata": {},
   "outputs": [],
   "source": [
    "col_name = 'Foundation'\n",
    "unique_val = \"Do Not use this Field in the Model\"\n",
    "clean_df.loc[clean_df[col_name].str.fullmatch(unique_val, case=True), col_name] = 'Unknown'"
   ]
  },
  {
   "cell_type": "markdown",
   "id": "5f8f8111-5959-4a74-bf27-ea075d67e6be",
   "metadata": {},
   "source": [
    "####  2.3.2 Clean entries that are the same but written with a different case (e.g. \"Normal\" and \"normal\")"
   ]
  },
  {
   "cell_type": "code",
   "execution_count": 13,
   "id": "60521f23-4e81-4494-a210-46e661605573",
   "metadata": {},
   "outputs": [],
   "source": [
    "col_name = 'SaleCondition'\n",
    "unique_val = \"normal\"\n",
    "clean_df.loc[clean_df[col_name].str.fullmatch(unique_val, case=True), col_name] = 'Normal'"
   ]
  },
  {
   "cell_type": "markdown",
   "id": "0b096319-f717-4261-9373-52f5f1a7af5f",
   "metadata": {},
   "source": [
    "### Describe the numerical and categorical columsn again after they have been cleaned"
   ]
  },
  {
   "cell_type": "code",
   "execution_count": 14,
   "id": "842fe4bf-c607-4cda-badc-fe7dd452be7c",
   "metadata": {},
   "outputs": [],
   "source": [
    "eda_engine = eda.EDA_Engine(clean_df)"
   ]
  },
  {
   "cell_type": "markdown",
   "id": "d00226c2-c53a-407f-8253-40e327ef1d07",
   "metadata": {},
   "source": [
    "### Describe cleaned-up categorical columns"
   ]
  },
  {
   "cell_type": "code",
   "execution_count": 15,
   "id": "c0f909d5-2a34-4c73-a3dc-ef0bf1f62d2c",
   "metadata": {},
   "outputs": [
    {
     "name": "stdout",
     "output_type": "stream",
     "text": [
      "Describe the categorical columns\n",
      "\n",
      "Categorical Columns:Index(['Street', 'LotType', 'BldgType', 'HouseStyle', 'Foundation',\n",
      "       'CentralAir', 'GarageType', 'SaleType', 'SaleCondition'],\n",
      "      dtype='object')\n",
      "\n",
      "Column: Street --- Nr.Uniques : 2\n",
      "Pave: 99.63%\n",
      "Grvl: 0.37%\n",
      "\n",
      "\n",
      "Column: LotType --- Nr.Uniques : 5\n",
      "Corner: 18.04%\n",
      "Inside: 71.71%\n",
      "CulDSac: 6.74%\n",
      "FR2: 3.22%\n",
      "FR3: 0.30%\n",
      "\n",
      "\n",
      "Column: BldgType --- Nr.Uniques : 5\n",
      "1Fam: 84.51%\n",
      "Twnhs: 2.69%\n",
      "Duplex: 2.99%\n",
      "TwnhsE: 8.23%\n",
      "2fmCon: 1.57%\n",
      "\n",
      "\n",
      "Column: HouseStyle --- Nr.Uniques : 9\n",
      "1Fam: 0.07%\n",
      "SFoyer: 2.32%\n",
      "2Story: 31.14%\n",
      "1Story: 49.93%\n",
      "2.5Unf: 0.75%\n",
      "2.5Fin: 0.37%\n",
      "1.5Fin: 10.25%\n",
      "SLvl: 4.64%\n",
      "1.5Unf: 0.52%\n",
      "\n",
      "\n",
      "Column: Foundation --- Nr.Uniques : 7\n",
      "CBlock: 39.22%\n",
      "PConc: 43.56%\n",
      "Slab: 1.42%\n",
      "BrkTil: 9.21%\n",
      "Unknown: 5.91%\n",
      "Stone: 0.45%\n",
      "Wood: 0.22%\n",
      "\n",
      "\n",
      "Column: CentralAir --- Nr.Uniques : 2\n",
      "Y: 94.99%\n",
      "N: 5.01%\n",
      "\n",
      "\n",
      "Column: GarageType --- Nr.Uniques : 6\n",
      "BuiltIn: 6.21%\n",
      "Attchd: 63.17%\n",
      "Detchd: 28.07%\n",
      "Basment: 1.42%\n",
      "2Types: 0.45%\n",
      "CarPort: 0.67%\n",
      "\n",
      "\n",
      "Column: SaleType --- Nr.Uniques : 9\n",
      "WD: 86.90%\n",
      "COD: 3.14%\n",
      "New: 8.46%\n",
      "CWD: 0.30%\n",
      "ConLI: 0.22%\n",
      "ConLD: 0.52%\n",
      "Con: 0.07%\n",
      "ConLw: 0.30%\n",
      "Oth: 0.07%\n",
      "\n",
      "\n",
      "Column: SaleCondition --- Nr.Uniques : 6\n",
      "Normal: 82.71%\n",
      "Abnorml: 6.21%\n",
      "Partial: 8.68%\n",
      "Family: 1.50%\n",
      "Alloca: 0.82%\n",
      "AdjLand: 0.07%\n",
      "\n",
      "\n"
     ]
    }
   ],
   "source": [
    "eda_engine.categorical_values()"
   ]
  },
  {
   "cell_type": "markdown",
   "id": "7d0fae6f-55f3-441a-be99-3f4f9675987b",
   "metadata": {},
   "source": [
    "### Describe cleaned-up numerical columns"
   ]
  },
  {
   "cell_type": "code",
   "execution_count": 16,
   "id": "629d09d7-67d2-4a77-b932-57d0c95e2989",
   "metadata": {},
   "outputs": [
    {
     "name": "stdout",
     "output_type": "stream",
     "text": [
      "Describe the numerical columns\n",
      "\n",
      "0 Column: LotArea --- Nr.Uniques: 992 --- Min.: 1300.00 --- Max.: 215245.00 --- Mean: 10720.67 --- Median: 9579.50 --- StdDev: 10351.69\n",
      "1 Column: GrLivArea --- Nr.Uniques: 815 --- Min.: 438.00 --- Max.: 23400.00 --- Mean: 1587.73 --- Median: 1480.00 --- StdDev: 1103.06\n",
      "6 Column: OverallQuality --- Nr.Uniques: 9 --- Min.: 2.00 --- Max.: 10.00 --- Mean: 6.17 --- Median: 6.00 --- StdDev: 1.34\n",
      "7 Column: OverallCondition --- Nr.Uniques: 8 --- Min.: 2.00 --- Max.: 9.00 --- Mean: 5.58 --- Median: 5.00 --- StdDev: 1.09\n",
      "8 Column: YearBuilt --- Nr.Uniques: 109 --- Min.: 1880.00 --- Max.: 2010.00 --- Mean: 1972.83 --- Median: 1976.00 --- StdDev: 29.46\n",
      "10 Column: TotalBsmtSF --- Nr.Uniques: 695 --- Min.: 0.00 --- Max.: 6110.00 --- Mean: 1073.50 --- Median: 1008.00 --- StdDev: 438.59\n",
      "12 Column: FullBath --- Nr.Uniques: 4 --- Min.: 0.00 --- Max.: 3.00 --- Mean: 1.58 --- Median: 2.00 --- StdDev: 0.55\n",
      "13 Column: HalfBath --- Nr.Uniques: 3 --- Min.: 0.00 --- Max.: 2.00 --- Mean: 0.39 --- Median: 0.00 --- StdDev: 0.50\n",
      "15 Column: GarageCars --- Nr.Uniques: 4 --- Min.: 1.00 --- Max.: 4.00 --- Mean: 1.87 --- Median: 2.00 --- StdDev: 0.63\n",
      "16 Column: GarageArea --- Nr.Uniques: 434 --- Min.: 160.00 --- Max.: 1418.00 --- Mean: 499.99 --- Median: 484.00 --- StdDev: 185.40\n",
      "17 Column: YearSold --- Nr.Uniques: 5 --- Min.: 2006.00 --- Max.: 2010.00 --- Mean: 2007.81 --- Median: 2008.00 --- StdDev: 1.34\n",
      "20 Column: SalePrice --- Nr.Uniques: 624 --- Min.: 35311.00 --- Max.: 755000.00 --- Mean: 184803.62 --- Median: 167500.00 --- StdDev: 78573.41\n",
      "\n",
      "\n"
     ]
    }
   ],
   "source": [
    "eda_engine.numerical_values()"
   ]
  },
  {
   "cell_type": "markdown",
   "id": "666f9c18-7555-4957-820e-e14120850fba",
   "metadata": {},
   "source": [
    "### After cleaning, show an overview of the table"
   ]
  },
  {
   "cell_type": "code",
   "execution_count": 17,
   "id": "8ec8de72-b190-41e9-9f93-eb866d618d42",
   "metadata": {},
   "outputs": [
    {
     "name": "stdout",
     "output_type": "stream",
     "text": [
      "Overview of the DataFrame:\n",
      "\n",
      "Dataset Shape: (1336, 21)\n",
      "\n",
      "\n",
      "Data Types:\n",
      "LotArea               int64\n",
      "GrLivArea             int64\n",
      "Street               object\n",
      "LotType              object\n",
      "BldgType             object\n",
      "HouseStyle           object\n",
      "OverallQuality        int64\n",
      "OverallCondition      int64\n",
      "YearBuilt             int64\n",
      "Foundation           object\n",
      "TotalBsmtSF           int64\n",
      "CentralAir           object\n",
      "FullBath              int64\n",
      "HalfBath              int64\n",
      "GarageType           object\n",
      "GarageCars            int64\n",
      "GarageArea          float64\n",
      "YearSold              int64\n",
      "SaleType             object\n",
      "SaleCondition        object\n",
      "SalePrice             int64\n",
      "dtype: object\n",
      "\n",
      "\n",
      "First few rows:\n",
      "    LotArea  GrLivArea Street  LotType BldgType HouseStyle  OverallQuality  \\\n",
      "0      8910       1194   Pave   Corner     1Fam       1Fam               6   \n",
      "1      1526        630   Pave   Inside    Twnhs     SFoyer               4   \n",
      "2     14598       1933   Pave  CulDSac     1Fam     2Story               6   \n",
      "3      7200       1040   Pave   Inside   Duplex     1Story               4   \n",
      "5      8100       1559   Pave   Inside     1Fam     1Story               5   \n",
      "6      9600       1644   Pave   Inside     1Fam     1Story               6   \n",
      "7      3182       1200   Pave   Inside   TwnhsE     2Story               7   \n",
      "9     20544       2093   Pave  CulDSac     1Fam     2Story               7   \n",
      "10     8250       1092   Pave   Inside     1Fam     1Story               6   \n",
      "11     9196       1560   Pave   Inside     1Fam     1Story               7   \n",
      "\n",
      "    OverallCondition  YearBuilt Foundation  ...  CentralAir FullBath  \\\n",
      "0                  6       1959     CBlock  ...           Y        1   \n",
      "1                  8       1970     CBlock  ...           Y        1   \n",
      "2                  5       2007      PConc  ...           Y        2   \n",
      "3                  5       1949       Slab  ...           N        2   \n",
      "5                  6       1948     BrkTil  ...           Y        1   \n",
      "6                  5       1953     CBlock  ...           Y        1   \n",
      "7                  5       2004      PConc  ...           Y        2   \n",
      "9                  6       1986     CBlock  ...           Y        2   \n",
      "10                 7       1964     CBlock  ...           Y        1   \n",
      "11                 5       2003    Unknown  ...           Y        2   \n",
      "\n",
      "    HalfBath  GarageType GarageCars  GarageArea  YearSold  SaleType  \\\n",
      "0          0     BuiltIn          2       539.0      2006        WD   \n",
      "1          0      Attchd          1       286.0      2009        WD   \n",
      "2          1     BuiltIn          3       668.0      2008        WD   \n",
      "3          0      Detchd          2       420.0      2009        WD   \n",
      "5          0      Detchd          2       812.0      2007       COD   \n",
      "6          0      Attchd          2       418.0      2009        WD   \n",
      "7          1      Detchd          2       480.0      2010        WD   \n",
      "9          1      Attchd          2       542.0      2008        WD   \n",
      "10         0      Attchd          2       504.0      2008        WD   \n",
      "11         0      Attchd          2       573.0      2010        WD   \n",
      "\n",
      "   SaleCondition SalePrice  \n",
      "0         Normal    159500  \n",
      "1         Normal     86000  \n",
      "2         Normal    214000  \n",
      "3         Normal     90000  \n",
      "5         Normal    153500  \n",
      "6         Normal    167000  \n",
      "7         Normal    151000  \n",
      "9         Normal    215000  \n",
      "10        Normal    145000  \n",
      "11        Normal    201000  \n",
      "\n",
      "[10 rows x 21 columns]\n",
      "\n",
      "\n",
      "DataFrame info:\n",
      "<class 'pandas.core.frame.DataFrame'>\n",
      "Index: 1336 entries, 0 to 1459\n",
      "Data columns (total 21 columns):\n",
      " #   Column            Non-Null Count  Dtype  \n",
      "---  ------            --------------  -----  \n",
      " 0   LotArea           1336 non-null   int64  \n",
      " 1   GrLivArea         1336 non-null   int64  \n",
      " 2   Street            1336 non-null   object \n",
      " 3   LotType           1336 non-null   object \n",
      " 4   BldgType          1336 non-null   object \n",
      " 5   HouseStyle        1336 non-null   object \n",
      " 6   OverallQuality    1336 non-null   int64  \n",
      " 7   OverallCondition  1336 non-null   int64  \n",
      " 8   YearBuilt         1336 non-null   int64  \n",
      " 9   Foundation        1336 non-null   object \n",
      " 10  TotalBsmtSF       1336 non-null   int64  \n",
      " 11  CentralAir        1336 non-null   object \n",
      " 12  FullBath          1336 non-null   int64  \n",
      " 13  HalfBath          1336 non-null   int64  \n",
      " 14  GarageType        1336 non-null   object \n",
      " 15  GarageCars        1336 non-null   int64  \n",
      " 16  GarageArea        1336 non-null   float64\n",
      " 17  YearSold          1336 non-null   int64  \n",
      " 18  SaleType          1336 non-null   object \n",
      " 19  SaleCondition     1336 non-null   object \n",
      " 20  SalePrice         1336 non-null   int64  \n",
      "dtypes: float64(1), int64(11), object(9)\n",
      "memory usage: 229.6+ KB\n",
      "None\n",
      "\n",
      "\n",
      "DataFrame columns:\n",
      "Index(['LotArea', 'GrLivArea', 'Street', 'LotType', 'BldgType', 'HouseStyle',\n",
      "       'OverallQuality', 'OverallCondition', 'YearBuilt', 'Foundation',\n",
      "       'TotalBsmtSF', 'CentralAir', 'FullBath', 'HalfBath', 'GarageType',\n",
      "       'GarageCars', 'GarageArea', 'YearSold', 'SaleType', 'SaleCondition',\n",
      "       'SalePrice'],\n",
      "      dtype='object')\n",
      "\n",
      "\n",
      "DataFrame index:\n",
      "Index([   0,    1,    2,    3,    5,    6,    7,    9,   10,   11,\n",
      "       ...\n",
      "       1449, 1450, 1451, 1453, 1454, 1455, 1456, 1457, 1458, 1459],\n",
      "      dtype='int64', length=1336)\n",
      "\n",
      "\n",
      "DataFrame nr. unique values:\n",
      "LotArea             992\n",
      "GrLivArea           815\n",
      "Street                2\n",
      "LotType               5\n",
      "BldgType              5\n",
      "HouseStyle            9\n",
      "OverallQuality        9\n",
      "OverallCondition      8\n",
      "YearBuilt           109\n",
      "Foundation            7\n",
      "TotalBsmtSF         695\n",
      "CentralAir            2\n",
      "FullBath              4\n",
      "HalfBath              3\n",
      "GarageType            6\n",
      "GarageCars            4\n",
      "GarageArea          434\n",
      "YearSold              5\n",
      "SaleType              9\n",
      "SaleCondition         6\n",
      "SalePrice           624\n",
      "dtype: int64\n",
      "\n",
      "\n",
      "DataFrame nr. missing values:\n",
      "LotArea             0\n",
      "GrLivArea           0\n",
      "Street              0\n",
      "LotType             0\n",
      "BldgType            0\n",
      "HouseStyle          0\n",
      "OverallQuality      0\n",
      "OverallCondition    0\n",
      "YearBuilt           0\n",
      "Foundation          0\n",
      "TotalBsmtSF         0\n",
      "CentralAir          0\n",
      "FullBath            0\n",
      "HalfBath            0\n",
      "GarageType          0\n",
      "GarageCars          0\n",
      "GarageArea          0\n",
      "YearSold            0\n",
      "SaleType            0\n",
      "SaleCondition       0\n",
      "SalePrice           0\n",
      "dtype: int64\n",
      "\n",
      "\n",
      "DataFrame missing values percentage:\n",
      "LotArea             0.0\n",
      "GrLivArea           0.0\n",
      "Street              0.0\n",
      "LotType             0.0\n",
      "BldgType            0.0\n",
      "HouseStyle          0.0\n",
      "OverallQuality      0.0\n",
      "OverallCondition    0.0\n",
      "YearBuilt           0.0\n",
      "Foundation          0.0\n",
      "TotalBsmtSF         0.0\n",
      "CentralAir          0.0\n",
      "FullBath            0.0\n",
      "HalfBath            0.0\n",
      "GarageType          0.0\n",
      "GarageCars          0.0\n",
      "GarageArea          0.0\n",
      "YearSold            0.0\n",
      "SaleType            0.0\n",
      "SaleCondition       0.0\n",
      "SalePrice           0.0\n",
      "dtype: float64\n",
      "\n",
      "\n"
     ]
    }
   ],
   "source": [
    "eda_engine.overview()"
   ]
  },
  {
   "cell_type": "markdown",
   "id": "0f177bda-5787-42a8-80e4-e4fd2e468148",
   "metadata": {},
   "source": [
    "## <ins> 2.4. Save cleaned-up table <ins>"
   ]
  },
  {
   "cell_type": "code",
   "execution_count": 18,
   "id": "5fbef09d-87ab-4211-9ebb-e677d68beb5e",
   "metadata": {},
   "outputs": [],
   "source": [
    "clean_df.to_csv(\"data/clean_dataset.csv\", index=False)"
   ]
  },
  {
   "cell_type": "code",
   "execution_count": null,
   "id": "77b8dc8f-af80-40f1-af1f-e6092e86452a",
   "metadata": {},
   "outputs": [],
   "source": []
  }
 ],
 "metadata": {
  "kernelspec": {
   "display_name": "Python 3 (ipykernel)",
   "language": "python",
   "name": "python3"
  },
  "language_info": {
   "codemirror_mode": {
    "name": "ipython",
    "version": 3
   },
   "file_extension": ".py",
   "mimetype": "text/x-python",
   "name": "python",
   "nbconvert_exporter": "python",
   "pygments_lexer": "ipython3",
   "version": "3.12.3"
  }
 },
 "nbformat": 4,
 "nbformat_minor": 5
}
