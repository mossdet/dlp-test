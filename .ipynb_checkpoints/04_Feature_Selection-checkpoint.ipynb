{
 "cells": [
  {
   "cell_type": "markdown",
   "id": "c248b0e7-b313-45de-a5b5-4a32576fc2d0",
   "metadata": {},
   "source": [
    "<img style=\"float: right;\" src=\"img/openhouse_logo.png\" width=\"200\" height=\"200\"/><br>\n",
    "\n",
    "# <center> <ins> House Price Prediction Coding Test <br><br> 4. Feature Selection and Encoding <ins> </center>\n",
    "### <center>by: Daniel Lachner-Piza, PhD <br> for: OpenHouse.ai </center>\n",
    "\n",
    "\n"
   ]
  },
  {
   "cell_type": "code",
   "execution_count": 1,
   "id": "5791fa66-60ba-4017-a1d1-1d4c4250e94a",
   "metadata": {},
   "outputs": [],
   "source": [
    "import pandas as pd\n",
    "import numpy as np\n",
    "import seaborn as sns\n",
    "import matplotlib.pyplot as plt\n",
    "import os\n",
    "\n",
    "import openhouse.etl.data_loader as dl\n",
    "import openhouse.eda.eda_engine as eda\n",
    "import openhouse.encoding.data_encoder as encoder\n",
    "\n",
    "from pathlib import Path\n",
    "from sklearn.preprocessing import OrdinalEncoder\n",
    "\n",
    "EDA_FIG_SIZE = (3,3)\n",
    "images_path = Path(\"img\")"
   ]
  },
  {
   "cell_type": "markdown",
   "id": "7b70b1b6-58c6-42e1-a1ed-f492a295ec5b",
   "metadata": {},
   "source": [
    "# <ins> 1.Data Loading <ins> "
   ]
  },
  {
   "cell_type": "code",
   "execution_count": 2,
   "id": "2439535d-affc-4446-88d4-b366aeb319ad",
   "metadata": {},
   "outputs": [],
   "source": [
    "# Import the dataset using the DataLoader class, which wraps several file types into one single data reader.\n",
    "data_loader = dl.DataLoader(\"data/clean_dataset.csv\")\n",
    "clean_df = data_loader.load_data()"
   ]
  },
  {
   "cell_type": "markdown",
   "id": "474d4f41-50cb-4996-a9ac-40584e53b604",
   "metadata": {},
   "source": [
    "# <ins> 2. Feature selection <ins>\n",
    "Based on the exploration of the data from \"03.Explore_Clean_Data\" we can select which features to keep based on: \n",
    "- Correlation with the target\n",
    "- Low correlation with other features"
   ]
  },
  {
   "cell_type": "markdown",
   "id": "0d26da8e-13e6-4b23-8b46-6c9cce8c14df",
   "metadata": {},
   "source": [
    "## 2.1. Numerical Features\n",
    "\n",
    "- All the features show a correlation with the target\n",
    "- The inter-feature correlation is not too high\n",
    "\n",
    "Therefore, all numerical features are kept"
   ]
  },
  {
   "cell_type": "code",
   "execution_count": 3,
   "id": "ed169431-09b1-4237-a56d-7d47c4a1ea19",
   "metadata": {},
   "outputs": [],
   "source": [
    "contin_num_cols = ['LotArea', 'GrLivArea', 'YearBuilt', 'TotalBsmtSF', 'GarageArea']"
   ]
  },
  {
   "cell_type": "markdown",
   "id": "818fdb87-2b51-4866-974c-ffad73fa7153",
   "metadata": {},
   "source": [
    "## 2.2. Ordinal Features\n",
    "\n",
    "- The YearSold features doesn't show any correlation with the target so it is removed\n",
    "- All other ordinal features are kept"
   ]
  },
  {
   "cell_type": "code",
   "execution_count": 4,
   "id": "8f1c1446-b7c7-40a4-99fa-10c2cc4c6dda",
   "metadata": {},
   "outputs": [],
   "source": [
    "ordinal_cols = ['OverallQuality','OverallCondition','FullBath','HalfBath','GarageCars']"
   ]
  },
  {
   "cell_type": "markdown",
   "id": "143fa9b3-9a04-4c75-8713-65d17abf37b3",
   "metadata": {},
   "source": [
    "## 2.3. Categorical Features\n",
    "\n",
    "- All the features show a correlation with the target\n",
    "\n",
    "Therefore, all categorical features are kept"
   ]
  },
  {
   "cell_type": "code",
   "execution_count": 5,
   "id": "a0ca6623-c7c4-4007-96cb-c369f55ca41c",
   "metadata": {},
   "outputs": [],
   "source": [
    "categorical_columns = ['Street', 'LotType', 'BldgType', 'HouseStyle', 'Foundation', 'CentralAir', 'GarageType', 'SaleType', 'SaleCondition']"
   ]
  },
  {
   "cell_type": "markdown",
   "id": "a53e2aea-4580-4fea-b379-28754cf91c62",
   "metadata": {},
   "source": [
    "# <ins> 3. Feature Encoding <ins>"
   ]
  },
  {
   "cell_type": "code",
   "execution_count": 6,
   "id": "7d3a61a5-b222-4686-baaa-29c81ef4e23a",
   "metadata": {},
   "outputs": [],
   "source": [
    "df_numerical = clean_df[contin_num_cols].copy()\n",
    "df_ordinal = clean_df[ordinal_cols].copy()\n",
    "df_categorical = clean_df[categorical_columns].copy()\n",
    "y_df = clean_df['SalePrice'].copy()"
   ]
  },
  {
   "cell_type": "code",
   "execution_count": null,
   "id": "437027fe-5e9c-481f-bf4c-d940423ef81b",
   "metadata": {},
   "outputs": [],
   "source": []
  },
  {
   "cell_type": "code",
   "execution_count": 7,
   "id": "0771e1c3-c143-48fc-8215-d28e1b47ebbe",
   "metadata": {},
   "outputs": [
    {
     "data": {
      "text/plain": [
       "array([ 2,  3,  4,  5,  6,  7,  8,  9, 10])"
      ]
     },
     "execution_count": 7,
     "metadata": {},
     "output_type": "execute_result"
    }
   ],
   "source": [
    "np.sort(df_ordinal.OverallQuality.unique())"
   ]
  },
  {
   "cell_type": "code",
   "execution_count": 8,
   "id": "da539b4d-5038-42ce-8bcb-3eeb38168ec3",
   "metadata": {},
   "outputs": [
    {
     "ename": "SyntaxError",
     "evalue": "invalid syntax (1235331270.py, line 1)",
     "output_type": "error",
     "traceback": [
      "  \u001b[36mCell\u001b[39m\u001b[36m \u001b[39m\u001b[32mIn[8]\u001b[39m\u001b[32m, line 1\u001b[39m\n\u001b[31m    \u001b[39m\u001b[31mfor\u001b[39m\n        ^\n\u001b[31mSyntaxError\u001b[39m\u001b[31m:\u001b[39m invalid syntax\n"
     ]
    }
   ],
   "source": []
  }
 ],
 "metadata": {
  "kernelspec": {
   "display_name": "Python 3 (ipykernel)",
   "language": "python",
   "name": "python3"
  },
  "language_info": {
   "codemirror_mode": {
    "name": "ipython",
    "version": 3
   },
   "file_extension": ".py",
   "mimetype": "text/x-python",
   "name": "python",
   "nbconvert_exporter": "python",
   "pygments_lexer": "ipython3",
   "version": "3.12.3"
  }
 },
 "nbformat": 4,
 "nbformat_minor": 5
}
