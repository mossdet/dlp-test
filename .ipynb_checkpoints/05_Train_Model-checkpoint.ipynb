{
 "cells": [
  {
   "cell_type": "markdown",
   "id": "c248b0e7-b313-45de-a5b5-4a32576fc2d0",
   "metadata": {},
   "source": [
    "<img style=\"float: right;\" src=\"img/openhouse_logo.png\" width=\"200\" height=\"200\"/><br>\n",
    "\n",
    "# <center> <ins> House Price Prediction Coding Test <br><br> 5. Train and Test Model <ins> </center>\n",
    "### <center>by: Daniel Lachner-Piza, PhD <br> for: OpenHouse.ai </center>\n",
    "\n",
    "\n"
   ]
  },
  {
   "cell_type": "code",
   "execution_count": 1,
   "id": "5791fa66-60ba-4017-a1d1-1d4c4250e94a",
   "metadata": {},
   "outputs": [
    {
     "name": "stderr",
     "output_type": "stream",
     "text": [
      "/home/dlp/Development/OpenHouseAI_TechTask1/dlp-test/.venv/lib/python3.12/site-packages/tqdm/auto.py:21: TqdmWarning: IProgress not found. Please update jupyter and ipywidgets. See https://ipywidgets.readthedocs.io/en/stable/user_install.html\n",
      "  from .autonotebook import tqdm as notebook_tqdm\n"
     ]
    }
   ],
   "source": [
    "import os\n",
    "import joblib\n",
    "import pandas as pd\n",
    "import numpy as np\n",
    "import seaborn as sns\n",
    "import matplotlib.pyplot as plt\n",
    "import optuna\n",
    "\n",
    "from pathlib import Path\n",
    "from sklearn.linear_model import LinearRegression\n",
    "from sklearn.model_selection import train_test_split\n",
    "from sklearn.metrics import r2_score, root_mean_squared_error\n",
    "from xgboost import XGBRegressor\n",
    "\n",
    "EDA_FIG_SIZE = (3,3)\n",
    "models_path = Path(\"models\")\n",
    "os.makedirs(models_path, exist_ok=True)"
   ]
  },
  {
   "cell_type": "markdown",
   "id": "7b70b1b6-58c6-42e1-a1ed-f492a295ec5b",
   "metadata": {},
   "source": [
    "# <ins> 1.Data Loading <ins> "
   ]
  },
  {
   "cell_type": "code",
   "execution_count": 2,
   "id": "2439535d-affc-4446-88d4-b366aeb319ad",
   "metadata": {},
   "outputs": [],
   "source": [
    "clean_scaled_data_df = pd.read_csv(\"data/clean_scaled_dataset.csv\")\n",
    "y_df = pd.read_csv(\"data/target.csv\")"
   ]
  },
  {
   "cell_type": "code",
   "execution_count": 3,
   "id": "be88fa1d-38cf-40dd-b58d-f157d83fc291",
   "metadata": {},
   "outputs": [
    {
     "data": {
      "text/html": [
       "<div>\n",
       "<style scoped>\n",
       "    .dataframe tbody tr th:only-of-type {\n",
       "        vertical-align: middle;\n",
       "    }\n",
       "\n",
       "    .dataframe tbody tr th {\n",
       "        vertical-align: top;\n",
       "    }\n",
       "\n",
       "    .dataframe thead th {\n",
       "        text-align: right;\n",
       "    }\n",
       "</style>\n",
       "<table border=\"1\" class=\"dataframe\">\n",
       "  <thead>\n",
       "    <tr style=\"text-align: right;\">\n",
       "      <th></th>\n",
       "      <th>LotArea</th>\n",
       "      <th>GrLivArea</th>\n",
       "      <th>YearBuilt</th>\n",
       "      <th>TotalBsmtSF</th>\n",
       "      <th>GarageArea</th>\n",
       "      <th>LotAreaSqrd</th>\n",
       "      <th>GrLivAreaSqrd</th>\n",
       "      <th>OverallQuality</th>\n",
       "      <th>OverallCondition</th>\n",
       "      <th>FullBath</th>\n",
       "      <th>...</th>\n",
       "      <th>SaleType_ConLw</th>\n",
       "      <th>SaleType_New</th>\n",
       "      <th>SaleType_Oth</th>\n",
       "      <th>SaleType_WD</th>\n",
       "      <th>SaleCondition_Abnorml</th>\n",
       "      <th>SaleCondition_AdjLand</th>\n",
       "      <th>SaleCondition_Alloca</th>\n",
       "      <th>SaleCondition_Family</th>\n",
       "      <th>SaleCondition_Normal</th>\n",
       "      <th>SaleCondition_Partial</th>\n",
       "    </tr>\n",
       "  </thead>\n",
       "  <tbody>\n",
       "    <tr>\n",
       "      <th>0</th>\n",
       "      <td>-0.174981</td>\n",
       "      <td>-0.357075</td>\n",
       "      <td>-0.469580</td>\n",
       "      <td>-0.954556</td>\n",
       "      <td>0.210489</td>\n",
       "      <td>-0.084953</td>\n",
       "      <td>-0.109744</td>\n",
       "      <td>-0.130274</td>\n",
       "      <td>0.389367</td>\n",
       "      <td>-1.056176</td>\n",
       "      <td>...</td>\n",
       "      <td>-0.0548</td>\n",
       "      <td>-0.303967</td>\n",
       "      <td>-0.027369</td>\n",
       "      <td>0.388242</td>\n",
       "      <td>-0.257373</td>\n",
       "      <td>-0.027369</td>\n",
       "      <td>-0.091115</td>\n",
       "      <td>-0.123278</td>\n",
       "      <td>0.45722</td>\n",
       "      <td>-0.308354</td>\n",
       "    </tr>\n",
       "    <tr>\n",
       "      <th>1</th>\n",
       "      <td>-0.888561</td>\n",
       "      <td>-0.868571</td>\n",
       "      <td>-0.096071</td>\n",
       "      <td>-1.011578</td>\n",
       "      <td>-1.154649</td>\n",
       "      <td>-0.130854</td>\n",
       "      <td>-0.158594</td>\n",
       "      <td>-1.624231</td>\n",
       "      <td>2.230762</td>\n",
       "      <td>-1.056176</td>\n",
       "      <td>...</td>\n",
       "      <td>-0.0548</td>\n",
       "      <td>-0.303967</td>\n",
       "      <td>-0.027369</td>\n",
       "      <td>0.388242</td>\n",
       "      <td>-0.257373</td>\n",
       "      <td>-0.027369</td>\n",
       "      <td>-0.091115</td>\n",
       "      <td>-0.123278</td>\n",
       "      <td>0.45722</td>\n",
       "      <td>-0.308354</td>\n",
       "    </tr>\n",
       "    <tr>\n",
       "      <th>2</th>\n",
       "      <td>0.374700</td>\n",
       "      <td>0.313130</td>\n",
       "      <td>1.160276</td>\n",
       "      <td>-0.409426</td>\n",
       "      <td>0.906547</td>\n",
       "      <td>-0.005306</td>\n",
       "      <td>-0.000011</td>\n",
       "      <td>-0.130274</td>\n",
       "      <td>-0.531331</td>\n",
       "      <td>0.771610</td>\n",
       "      <td>...</td>\n",
       "      <td>-0.0548</td>\n",
       "      <td>-0.303967</td>\n",
       "      <td>-0.027369</td>\n",
       "      <td>0.388242</td>\n",
       "      <td>-0.257373</td>\n",
       "      <td>-0.027369</td>\n",
       "      <td>-0.091115</td>\n",
       "      <td>-0.123278</td>\n",
       "      <td>0.45722</td>\n",
       "      <td>-0.308354</td>\n",
       "    </tr>\n",
       "    <tr>\n",
       "      <th>3</th>\n",
       "      <td>-0.340233</td>\n",
       "      <td>-0.496739</td>\n",
       "      <td>-0.809133</td>\n",
       "      <td>-2.448532</td>\n",
       "      <td>-0.431612</td>\n",
       "      <td>-0.101363</td>\n",
       "      <td>-0.126081</td>\n",
       "      <td>-1.624231</td>\n",
       "      <td>-0.531331</td>\n",
       "      <td>0.771610</td>\n",
       "      <td>...</td>\n",
       "      <td>-0.0548</td>\n",
       "      <td>-0.303967</td>\n",
       "      <td>-0.027369</td>\n",
       "      <td>0.388242</td>\n",
       "      <td>-0.257373</td>\n",
       "      <td>-0.027369</td>\n",
       "      <td>-0.091115</td>\n",
       "      <td>-0.123278</td>\n",
       "      <td>0.45722</td>\n",
       "      <td>-0.308354</td>\n",
       "    </tr>\n",
       "    <tr>\n",
       "      <th>4</th>\n",
       "      <td>-0.253258</td>\n",
       "      <td>-0.026053</td>\n",
       "      <td>-0.843088</td>\n",
       "      <td>1.107358</td>\n",
       "      <td>1.683542</td>\n",
       "      <td>-0.093160</td>\n",
       "      <td>-0.062028</td>\n",
       "      <td>-0.877252</td>\n",
       "      <td>0.389367</td>\n",
       "      <td>-1.056176</td>\n",
       "      <td>...</td>\n",
       "      <td>-0.0548</td>\n",
       "      <td>-0.303967</td>\n",
       "      <td>-0.027369</td>\n",
       "      <td>-2.575711</td>\n",
       "      <td>-0.257373</td>\n",
       "      <td>-0.027369</td>\n",
       "      <td>-0.091115</td>\n",
       "      <td>-0.123278</td>\n",
       "      <td>0.45722</td>\n",
       "      <td>-0.308354</td>\n",
       "    </tr>\n",
       "  </tbody>\n",
       "</table>\n",
       "<p>5 rows × 63 columns</p>\n",
       "</div>"
      ],
      "text/plain": [
       "    LotArea  GrLivArea  YearBuilt  TotalBsmtSF  GarageArea  LotAreaSqrd  \\\n",
       "0 -0.174981  -0.357075  -0.469580    -0.954556    0.210489    -0.084953   \n",
       "1 -0.888561  -0.868571  -0.096071    -1.011578   -1.154649    -0.130854   \n",
       "2  0.374700   0.313130   1.160276    -0.409426    0.906547    -0.005306   \n",
       "3 -0.340233  -0.496739  -0.809133    -2.448532   -0.431612    -0.101363   \n",
       "4 -0.253258  -0.026053  -0.843088     1.107358    1.683542    -0.093160   \n",
       "\n",
       "   GrLivAreaSqrd  OverallQuality  OverallCondition  FullBath  ...  \\\n",
       "0      -0.109744       -0.130274          0.389367 -1.056176  ...   \n",
       "1      -0.158594       -1.624231          2.230762 -1.056176  ...   \n",
       "2      -0.000011       -0.130274         -0.531331  0.771610  ...   \n",
       "3      -0.126081       -1.624231         -0.531331  0.771610  ...   \n",
       "4      -0.062028       -0.877252          0.389367 -1.056176  ...   \n",
       "\n",
       "   SaleType_ConLw  SaleType_New  SaleType_Oth  SaleType_WD  \\\n",
       "0         -0.0548     -0.303967     -0.027369     0.388242   \n",
       "1         -0.0548     -0.303967     -0.027369     0.388242   \n",
       "2         -0.0548     -0.303967     -0.027369     0.388242   \n",
       "3         -0.0548     -0.303967     -0.027369     0.388242   \n",
       "4         -0.0548     -0.303967     -0.027369    -2.575711   \n",
       "\n",
       "   SaleCondition_Abnorml  SaleCondition_AdjLand  SaleCondition_Alloca  \\\n",
       "0              -0.257373              -0.027369             -0.091115   \n",
       "1              -0.257373              -0.027369             -0.091115   \n",
       "2              -0.257373              -0.027369             -0.091115   \n",
       "3              -0.257373              -0.027369             -0.091115   \n",
       "4              -0.257373              -0.027369             -0.091115   \n",
       "\n",
       "   SaleCondition_Family  SaleCondition_Normal  SaleCondition_Partial  \n",
       "0             -0.123278               0.45722              -0.308354  \n",
       "1             -0.123278               0.45722              -0.308354  \n",
       "2             -0.123278               0.45722              -0.308354  \n",
       "3             -0.123278               0.45722              -0.308354  \n",
       "4             -0.123278               0.45722              -0.308354  \n",
       "\n",
       "[5 rows x 63 columns]"
      ]
     },
     "execution_count": 3,
     "metadata": {},
     "output_type": "execute_result"
    }
   ],
   "source": [
    "clean_scaled_data_df.head(5)"
   ]
  },
  {
   "cell_type": "code",
   "execution_count": 4,
   "id": "9d8821c7-7fc4-4667-ad04-6e6dc3f84e4a",
   "metadata": {},
   "outputs": [
    {
     "data": {
      "text/html": [
       "<div>\n",
       "<style scoped>\n",
       "    .dataframe tbody tr th:only-of-type {\n",
       "        vertical-align: middle;\n",
       "    }\n",
       "\n",
       "    .dataframe tbody tr th {\n",
       "        vertical-align: top;\n",
       "    }\n",
       "\n",
       "    .dataframe thead th {\n",
       "        text-align: right;\n",
       "    }\n",
       "</style>\n",
       "<table border=\"1\" class=\"dataframe\">\n",
       "  <thead>\n",
       "    <tr style=\"text-align: right;\">\n",
       "      <th></th>\n",
       "      <th>SalePrice</th>\n",
       "    </tr>\n",
       "  </thead>\n",
       "  <tbody>\n",
       "    <tr>\n",
       "      <th>0</th>\n",
       "      <td>159500</td>\n",
       "    </tr>\n",
       "    <tr>\n",
       "      <th>1</th>\n",
       "      <td>86000</td>\n",
       "    </tr>\n",
       "    <tr>\n",
       "      <th>2</th>\n",
       "      <td>214000</td>\n",
       "    </tr>\n",
       "    <tr>\n",
       "      <th>3</th>\n",
       "      <td>90000</td>\n",
       "    </tr>\n",
       "    <tr>\n",
       "      <th>4</th>\n",
       "      <td>153500</td>\n",
       "    </tr>\n",
       "  </tbody>\n",
       "</table>\n",
       "</div>"
      ],
      "text/plain": [
       "   SalePrice\n",
       "0     159500\n",
       "1      86000\n",
       "2     214000\n",
       "3      90000\n",
       "4     153500"
      ]
     },
     "execution_count": 4,
     "metadata": {},
     "output_type": "execute_result"
    }
   ],
   "source": [
    "y_df.head(5)"
   ]
  },
  {
   "cell_type": "markdown",
   "id": "995df59b-2884-46ba-b426-c88b57848d54",
   "metadata": {},
   "source": [
    "# <ins> 2. Partition Data <ins> "
   ]
  },
  {
   "cell_type": "code",
   "execution_count": 5,
   "id": "69238e53-99d7-411b-9e30-61207cd52b1e",
   "metadata": {},
   "outputs": [],
   "source": [
    "# X_train_valid, X_test, y_train_valid, y_test = train_test_split(clean_scaled_data_df, y_df, test_size=0.20, stratify=y, random_state=42)\n",
    "# X_train, X_valid, y_train, y_valid = train_test_split(X_train_valid, y_train_valid, test_size=0.40, stratify=y_train_valid, random_state=42)\n",
    "\n",
    "X_train_valid, X_test, y_train_valid, y_test = train_test_split(clean_scaled_data_df, y_df, test_size=0.20, random_state=42)\n",
    "X_train, X_valid, y_train, y_valid = train_test_split(X_train_valid, y_train_valid, test_size=0.20, random_state=42)"
   ]
  },
  {
   "cell_type": "code",
   "execution_count": 6,
   "id": "20eda334-90c9-4be0-a7af-350d080f45ba",
   "metadata": {},
   "outputs": [
    {
     "name": "stdout",
     "output_type": "stream",
     "text": [
      "Train-set size: (854, 63) --- Perecentage: 63.92\n",
      "Validation-set size: (214, 63) --- Perecentage: 16.02\n",
      "Test-set size: (268, 63) --- Perecentage: 20.06\n"
     ]
    }
   ],
   "source": [
    "print(f\"Train-set size: {X_train.shape} --- Perecentage: {100*X_train.shape[0]/clean_scaled_data_df.shape[0]:.2f}\")\n",
    "print(f\"Validation-set size: {X_valid.shape} --- Perecentage: {100*X_valid.shape[0]/clean_scaled_data_df.shape[0]:.2f}\")\n",
    "print(f\"Test-set size: {X_test.shape} --- Perecentage: {100*X_test.shape[0]/clean_scaled_data_df.shape[0]:.2f}\")"
   ]
  },
  {
   "cell_type": "code",
   "execution_count": null,
   "id": "f6dfc471-0094-448c-adfa-c9d0e116f804",
   "metadata": {},
   "outputs": [],
   "source": []
  },
  {
   "cell_type": "markdown",
   "id": "e658cb13-3761-4901-8aa3-d7f66647f842",
   "metadata": {},
   "source": [
    "# <ins>  3. Train Simple Linear Regressor <ins> "
   ]
  },
  {
   "cell_type": "code",
   "execution_count": 7,
   "id": "d86fd5a5-0637-4522-93ad-9773714c1017",
   "metadata": {},
   "outputs": [],
   "source": [
    "lr_model = LinearRegression().fit(X_train_valid, y_train_valid)\n",
    "y_pred_test = lr_model.predict(X_test)\n",
    "r2_value = r2_score(y_test, y_pred_test)\n",
    "rmse_value = root_mean_squared_error(y_test, y_pred_test)"
   ]
  },
  {
   "cell_type": "code",
   "execution_count": 8,
   "id": "6d746b54-db43-4c48-bc3a-f5c4fe950dbd",
   "metadata": {},
   "outputs": [
    {
     "name": "stdout",
     "output_type": "stream",
     "text": [
      "R2 Score: 0.7733243830316461\n",
      "RMSE Score: 38605.29196388142\n"
     ]
    }
   ],
   "source": [
    "print(f\"R2 Score: {r2_value}\")\n",
    "print(f\"RMSE Score: {rmse_value}\")"
   ]
  },
  {
   "cell_type": "code",
   "execution_count": 9,
   "id": "7bf6e00b-66a7-492e-addf-4975f63005db",
   "metadata": {},
   "outputs": [
    {
     "data": {
      "image/png": "[encoded data removed]",
      "text/plain": [
       "<Figure size 500x500 with 1 Axes>"
      ]
     },
     "metadata": {},
     "output_type": "display_data"
    }
   ],
   "source": [
    "plt.figure(figsize=(5, 5))\n",
    "pf = sns.scatterplot(x=y_pred_test.flatten(), y=y_test.to_numpy().flatten(), legend=\"full\")\n",
    "plt.plot(y_test.to_numpy().flatten(), y_test.to_numpy().flatten(), color=\"red\", linewidth=3)\n",
    "plt.title(f\"Linear Regression (R2={r2_value:.2f})\")\n",
    "pf.set_xlabel(\"Predicted Price\",fontsize=16)\n",
    "pf.set_ylabel(\"Real Price\",fontsize=16)\n",
    "plt.xticks(rotation=90);"
   ]
  },
  {
   "cell_type": "markdown",
   "id": "592308dd-b5f7-4fb8-9121-165ed71b0633",
   "metadata": {},
   "source": [
    "# <center> Using a simple linear regression model,<br> the sale price prediction deviates on average <br> <ins> +/- $39k </ins><br>from the real sale price."
   ]
  },
  {
   "cell_type": "code",
   "execution_count": null,
   "id": "60c29db7-d3da-4544-8961-472857cf8ab3",
   "metadata": {},
   "outputs": [],
   "source": []
  },
  {
   "cell_type": "markdown",
   "id": "f5297089-4313-4df4-a77b-feef2b4eb526",
   "metadata": {},
   "source": [
    "# <ins>  4. Train XGBoost Regressor <ins> "
   ]
  },
  {
   "cell_type": "code",
   "execution_count": 10,
   "id": "982be7df-f5bf-475d-bbd6-e5f6ee0704dd",
   "metadata": {},
   "outputs": [],
   "source": [
    "# Objective function for hyperparameter tuning of XGBRegressor\n",
    "def objective_xgb(trial, X_train, X_valid, y_train, y_valid):\n",
    "    \n",
    "    params = {\n",
    "    \"objective\":\"reg:squarederror\",\n",
    "    \"max_depth\": trial.suggest_int(\"max_depth\", 10, 50, step=5),\n",
    "    \"n_estimators\": trial.suggest_int(\"n_estimators\", 100, 1000, step=50),\n",
    "    \"learning_rate\": trial.suggest_float(\"learning_rate\", 1e-6, 1, log=False),\n",
    "    \"subsample\": trial.suggest_float(\"subsample\", 0.05, 1.0),\n",
    "    \"colsample_bytree\": trial.suggest_float(\"colsample_bytree\", 0.05, 1.0),\n",
    "    \"min_child_weight\": trial.suggest_int(\"min_child_weight\", 1, 20),\n",
    "    }\n",
    "   \n",
    "    model = XGBRegressor(**params,random_state=42).fit(X_train, y_train)\n",
    "    y_predicted = model.predict(X_valid)\n",
    "    r2 = r2_score(y_valid, y_predicted)\n",
    "    \n",
    "    return r2"
   ]
  },
  {
   "cell_type": "code",
   "execution_count": null,
   "id": "20cffb1b-de82-4029-a9ad-0d46e8531254",
   "metadata": {},
   "outputs": [
    {
     "name": "stderr",
     "output_type": "stream",
     "text": [
      "[I 2025-04-19 16:31:57,771] A new study created in memory with name: no-name-8ed34166-6bdf-43ca-87ad-213ec5ccfb65\n",
      "[I 2025-04-19 16:31:58,003] Trial 0 finished with value: 0.8335878252983093 and parameters: {'max_depth': 30, 'n_estimators': 150, 'learning_rate': 0.17644837951095008, 'subsample': 0.12884027341098564, 'colsample_bytree': 0.5416043391442577, 'min_child_weight': 10}. Best is trial 0 with value: 0.8335878252983093.\n",
      "[I 2025-04-19 16:31:58,321] Trial 1 finished with value: 0.7883375883102417 and parameters: {'max_depth': 10, 'n_estimators': 350, 'learning_rate': 0.45620841814697227, 'subsample': 0.40661505489166916, 'colsample_bytree': 0.5454114127290906, 'min_child_weight': 18}. Best is trial 0 with value: 0.8335878252983093.\n",
      "[I 2025-04-19 16:31:58,531] Trial 2 finished with value: 0.06167227029800415 and parameters: {'max_depth': 40, 'n_estimators': 650, 'learning_rate': 0.9160429581083628, 'subsample': 0.12078530354154116, 'colsample_bytree': 0.06527094972073703, 'min_child_weight': 20}. Best is trial 0 with value: 0.8335878252983093.\n",
      "[I 2025-04-19 16:32:00,406] Trial 3 finished with value: 0.5943121910095215 and parameters: {'max_depth': 25, 'n_estimators': 650, 'learning_rate': 0.9459563143891899, 'subsample': 0.5697155657501946, 'colsample_bytree': 0.8020253362047263, 'min_child_weight': 19}. Best is trial 0 with value: 0.8335878252983093.\n",
      "[I 2025-04-19 16:32:02,624] Trial 4 finished with value: 0.8676568865776062 and parameters: {'max_depth': 45, 'n_estimators': 600, 'learning_rate': 0.06087998075534421, 'subsample': 0.8322553179893515, 'colsample_bytree': 0.8452637308596135, 'min_child_weight': 9}. Best is trial 4 with value: 0.8676568865776062.\n",
      "[I 2025-04-19 16:32:03,055] Trial 5 finished with value: 0.8547409772872925 and parameters: {'max_depth': 20, 'n_estimators': 350, 'learning_rate': 0.10779346140247534, 'subsample': 0.100700541293992, 'colsample_bytree': 0.20687849154777738, 'min_child_weight': 10}. Best is trial 4 with value: 0.8676568865776062.\n",
      "[I 2025-04-19 16:32:03,158] Trial 6 finished with value: 0.8151061534881592 and parameters: {'max_depth': 30, 'n_estimators': 100, 'learning_rate': 0.45903111712775146, 'subsample': 0.8304287245003849, 'colsample_bytree': 0.46486643220219476, 'min_child_weight': 20}. Best is trial 4 with value: 0.8676568865776062.\n",
      "[I 2025-04-19 16:32:03,851] Trial 7 finished with value: -2330675456.0 and parameters: {'max_depth': 15, 'n_estimators': 850, 'learning_rate': 0.8509907826897679, 'subsample': 0.22187457397861904, 'colsample_bytree': 0.6041695986891213, 'min_child_weight': 8}. Best is trial 4 with value: 0.8676568865776062.\n",
      "[I 2025-04-19 16:32:04,321] Trial 8 finished with value: 0.8359982967376709 and parameters: {'max_depth': 20, 'n_estimators': 200, 'learning_rate': 0.37140996169782614, 'subsample': 0.7044742142345641, 'colsample_bytree': 0.4997663226974853, 'min_child_weight': 5}. Best is trial 4 with value: 0.8676568865776062.\n",
      "[I 2025-04-19 16:32:07,285] Trial 9 finished with value: 0.8378629684448242 and parameters: {'max_depth': 40, 'n_estimators': 600, 'learning_rate': 0.4392629687589443, 'subsample': 0.8388319048134749, 'colsample_bytree': 0.5375464058466947, 'min_child_weight': 2}. Best is trial 4 with value: 0.8676568865776062.\n",
      "[I 2025-04-19 16:32:10,371] Trial 10 finished with value: 0.8754209876060486 and parameters: {'max_depth': 50, 'n_estimators': 900, 'learning_rate': 0.018764239762489615, 'subsample': 0.9876064157585319, 'colsample_bytree': 0.9948656730446243, 'min_child_weight': 14}. Best is trial 10 with value: 0.8754209876060486.\n",
      "[I 2025-04-19 16:32:12,690] Trial 11 finished with value: 0.8794008493423462 and parameters: {'max_depth': 50, 'n_estimators': 1000, 'learning_rate': 0.03271154176065767, 'subsample': 0.95906601892862, 'colsample_bytree': 0.9869596768708995, 'min_child_weight': 15}. Best is trial 11 with value: 0.8794008493423462.\n",
      "[I 2025-04-19 16:32:15,736] Trial 12 finished with value: 0.8533072471618652 and parameters: {'max_depth': 50, 'n_estimators': 1000, 'learning_rate': 0.2468965665832096, 'subsample': 0.956088483841131, 'colsample_bytree': 0.9993496941579577, 'min_child_weight': 15}. Best is trial 11 with value: 0.8794008493423462.\n",
      "[I 2025-04-19 16:32:17,902] Trial 13 finished with value: 0.8010889291763306 and parameters: {'max_depth': 50, 'n_estimators': 1000, 'learning_rate': 0.7015811236228595, 'subsample': 0.9583563130415643, 'colsample_bytree': 0.9607319482155398, 'min_child_weight': 14}. Best is trial 11 with value: 0.8794008493423462.\n",
      "[I 2025-04-19 16:32:20,291] Trial 14 finished with value: 0.893441915512085 and parameters: {'max_depth': 40, 'n_estimators': 800, 'learning_rate': 0.01311143060512826, 'subsample': 0.6554830130816223, 'colsample_bytree': 0.7488733666572713, 'min_child_weight': 14}. Best is trial 14 with value: 0.893441915512085.\n",
      "[I 2025-04-19 16:32:21,189] Trial 15 finished with value: 0.8249877095222473 and parameters: {'max_depth': 40, 'n_estimators': 750, 'learning_rate': 0.28013724648550736, 'subsample': 0.565993655218041, 'colsample_bytree': 0.7459655637948034, 'min_child_weight': 16}. Best is trial 14 with value: 0.893441915512085.\n",
      "[I 2025-04-19 16:32:21,948] Trial 16 finished with value: 0.6207189559936523 and parameters: {'max_depth': 35, 'n_estimators': 800, 'learning_rate': 0.7007851196413437, 'subsample': 0.37490504855674306, 'colsample_bytree': 0.7023784886809006, 'min_child_weight': 12}. Best is trial 14 with value: 0.893441915512085.\n",
      "[I 2025-04-19 16:32:23,472] Trial 17 finished with value: 0.8666663765907288 and parameters: {'max_depth': 45, 'n_estimators': 900, 'learning_rate': 0.17734043098512425, 'subsample': 0.6602129805970283, 'colsample_bytree': 0.8687801652948628, 'min_child_weight': 17}. Best is trial 14 with value: 0.893441915512085.\n",
      "[I 2025-04-19 16:32:24,196] Trial 18 finished with value: 0.8140066266059875 and parameters: {'max_depth': 35, 'n_estimators': 450, 'learning_rate': 0.6578771692478926, 'subsample': 0.7150036813087172, 'colsample_bytree': 0.3703408725863004, 'min_child_weight': 12}. Best is trial 14 with value: 0.893441915512085.\n"
     ]
    }
   ],
   "source": [
    "# XGBoost\n",
    "study_xgb = optuna.create_study(direction = \"maximize\")\n",
    "func = lambda trial: objective_xgb(trial, X_train, X_valid, y_train, y_valid)\n",
    "study_xgb.optimize(func, n_trials = 100, timeout=600)\n",
    "xgb_model = XGBRegressor(**study_xgb.best_trial.params).fit(X_train_valid, y_train_valid)"
   ]
  },
  {
   "cell_type": "code",
   "execution_count": null,
   "id": "b27e736c-b1a8-445c-b901-8b6fecbe88cb",
   "metadata": {},
   "outputs": [],
   "source": [
    "y_pred_test = xgb_model.predict(X_test)\n",
    "r2_value = r2_score(y_test, y_pred_test)\n",
    "rmse_value = root_mean_squared_error(y_test, y_pred_test)"
   ]
  },
  {
   "cell_type": "code",
   "execution_count": null,
   "id": "4c070e84-2aae-4ee9-96f8-4116939139aa",
   "metadata": {},
   "outputs": [],
   "source": [
    "print(f\"R2 Score: {r2_value}\")\n",
    "print(f\"RMSE Score: {rmse_value}\")"
   ]
  },
  {
   "cell_type": "code",
   "execution_count": null,
   "id": "42de7a00-5119-4062-b599-8db35967983c",
   "metadata": {},
   "outputs": [],
   "source": [
    "plt.figure(figsize=(5, 5))\n",
    "pf = sns.scatterplot(x=y_pred_test.flatten(), y=y_test.to_numpy().flatten(), legend=\"full\")\n",
    "plt.plot(y_test.to_numpy().flatten(), y_test.to_numpy().flatten(), color=\"red\", linewidth=3)\n",
    "plt.title(f\"XGB Regressor (R2={r2_value:.2f})\")\n",
    "pf.set_xlabel(\"Predicted Price\",fontsize=16)\n",
    "pf.set_ylabel(\"Real Price\",fontsize=16)\n",
    "plt.xticks(rotation=90);"
   ]
  },
  {
   "cell_type": "markdown",
   "id": "2ca01f14-f5c5-4b07-b54a-7180bcacdce9",
   "metadata": {},
   "source": [
    "# <center> Using an XGBoost Regressor,<br> the sale price prediction deviates on average <br> <ins> +/- $31k </ins><br>from the real sale price."
   ]
  },
  {
   "cell_type": "markdown",
   "id": "e08679e9-6cc0-4e58-9d6a-60812475207f",
   "metadata": {},
   "source": [
    "# 5. Save Models"
   ]
  },
  {
   "cell_type": "code",
   "execution_count": null,
   "id": "bc3bf54a-d613-4ee6-bdab-11437e28c3d9",
   "metadata": {},
   "outputs": [],
   "source": [
    "lr_path = models_path / \"LinearRegressorModel.bin\"\n",
    "joblib.dump(lr_model, lr_path, compress=True)"
   ]
  },
  {
   "cell_type": "code",
   "execution_count": null,
   "id": "4cda2428-85c6-4e2d-aab2-a470202e1739",
   "metadata": {},
   "outputs": [],
   "source": [
    "xgb_path = models_path / \"XGBRegressorModel.json\"\n",
    "xgb_model.save_model(xgb_path)"
   ]
  },
  {
   "cell_type": "code",
   "execution_count": null,
   "id": "51d262f1-6252-4980-a76a-dc5da85ccede",
   "metadata": {},
   "outputs": [],
   "source": []
  }
 ],
 "metadata": {
  "kernelspec": {
   "display_name": "Python 3 (ipykernel)",
   "language": "python",
   "name": "python3"
  },
  "language_info": {
   "codemirror_mode": {
    "name": "ipython",
    "version": 3
   },
   "file_extension": ".py",
   "mimetype": "text/x-python",
   "name": "python",
   "nbconvert_exporter": "python",
   "pygments_lexer": "ipython3",
   "version": "3.12.3"
  }
 },
 "nbformat": 4,
 "nbformat_minor": 5
}
