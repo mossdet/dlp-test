{
 "cells": [
  {
   "cell_type": "markdown",
   "id": "c248b0e7-b313-45de-a5b5-4a32576fc2d0",
   "metadata": {},
   "source": [
    "<img style=\"float: right;\" src=\"img/openhouse_logo.png\" width=\"200\" height=\"200\"/><br>\n",
    "\n",
    "# <center> <ins> House Price Prediction Coding Test <br><br> 5. Train and Test Model <ins> </center>\n",
    "### <center>by: Daniel Lachner-Piza, PhD <br> for: OpenHouse.ai </center>\n",
    "\n",
    "\n"
   ]
  },
  {
   "cell_type": "code",
   "execution_count": 16,
   "id": "5791fa66-60ba-4017-a1d1-1d4c4250e94a",
   "metadata": {},
   "outputs": [],
   "source": [
    "import os\n",
    "import joblib\n",
    "import pandas as pd\n",
    "import numpy as np\n",
    "import seaborn as sns\n",
    "import matplotlib.pyplot as plt\n",
    "import optuna\n",
    "\n",
    "from pathlib import Path\n",
    "from sklearn.linear_model import LinearRegression\n",
    "from sklearn.model_selection import train_test_split\n",
    "from sklearn.metrics import r2_score, root_mean_squared_error\n",
    "from xgboost import XGBRegressor\n",
    "\n",
    "EDA_FIG_SIZE = (3,3)\n",
    "models_path = Path(\"models\")\n",
    "os.makedirs(models_path, exist_ok=True)"
   ]
  },
  {
   "cell_type": "markdown",
   "id": "7b70b1b6-58c6-42e1-a1ed-f492a295ec5b",
   "metadata": {},
   "source": [
    "# <ins> 1.Data Loading <ins> "
   ]
  },
  {
   "cell_type": "code",
   "execution_count": 2,
   "id": "2439535d-affc-4446-88d4-b366aeb319ad",
   "metadata": {},
   "outputs": [],
   "source": [
    "clean_scaled_data_df = pd.read_csv(\"data/clean_scaled_dataset.csv\")\n",
    "y_df = pd.read_csv(\"data/target.csv\")"
   ]
  },
  {
   "cell_type": "code",
   "execution_count": 3,
   "id": "be88fa1d-38cf-40dd-b58d-f157d83fc291",
   "metadata": {},
   "outputs": [
    {
     "data": {
      "text/html": [
       "<div>\n",
       "<style scoped>\n",
       "    .dataframe tbody tr th:only-of-type {\n",
       "        vertical-align: middle;\n",
       "    }\n",
       "\n",
       "    .dataframe tbody tr th {\n",
       "        vertical-align: top;\n",
       "    }\n",
       "\n",
       "    .dataframe thead th {\n",
       "        text-align: right;\n",
       "    }\n",
       "</style>\n",
       "<table border=\"1\" class=\"dataframe\">\n",
       "  <thead>\n",
       "    <tr style=\"text-align: right;\">\n",
       "      <th></th>\n",
       "      <th>LotArea</th>\n",
       "      <th>GrLivArea</th>\n",
       "      <th>YearBuilt</th>\n",
       "      <th>TotalBsmtSF</th>\n",
       "      <th>GarageArea</th>\n",
       "      <th>OverallQuality</th>\n",
       "      <th>OverallCondition</th>\n",
       "      <th>FullBath</th>\n",
       "      <th>HalfBath</th>\n",
       "      <th>GarageCars</th>\n",
       "      <th>...</th>\n",
       "      <th>SaleType_ConLw</th>\n",
       "      <th>SaleType_New</th>\n",
       "      <th>SaleType_Oth</th>\n",
       "      <th>SaleType_WD</th>\n",
       "      <th>SaleCondition_Abnorml</th>\n",
       "      <th>SaleCondition_AdjLand</th>\n",
       "      <th>SaleCondition_Alloca</th>\n",
       "      <th>SaleCondition_Family</th>\n",
       "      <th>SaleCondition_Normal</th>\n",
       "      <th>SaleCondition_Partial</th>\n",
       "    </tr>\n",
       "  </thead>\n",
       "  <tbody>\n",
       "    <tr>\n",
       "      <th>0</th>\n",
       "      <td>-0.174981</td>\n",
       "      <td>-0.357075</td>\n",
       "      <td>-0.469580</td>\n",
       "      <td>-0.954556</td>\n",
       "      <td>0.210489</td>\n",
       "      <td>-0.130274</td>\n",
       "      <td>0.389367</td>\n",
       "      <td>-1.056176</td>\n",
       "      <td>-0.785264</td>\n",
       "      <td>0.209788</td>\n",
       "      <td>...</td>\n",
       "      <td>-0.0548</td>\n",
       "      <td>-0.303967</td>\n",
       "      <td>-0.027369</td>\n",
       "      <td>0.388242</td>\n",
       "      <td>-0.257373</td>\n",
       "      <td>-0.027369</td>\n",
       "      <td>-0.091115</td>\n",
       "      <td>-0.123278</td>\n",
       "      <td>0.45722</td>\n",
       "      <td>-0.308354</td>\n",
       "    </tr>\n",
       "    <tr>\n",
       "      <th>1</th>\n",
       "      <td>-0.888561</td>\n",
       "      <td>-0.868571</td>\n",
       "      <td>-0.096071</td>\n",
       "      <td>-1.011578</td>\n",
       "      <td>-1.154649</td>\n",
       "      <td>-1.624231</td>\n",
       "      <td>2.230762</td>\n",
       "      <td>-1.056176</td>\n",
       "      <td>-0.785264</td>\n",
       "      <td>-1.382694</td>\n",
       "      <td>...</td>\n",
       "      <td>-0.0548</td>\n",
       "      <td>-0.303967</td>\n",
       "      <td>-0.027369</td>\n",
       "      <td>0.388242</td>\n",
       "      <td>-0.257373</td>\n",
       "      <td>-0.027369</td>\n",
       "      <td>-0.091115</td>\n",
       "      <td>-0.123278</td>\n",
       "      <td>0.45722</td>\n",
       "      <td>-0.308354</td>\n",
       "    </tr>\n",
       "    <tr>\n",
       "      <th>2</th>\n",
       "      <td>0.374700</td>\n",
       "      <td>0.313130</td>\n",
       "      <td>1.160276</td>\n",
       "      <td>-0.409426</td>\n",
       "      <td>0.906547</td>\n",
       "      <td>-0.130274</td>\n",
       "      <td>-0.531331</td>\n",
       "      <td>0.771610</td>\n",
       "      <td>1.205462</td>\n",
       "      <td>1.802270</td>\n",
       "      <td>...</td>\n",
       "      <td>-0.0548</td>\n",
       "      <td>-0.303967</td>\n",
       "      <td>-0.027369</td>\n",
       "      <td>0.388242</td>\n",
       "      <td>-0.257373</td>\n",
       "      <td>-0.027369</td>\n",
       "      <td>-0.091115</td>\n",
       "      <td>-0.123278</td>\n",
       "      <td>0.45722</td>\n",
       "      <td>-0.308354</td>\n",
       "    </tr>\n",
       "    <tr>\n",
       "      <th>3</th>\n",
       "      <td>-0.340233</td>\n",
       "      <td>-0.496739</td>\n",
       "      <td>-0.809133</td>\n",
       "      <td>-2.448532</td>\n",
       "      <td>-0.431612</td>\n",
       "      <td>-1.624231</td>\n",
       "      <td>-0.531331</td>\n",
       "      <td>0.771610</td>\n",
       "      <td>-0.785264</td>\n",
       "      <td>0.209788</td>\n",
       "      <td>...</td>\n",
       "      <td>-0.0548</td>\n",
       "      <td>-0.303967</td>\n",
       "      <td>-0.027369</td>\n",
       "      <td>0.388242</td>\n",
       "      <td>-0.257373</td>\n",
       "      <td>-0.027369</td>\n",
       "      <td>-0.091115</td>\n",
       "      <td>-0.123278</td>\n",
       "      <td>0.45722</td>\n",
       "      <td>-0.308354</td>\n",
       "    </tr>\n",
       "    <tr>\n",
       "      <th>4</th>\n",
       "      <td>-0.253258</td>\n",
       "      <td>-0.026053</td>\n",
       "      <td>-0.843088</td>\n",
       "      <td>1.107358</td>\n",
       "      <td>1.683542</td>\n",
       "      <td>-0.877252</td>\n",
       "      <td>0.389367</td>\n",
       "      <td>-1.056176</td>\n",
       "      <td>-0.785264</td>\n",
       "      <td>0.209788</td>\n",
       "      <td>...</td>\n",
       "      <td>-0.0548</td>\n",
       "      <td>-0.303967</td>\n",
       "      <td>-0.027369</td>\n",
       "      <td>-2.575711</td>\n",
       "      <td>-0.257373</td>\n",
       "      <td>-0.027369</td>\n",
       "      <td>-0.091115</td>\n",
       "      <td>-0.123278</td>\n",
       "      <td>0.45722</td>\n",
       "      <td>-0.308354</td>\n",
       "    </tr>\n",
       "  </tbody>\n",
       "</table>\n",
       "<p>5 rows × 61 columns</p>\n",
       "</div>"
      ],
      "text/plain": [
       "    LotArea  GrLivArea  YearBuilt  TotalBsmtSF  GarageArea  OverallQuality  \\\n",
       "0 -0.174981  -0.357075  -0.469580    -0.954556    0.210489       -0.130274   \n",
       "1 -0.888561  -0.868571  -0.096071    -1.011578   -1.154649       -1.624231   \n",
       "2  0.374700   0.313130   1.160276    -0.409426    0.906547       -0.130274   \n",
       "3 -0.340233  -0.496739  -0.809133    -2.448532   -0.431612       -1.624231   \n",
       "4 -0.253258  -0.026053  -0.843088     1.107358    1.683542       -0.877252   \n",
       "\n",
       "   OverallCondition  FullBath  HalfBath  GarageCars  ...  SaleType_ConLw  \\\n",
       "0          0.389367 -1.056176 -0.785264    0.209788  ...         -0.0548   \n",
       "1          2.230762 -1.056176 -0.785264   -1.382694  ...         -0.0548   \n",
       "2         -0.531331  0.771610  1.205462    1.802270  ...         -0.0548   \n",
       "3         -0.531331  0.771610 -0.785264    0.209788  ...         -0.0548   \n",
       "4          0.389367 -1.056176 -0.785264    0.209788  ...         -0.0548   \n",
       "\n",
       "   SaleType_New  SaleType_Oth  SaleType_WD  SaleCondition_Abnorml  \\\n",
       "0     -0.303967     -0.027369     0.388242              -0.257373   \n",
       "1     -0.303967     -0.027369     0.388242              -0.257373   \n",
       "2     -0.303967     -0.027369     0.388242              -0.257373   \n",
       "3     -0.303967     -0.027369     0.388242              -0.257373   \n",
       "4     -0.303967     -0.027369    -2.575711              -0.257373   \n",
       "\n",
       "   SaleCondition_AdjLand  SaleCondition_Alloca  SaleCondition_Family  \\\n",
       "0              -0.027369             -0.091115             -0.123278   \n",
       "1              -0.027369             -0.091115             -0.123278   \n",
       "2              -0.027369             -0.091115             -0.123278   \n",
       "3              -0.027369             -0.091115             -0.123278   \n",
       "4              -0.027369             -0.091115             -0.123278   \n",
       "\n",
       "   SaleCondition_Normal  SaleCondition_Partial  \n",
       "0               0.45722              -0.308354  \n",
       "1               0.45722              -0.308354  \n",
       "2               0.45722              -0.308354  \n",
       "3               0.45722              -0.308354  \n",
       "4               0.45722              -0.308354  \n",
       "\n",
       "[5 rows x 61 columns]"
      ]
     },
     "execution_count": 3,
     "metadata": {},
     "output_type": "execute_result"
    }
   ],
   "source": [
    "clean_scaled_data_df.head(5)"
   ]
  },
  {
   "cell_type": "code",
   "execution_count": 4,
   "id": "9d8821c7-7fc4-4667-ad04-6e6dc3f84e4a",
   "metadata": {},
   "outputs": [
    {
     "data": {
      "text/html": [
       "<div>\n",
       "<style scoped>\n",
       "    .dataframe tbody tr th:only-of-type {\n",
       "        vertical-align: middle;\n",
       "    }\n",
       "\n",
       "    .dataframe tbody tr th {\n",
       "        vertical-align: top;\n",
       "    }\n",
       "\n",
       "    .dataframe thead th {\n",
       "        text-align: right;\n",
       "    }\n",
       "</style>\n",
       "<table border=\"1\" class=\"dataframe\">\n",
       "  <thead>\n",
       "    <tr style=\"text-align: right;\">\n",
       "      <th></th>\n",
       "      <th>SalePrice</th>\n",
       "    </tr>\n",
       "  </thead>\n",
       "  <tbody>\n",
       "    <tr>\n",
       "      <th>0</th>\n",
       "      <td>159500</td>\n",
       "    </tr>\n",
       "    <tr>\n",
       "      <th>1</th>\n",
       "      <td>86000</td>\n",
       "    </tr>\n",
       "    <tr>\n",
       "      <th>2</th>\n",
       "      <td>214000</td>\n",
       "    </tr>\n",
       "    <tr>\n",
       "      <th>3</th>\n",
       "      <td>90000</td>\n",
       "    </tr>\n",
       "    <tr>\n",
       "      <th>4</th>\n",
       "      <td>153500</td>\n",
       "    </tr>\n",
       "  </tbody>\n",
       "</table>\n",
       "</div>"
      ],
      "text/plain": [
       "   SalePrice\n",
       "0     159500\n",
       "1      86000\n",
       "2     214000\n",
       "3      90000\n",
       "4     153500"
      ]
     },
     "execution_count": 4,
     "metadata": {},
     "output_type": "execute_result"
    }
   ],
   "source": [
    "y_df.head(5)"
   ]
  },
  {
   "cell_type": "markdown",
   "id": "995df59b-2884-46ba-b426-c88b57848d54",
   "metadata": {},
   "source": [
    "# <ins> 2. Partition Data <ins> "
   ]
  },
  {
   "cell_type": "code",
   "execution_count": 5,
   "id": "69238e53-99d7-411b-9e30-61207cd52b1e",
   "metadata": {},
   "outputs": [],
   "source": [
    "# X_train_valid, X_test, y_train_valid, y_test = train_test_split(clean_scaled_data_df, y_df, test_size=0.20, stratify=y, random_state=42)\n",
    "# X_train, X_valid, y_train, y_valid = train_test_split(X_train_valid, y_train_valid, test_size=0.40, stratify=y_train_valid, random_state=42)\n",
    "\n",
    "X_train_valid, X_test, y_train_valid, y_test = train_test_split(clean_scaled_data_df, y_df, test_size=0.20, random_state=42)\n",
    "X_train, X_valid, y_train, y_valid = train_test_split(X_train_valid, y_train_valid, test_size=0.20, random_state=42)"
   ]
  },
  {
   "cell_type": "code",
   "execution_count": 6,
   "id": "20eda334-90c9-4be0-a7af-350d080f45ba",
   "metadata": {},
   "outputs": [
    {
     "name": "stdout",
     "output_type": "stream",
     "text": [
      "Train-set size: (854, 61) --- Perecentage: 63.92\n",
      "Validation-set size: (214, 61) --- Perecentage: 16.02\n",
      "Test-set size: (268, 61) --- Perecentage: 20.06\n"
     ]
    }
   ],
   "source": [
    "print(f\"Train-set size: {X_train.shape} --- Perecentage: {100*X_train.shape[0]/clean_scaled_data_df.shape[0]:.2f}\")\n",
    "print(f\"Validation-set size: {X_valid.shape} --- Perecentage: {100*X_valid.shape[0]/clean_scaled_data_df.shape[0]:.2f}\")\n",
    "print(f\"Test-set size: {X_test.shape} --- Perecentage: {100*X_test.shape[0]/clean_scaled_data_df.shape[0]:.2f}\")"
   ]
  },
  {
   "cell_type": "code",
   "execution_count": null,
   "id": "f6dfc471-0094-448c-adfa-c9d0e116f804",
   "metadata": {},
   "outputs": [],
   "source": []
  },
  {
   "cell_type": "markdown",
   "id": "e658cb13-3761-4901-8aa3-d7f66647f842",
   "metadata": {},
   "source": [
    "# <ins>  3. Train Simple Linear Regressor <ins> "
   ]
  },
  {
   "cell_type": "code",
   "execution_count": 7,
   "id": "d86fd5a5-0637-4522-93ad-9773714c1017",
   "metadata": {},
   "outputs": [],
   "source": [
    "lr_model = LinearRegression().fit(X_train_valid, y_train_valid)\n",
    "y_pred_test = lr_model.predict(X_test)\n",
    "r2_value = r2_score(y_test, y_pred_test)\n",
    "rmse_value = root_mean_squared_error(y_test, y_pred_test)"
   ]
  },
  {
   "cell_type": "code",
   "execution_count": 8,
   "id": "6d746b54-db43-4c48-bc3a-f5c4fe950dbd",
   "metadata": {},
   "outputs": [
    {
     "name": "stdout",
     "output_type": "stream",
     "text": [
      "R2 Score: 0.7551370221609158\n",
      "RMSE Score: 40124.16442334738\n"
     ]
    }
   ],
   "source": [
    "print(f\"R2 Score: {r2_value}\")\n",
    "print(f\"RMSE Score: {rmse_value}\")"
   ]
  },
  {
   "cell_type": "markdown",
   "id": "592308dd-b5f7-4fb8-9121-165ed71b0633",
   "metadata": {},
   "source": [
    "# <center> Using a simple linear regression model,<br> the sale price prediction deviates on average <br> <ins> +/- $40k </ins><br>from the real sale price."
   ]
  },
  {
   "cell_type": "code",
   "execution_count": null,
   "id": "60c29db7-d3da-4544-8961-472857cf8ab3",
   "metadata": {},
   "outputs": [],
   "source": []
  },
  {
   "cell_type": "markdown",
   "id": "f5297089-4313-4df4-a77b-feef2b4eb526",
   "metadata": {},
   "source": [
    "# <ins>  4. Train XGBoost Regressor <ins> "
   ]
  },
  {
   "cell_type": "code",
   "execution_count": 9,
   "id": "982be7df-f5bf-475d-bbd6-e5f6ee0704dd",
   "metadata": {},
   "outputs": [],
   "source": [
    "# Objective function for hyperparameter tuning of XGBRegressor\n",
    "def objective_xgb(trial, X_train, X_valid, y_train, y_valid):\n",
    "    \n",
    "    params = {\n",
    "    \"objective\":\"reg:squarederror\",\n",
    "    \"max_depth\": trial.suggest_int(\"max_depth\", 10, 50, step=5),\n",
    "    \"n_estimators\": trial.suggest_int(\"n_estimators\", 100, 1000, step=50),\n",
    "    \"learning_rate\": trial.suggest_float(\"learning_rate\", 1e-6, 1, log=False),\n",
    "    \"subsample\": trial.suggest_float(\"subsample\", 0.05, 1.0),\n",
    "    \"colsample_bytree\": trial.suggest_float(\"colsample_bytree\", 0.05, 1.0),\n",
    "    \"min_child_weight\": trial.suggest_int(\"min_child_weight\", 1, 20),\n",
    "    }\n",
    "   \n",
    "    model = XGBRegressor(**params,random_state=42).fit(X_train, y_train)\n",
    "    y_predicted = model.predict(X_valid)\n",
    "    r2 = r2_score(y_valid, y_predicted)\n",
    "    \n",
    "    return r2"
   ]
  },
  {
   "cell_type": "code",
   "execution_count": 10,
   "id": "20cffb1b-de82-4029-a9ad-0d46e8531254",
   "metadata": {},
   "outputs": [
    {
     "name": "stderr",
     "output_type": "stream",
     "text": [
      "[I 2025-04-19 15:51:28,442] A new study created in memory with name: no-name-60c2d8db-2032-4ee8-b67c-7ff4f6468033\n",
      "[I 2025-04-19 15:51:28,937] Trial 0 finished with value: 0.853858232498169 and parameters: {'max_depth': 50, 'n_estimators': 100, 'learning_rate': 0.10777835017681289, 'subsample': 0.40146180223349204, 'colsample_bytree': 0.10158856484123169, 'min_child_weight': 15}. Best is trial 0 with value: 0.853858232498169.\n",
      "[I 2025-04-19 15:51:31,302] Trial 1 finished with value: 0.7978304624557495 and parameters: {'max_depth': 35, 'n_estimators': 950, 'learning_rate': 0.5113331909814095, 'subsample': 0.7038301456969804, 'colsample_bytree': 0.19380146101475676, 'min_child_weight': 13}. Best is trial 0 with value: 0.853858232498169.\n",
      "[I 2025-04-19 15:51:32,185] Trial 2 finished with value: -4.038243770599365 and parameters: {'max_depth': 15, 'n_estimators': 700, 'learning_rate': 0.6907280042966557, 'subsample': 0.2583180781150987, 'colsample_bytree': 0.7828796879018867, 'min_child_weight': 5}. Best is trial 0 with value: 0.853858232498169.\n",
      "[I 2025-04-19 15:51:32,725] Trial 3 finished with value: 0.7194675207138062 and parameters: {'max_depth': 20, 'n_estimators': 950, 'learning_rate': 0.3151816925097146, 'subsample': 0.19273879372559316, 'colsample_bytree': 0.3892349878097105, 'min_child_weight': 15}. Best is trial 0 with value: 0.853858232498169.\n",
      "[I 2025-04-19 15:51:33,106] Trial 4 finished with value: 0.8152124285697937 and parameters: {'max_depth': 20, 'n_estimators': 350, 'learning_rate': 0.25785881457105514, 'subsample': 0.4424720832326157, 'colsample_bytree': 0.9339156581069119, 'min_child_weight': 12}. Best is trial 0 with value: 0.853858232498169.\n",
      "[I 2025-04-19 15:51:33,592] Trial 5 finished with value: 0.8412326574325562 and parameters: {'max_depth': 40, 'n_estimators': 500, 'learning_rate': 0.6146887710287418, 'subsample': 0.8299114159406912, 'colsample_bytree': 0.4791285090587324, 'min_child_weight': 17}. Best is trial 0 with value: 0.853858232498169.\n",
      "[I 2025-04-19 15:51:33,690] Trial 6 finished with value: 0.8403486013412476 and parameters: {'max_depth': 25, 'n_estimators': 300, 'learning_rate': 0.13773981579772665, 'subsample': 0.06202545350603544, 'colsample_bytree': 0.13735565830303997, 'min_child_weight': 9}. Best is trial 0 with value: 0.853858232498169.\n",
      "[I 2025-04-19 15:51:36,103] Trial 7 finished with value: 0.8520684242248535 and parameters: {'max_depth': 50, 'n_estimators': 950, 'learning_rate': 0.28478870246427346, 'subsample': 0.34619690261774533, 'colsample_bytree': 0.6398932864406125, 'min_child_weight': 1}. Best is trial 0 with value: 0.853858232498169.\n",
      "[I 2025-04-19 15:51:36,540] Trial 8 finished with value: 0.6211540699005127 and parameters: {'max_depth': 10, 'n_estimators': 500, 'learning_rate': 0.7172740245103346, 'subsample': 0.5204180710394049, 'colsample_bytree': 0.3118500782751819, 'min_child_weight': 5}. Best is trial 0 with value: 0.853858232498169.\n",
      "[I 2025-04-19 15:51:37,824] Trial 9 finished with value: 0.7238178253173828 and parameters: {'max_depth': 45, 'n_estimators': 850, 'learning_rate': 0.9623683480899442, 'subsample': 0.8621167329413343, 'colsample_bytree': 0.5425395343236002, 'min_child_weight': 10}. Best is trial 0 with value: 0.853858232498169.\n",
      "[I 2025-04-19 15:51:37,894] Trial 10 finished with value: 0.3372841477394104 and parameters: {'max_depth': 50, 'n_estimators': 100, 'learning_rate': 0.005720187530902254, 'subsample': 0.6284444707638837, 'colsample_bytree': 0.10144600827723393, 'min_child_weight': 20}. Best is trial 0 with value: 0.853858232498169.\n",
      "[I 2025-04-19 15:51:38,118] Trial 11 finished with value: 0.841204047203064 and parameters: {'max_depth': 50, 'n_estimators': 100, 'learning_rate': 0.34796471716912053, 'subsample': 0.3759186410071772, 'colsample_bytree': 0.6381804710899422, 'min_child_weight': 2}. Best is trial 0 with value: 0.853858232498169.\n",
      "[I 2025-04-19 15:51:40,030] Trial 12 finished with value: 0.8892261385917664 and parameters: {'max_depth': 35, 'n_estimators': 750, 'learning_rate': 0.02485716653670722, 'subsample': 0.33327367025267934, 'colsample_bytree': 0.7138419754671739, 'min_child_weight': 7}. Best is trial 12 with value: 0.8892261385917664.\n",
      "[I 2025-04-19 15:51:40,514] Trial 13 finished with value: 0.4781695008277893 and parameters: {'max_depth': 35, 'n_estimators': 750, 'learning_rate': 0.0006652936216670312, 'subsample': 0.22156601718939903, 'colsample_bytree': 0.8599341660288742, 'min_child_weight': 7}. Best is trial 12 with value: 0.8892261385917664.\n",
      "[I 2025-04-19 15:51:41,303] Trial 14 finished with value: 0.8577417731285095 and parameters: {'max_depth': 30, 'n_estimators': 650, 'learning_rate': 0.14099969759502767, 'subsample': 0.6020424909801629, 'colsample_bytree': 0.7132807417828108, 'min_child_weight': 17}. Best is trial 12 with value: 0.8892261385917664.\n",
      "[I 2025-04-19 15:51:42,011] Trial 15 finished with value: 0.8537780046463013 and parameters: {'max_depth': 30, 'n_estimators': 650, 'learning_rate': 0.16380032981099965, 'subsample': 0.6288626183950237, 'colsample_bytree': 0.7477641930670849, 'min_child_weight': 20}. Best is trial 12 with value: 0.8892261385917664.\n",
      "[I 2025-04-19 15:51:42,976] Trial 16 finished with value: 0.8398718237876892 and parameters: {'max_depth': 30, 'n_estimators': 600, 'learning_rate': 0.41819032407751694, 'subsample': 0.7462735642350564, 'colsample_bytree': 0.6835847844665583, 'min_child_weight': 8}. Best is trial 12 with value: 0.8892261385917664.\n",
      "[I 2025-04-19 15:51:43,732] Trial 17 finished with value: 0.8274198174476624 and parameters: {'max_depth': 40, 'n_estimators': 800, 'learning_rate': 0.16914358074639577, 'subsample': 0.4799041705484707, 'colsample_bytree': 0.9972213458734667, 'min_child_weight': 17}. Best is trial 12 with value: 0.8892261385917664.\n",
      "[I 2025-04-19 15:51:44,361] Trial 18 finished with value: 0.8835962414741516 and parameters: {'max_depth': 25, 'n_estimators': 400, 'learning_rate': 0.06909604195356037, 'subsample': 0.6048956128711511, 'colsample_bytree': 0.5353002528586857, 'min_child_weight': 4}. Best is trial 12 with value: 0.8892261385917664.\n",
      "[I 2025-04-19 15:51:45,070] Trial 19 finished with value: 0.6883443593978882 and parameters: {'max_depth': 25, 'n_estimators': 350, 'learning_rate': 0.9380235474677864, 'subsample': 0.9816333399003727, 'colsample_bytree': 0.5362454481265533, 'min_child_weight': 4}. Best is trial 12 with value: 0.8892261385917664.\n",
      "[I 2025-04-19 15:51:45,432] Trial 20 finished with value: -29.127408981323242 and parameters: {'max_depth': 25, 'n_estimators': 250, 'learning_rate': 0.4704670969459849, 'subsample': 0.05049700691562664, 'colsample_bytree': 0.4270912389294865, 'min_child_weight': 3}. Best is trial 12 with value: 0.8892261385917664.\n",
      "[I 2025-04-19 15:51:46,161] Trial 21 finished with value: 0.875909686088562 and parameters: {'max_depth': 35, 'n_estimators': 450, 'learning_rate': 0.062169042758023, 'subsample': 0.5870541042479491, 'colsample_bytree': 0.7934462973350607, 'min_child_weight': 6}. Best is trial 12 with value: 0.8892261385917664.\n",
      "[I 2025-04-19 15:51:46,977] Trial 22 finished with value: 0.8870446085929871 and parameters: {'max_depth': 35, 'n_estimators': 450, 'learning_rate': 0.057946455963498206, 'subsample': 0.550037776686866, 'colsample_bytree': 0.8422261242612173, 'min_child_weight': 6}. Best is trial 12 with value: 0.8892261385917664.\n",
      "[I 2025-04-19 15:51:47,416] Trial 23 finished with value: 0.8444679379463196 and parameters: {'max_depth': 40, 'n_estimators': 400, 'learning_rate': 0.23556383921457238, 'subsample': 0.3159705054024792, 'colsample_bytree': 0.8697554460101367, 'min_child_weight': 7}. Best is trial 12 with value: 0.8892261385917664.\n",
      "[I 2025-04-19 15:51:48,586] Trial 24 finished with value: 0.8768611550331116 and parameters: {'max_depth': 35, 'n_estimators': 550, 'learning_rate': 0.05258110850480266, 'subsample': 0.5216982026654717, 'colsample_bytree': 0.5945520745821418, 'min_child_weight': 3}. Best is trial 12 with value: 0.8892261385917664.\n",
      "[I 2025-04-19 15:51:48,855] Trial 25 finished with value: 0.8594885468482971 and parameters: {'max_depth': 20, 'n_estimators': 200, 'learning_rate': 0.22392126959861788, 'subsample': 0.6998743017968971, 'colsample_bytree': 0.8469420651918126, 'min_child_weight': 9}. Best is trial 12 with value: 0.8892261385917664.\n",
      "[I 2025-04-19 15:51:49,322] Trial 26 finished with value: 0.8734268546104431 and parameters: {'max_depth': 45, 'n_estimators': 450, 'learning_rate': 0.08878795022284466, 'subsample': 0.42598250217813843, 'colsample_bytree': 0.3321019107551534, 'min_child_weight': 6}. Best is trial 12 with value: 0.8892261385917664.\n",
      "[I 2025-04-19 15:51:49,633] Trial 27 finished with value: 0.6141328811645508 and parameters: {'max_depth': 25, 'n_estimators': 600, 'learning_rate': 0.35388932687021885, 'subsample': 0.15563265421029104, 'colsample_bytree': 0.609558277555289, 'min_child_weight': 11}. Best is trial 12 with value: 0.8892261385917664.\n",
      "[I 2025-04-19 15:51:51,536] Trial 28 finished with value: -4.440713882446289 and parameters: {'max_depth': 30, 'n_estimators': 850, 'learning_rate': 0.8531601674616558, 'subsample': 0.2857496617155663, 'colsample_bytree': 0.9304360850893386, 'min_child_weight': 1}. Best is trial 12 with value: 0.8892261385917664.\n",
      "[I 2025-04-19 15:51:52,071] Trial 29 finished with value: 0.857330858707428 and parameters: {'max_depth': 45, 'n_estimators': 250, 'learning_rate': 0.19903505603536314, 'subsample': 0.5602602012525403, 'colsample_bytree': 0.6958363072126745, 'min_child_weight': 4}. Best is trial 12 with value: 0.8892261385917664.\n",
      "[I 2025-04-19 15:51:52,936] Trial 30 finished with value: 0.8766517043113708 and parameters: {'max_depth': 15, 'n_estimators': 400, 'learning_rate': 0.08384119272433843, 'subsample': 0.47257576406155566, 'colsample_bytree': 0.4722983986118776, 'min_child_weight': 8}. Best is trial 12 with value: 0.8892261385917664.\n",
      "[I 2025-04-19 15:51:54,308] Trial 31 finished with value: 0.875836968421936 and parameters: {'max_depth': 35, 'n_estimators': 550, 'learning_rate': 0.047014872278920955, 'subsample': 0.39900333094619356, 'colsample_bytree': 0.5742445738333593, 'min_child_weight': 3}. Best is trial 12 with value: 0.8892261385917664.\n",
      "[I 2025-04-19 15:51:55,667] Trial 32 finished with value: 0.8718630075454712 and parameters: {'max_depth': 35, 'n_estimators': 550, 'learning_rate': 0.0952538200223635, 'subsample': 0.5268996078216164, 'colsample_bytree': 0.6065771005390568, 'min_child_weight': 3}. Best is trial 12 with value: 0.8892261385917664.\n",
      "[I 2025-04-19 15:51:57,087] Trial 33 finished with value: 0.8867910504341125 and parameters: {'max_depth': 30, 'n_estimators': 700, 'learning_rate': 0.004827840481901803, 'subsample': 0.6852673924872807, 'colsample_bytree': 0.7696129267278263, 'min_child_weight': 5}. Best is trial 12 with value: 0.8892261385917664.\n",
      "[I 2025-04-19 15:51:58,452] Trial 34 finished with value: 0.7086938619613647 and parameters: {'max_depth': 30, 'n_estimators': 750, 'learning_rate': 0.0013079264897145615, 'subsample': 0.7147379777739924, 'colsample_bytree': 0.7851175323913555, 'min_child_weight': 5}. Best is trial 12 with value: 0.8892261385917664.\n",
      "[I 2025-04-19 15:52:00,315] Trial 35 finished with value: 0.8741744756698608 and parameters: {'max_depth': 40, 'n_estimators': 700, 'learning_rate': 0.1211760861755149, 'subsample': 0.7901831369004355, 'colsample_bytree': 0.8257986545282612, 'min_child_weight': 6}. Best is trial 12 with value: 0.8892261385917664.\n",
      "[I 2025-04-19 15:52:01,897] Trial 36 finished with value: 0.8706373572349548 and parameters: {'max_depth': 25, 'n_estimators': 1000, 'learning_rate': 0.17984912251656618, 'subsample': 0.6418445798724911, 'colsample_bytree': 0.7416264844834974, 'min_child_weight': 7}. Best is trial 12 with value: 0.8892261385917664.\n",
      "[I 2025-04-19 15:52:03,551] Trial 37 finished with value: 0.8840925693511963 and parameters: {'max_depth': 20, 'n_estimators': 850, 'learning_rate': 0.04244533341218913, 'subsample': 0.6891486905532888, 'colsample_bytree': 0.9238002581655023, 'min_child_weight': 13}. Best is trial 12 with value: 0.8892261385917664.\n",
      "[I 2025-04-19 15:52:04,472] Trial 38 finished with value: 0.7903095483779907 and parameters: {'max_depth': 10, 'n_estimators': 850, 'learning_rate': 0.6361641250276029, 'subsample': 0.8621144456099837, 'colsample_bytree': 0.9499215932170928, 'min_child_weight': 13}. Best is trial 12 with value: 0.8892261385917664.\n",
      "[I 2025-04-19 15:52:05,865] Trial 39 finished with value: 0.8537510633468628 and parameters: {'max_depth': 15, 'n_estimators': 900, 'learning_rate': 0.2988432330544257, 'subsample': 0.6868467431203684, 'colsample_bytree': 0.9205075674165559, 'min_child_weight': 14}. Best is trial 12 with value: 0.8892261385917664.\n",
      "[I 2025-04-19 15:52:07,143] Trial 40 finished with value: 0.8297315835952759 and parameters: {'max_depth': 20, 'n_estimators': 750, 'learning_rate': 0.5353061598469443, 'subsample': 0.9580419367168655, 'colsample_bytree': 0.8946145795409599, 'min_child_weight': 11}. Best is trial 12 with value: 0.8892261385917664.\n",
      "[I 2025-04-19 15:52:08,846] Trial 41 finished with value: 0.8774553537368774 and parameters: {'max_depth': 20, 'n_estimators': 800, 'learning_rate': 0.042182719311835315, 'subsample': 0.658464092131204, 'colsample_bytree': 0.9916759466782602, 'min_child_weight': 9}. Best is trial 12 with value: 0.8892261385917664.\n",
      "[I 2025-04-19 15:52:10,373] Trial 42 finished with value: 0.866910457611084 and parameters: {'max_depth': 30, 'n_estimators': 650, 'learning_rate': 0.1272349997971, 'subsample': 0.7636948499413613, 'colsample_bytree': 0.8099670005590685, 'min_child_weight': 5}. Best is trial 12 with value: 0.8892261385917664.\n",
      "[I 2025-04-19 15:52:11,316] Trial 43 finished with value: 0.872948944568634 and parameters: {'max_depth': 15, 'n_estimators': 900, 'learning_rate': 0.03682472588007483, 'subsample': 0.5684864944155371, 'colsample_bytree': 0.7677538313274551, 'min_child_weight': 15}. Best is trial 12 with value: 0.8892261385917664.\n",
      "[I 2025-04-19 15:52:12,021] Trial 44 finished with value: 0.8727763891220093 and parameters: {'max_depth': 25, 'n_estimators': 700, 'learning_rate': 0.0979588405980649, 'subsample': 0.4763172978503447, 'colsample_bytree': 0.6542402409413048, 'min_child_weight': 12}. Best is trial 12 with value: 0.8892261385917664.\n",
      "[I 2025-04-19 15:52:12,617] Trial 45 finished with value: 0.2058754563331604 and parameters: {'max_depth': 20, 'n_estimators': 500, 'learning_rate': 0.00031386293057402564, 'subsample': 0.806910761579374, 'colsample_bytree': 0.8883913579837943, 'min_child_weight': 4}. Best is trial 12 with value: 0.8892261385917664.\n",
      "[I 2025-04-19 15:52:13,078] Trial 46 finished with value: 0.8382629752159119 and parameters: {'max_depth': 35, 'n_estimators': 350, 'learning_rate': 0.2608576101724927, 'subsample': 0.6747129608800777, 'colsample_bytree': 0.2951266322905245, 'min_child_weight': 10}. Best is trial 12 with value: 0.8892261385917664.\n",
      "[I 2025-04-19 15:52:14,020] Trial 47 finished with value: 0.8606588244438171 and parameters: {'max_depth': 40, 'n_estimators': 800, 'learning_rate': 0.14155845690594532, 'subsample': 0.14750691137215177, 'colsample_bytree': 0.832952616114074, 'min_child_weight': 2}. Best is trial 12 with value: 0.8892261385917664.\n",
      "[I 2025-04-19 15:52:14,568] Trial 48 finished with value: 0.8723428845405579 and parameters: {'max_depth': 30, 'n_estimators': 450, 'learning_rate': 0.2060532913997814, 'subsample': 0.6122890232791333, 'colsample_bytree': 0.48615632587459784, 'min_child_weight': 8}. Best is trial 12 with value: 0.8892261385917664.\n",
      "[I 2025-04-19 15:52:15,509] Trial 49 finished with value: 0.6256661415100098 and parameters: {'max_depth': 25, 'n_estimators': 1000, 'learning_rate': 0.7760233370268256, 'subsample': 0.7259724121884741, 'colsample_bytree': 0.2062762506409534, 'min_child_weight': 6}. Best is trial 12 with value: 0.8892261385917664.\n",
      "[I 2025-04-19 15:52:16,210] Trial 50 finished with value: 0.8760530352592468 and parameters: {'max_depth': 30, 'n_estimators': 900, 'learning_rate': 0.0337161735696877, 'subsample': 0.3567619907282073, 'colsample_bytree': 0.7243263146833179, 'min_child_weight': 15}. Best is trial 12 with value: 0.8892261385917664.\n",
      "[I 2025-04-19 15:52:17,815] Trial 51 finished with value: 0.8707793951034546 and parameters: {'max_depth': 20, 'n_estimators': 800, 'learning_rate': 0.04911654761576278, 'subsample': 0.6487604014780174, 'colsample_bytree': 0.9814950100390348, 'min_child_weight': 9}. Best is trial 12 with value: 0.8892261385917664.\n",
      "[I 2025-04-19 15:52:19,726] Trial 52 finished with value: 0.8696204423904419 and parameters: {'max_depth': 20, 'n_estimators': 750, 'learning_rate': 0.08942380351742585, 'subsample': 0.6655199865090043, 'colsample_bytree': 0.9552251354155988, 'min_child_weight': 7}. Best is trial 12 with value: 0.8892261385917664.\n",
      "[I 2025-04-19 15:52:21,118] Trial 53 finished with value: 0.8716230988502502 and parameters: {'max_depth': 15, 'n_estimators': 800, 'learning_rate': 0.15412372809514172, 'subsample': 0.5473719554986148, 'colsample_bytree': 0.9111664074755967, 'min_child_weight': 9}. Best is trial 12 with value: 0.8892261385917664.\n",
      "[I 2025-04-19 15:52:23,443] Trial 54 finished with value: 0.879921555519104 and parameters: {'max_depth': 25, 'n_estimators': 700, 'learning_rate': 0.022598120328488496, 'subsample': 0.5880614799178087, 'colsample_bytree': 0.96457429230533, 'min_child_weight': 5}. Best is trial 12 with value: 0.8892261385917664.\n",
      "[I 2025-04-19 15:52:24,846] Trial 55 finished with value: 0.8737615942955017 and parameters: {'max_depth': 25, 'n_estimators': 700, 'learning_rate': 0.06811776230492969, 'subsample': 0.5993676829051892, 'colsample_bytree': 0.8679965009543464, 'min_child_weight': 5}. Best is trial 12 with value: 0.8892261385917664.\n",
      "[I 2025-04-19 15:52:25,867] Trial 56 finished with value: 0.8851131200790405 and parameters: {'max_depth': 35, 'n_estimators': 600, 'learning_rate': 0.02536219336915565, 'subsample': 0.4348897095021508, 'colsample_bytree': 0.8075855277669305, 'min_child_weight': 4}. Best is trial 12 with value: 0.8892261385917664.\n",
      "[I 2025-04-19 15:52:27,571] Trial 57 finished with value: 0.8700944185256958 and parameters: {'max_depth': 35, 'n_estimators': 600, 'learning_rate': 0.11282074658540939, 'subsample': 0.4425893886884268, 'colsample_bytree': 0.7621774683953646, 'min_child_weight': 2}. Best is trial 12 with value: 0.8892261385917664.\n",
      "[I 2025-04-19 15:52:28,340] Trial 58 finished with value: 0.7491867542266846 and parameters: {'max_depth': 40, 'n_estimators': 500, 'learning_rate': 0.3523890335742872, 'subsample': 0.23689086997971837, 'colsample_bytree': 0.6641294490978555, 'min_child_weight': 4}. Best is trial 12 with value: 0.8892261385917664.\n",
      "[I 2025-04-19 15:52:29,600] Trial 59 finished with value: 0.8666169047355652 and parameters: {'max_depth': 30, 'n_estimators': 400, 'learning_rate': 0.180709659873903, 'subsample': 0.3209764552159703, 'colsample_bytree': 0.8060216915692427, 'min_child_weight': 1}. Best is trial 12 with value: 0.8892261385917664.\n",
      "[I 2025-04-19 15:52:30,627] Trial 60 finished with value: 0.8532167077064514 and parameters: {'max_depth': 35, 'n_estimators': 650, 'learning_rate': 0.26073338630902365, 'subsample': 0.3940695481798073, 'colsample_bytree': 0.7232876891046971, 'min_child_weight': 6}. Best is trial 12 with value: 0.8892261385917664.\n",
      "[I 2025-04-19 15:52:32,007] Trial 61 finished with value: 0.8861315250396729 and parameters: {'max_depth': 30, 'n_estimators': 700, 'learning_rate': 0.023522956885630095, 'subsample': 0.4919011073154025, 'colsample_bytree': 0.8543513416815597, 'min_child_weight': 4}. Best is trial 12 with value: 0.8892261385917664.\n",
      "[I 2025-04-19 15:52:33,305] Trial 62 finished with value: 0.8658479452133179 and parameters: {'max_depth': 30, 'n_estimators': 650, 'learning_rate': 0.06833407228075286, 'subsample': 0.5092266351322909, 'colsample_bytree': 0.8444136614783734, 'min_child_weight': 4}. Best is trial 12 with value: 0.8892261385917664.\n",
      "[I 2025-04-19 15:52:34,803] Trial 63 finished with value: 0.8905373811721802 and parameters: {'max_depth': 30, 'n_estimators': 600, 'learning_rate': 0.015690465508400066, 'subsample': 0.43247883244034163, 'colsample_bytree': 0.6919804511207209, 'min_child_weight': 3}. Best is trial 63 with value: 0.8905373811721802.\n",
      "[I 2025-04-19 15:52:36,053] Trial 64 finished with value: 0.886179506778717 and parameters: {'max_depth': 35, 'n_estimators': 650, 'learning_rate': 0.013920696701748099, 'subsample': 0.4362930234735004, 'colsample_bytree': 0.6850035175511608, 'min_child_weight': 3}. Best is trial 63 with value: 0.8905373811721802.\n",
      "[I 2025-04-19 15:52:37,274] Trial 65 finished with value: 0.8879157304763794 and parameters: {'max_depth': 35, 'n_estimators': 600, 'learning_rate': 0.0065337237463081455, 'subsample': 0.44263809497434853, 'colsample_bytree': 0.7009360441669438, 'min_child_weight': 2}. Best is trial 63 with value: 0.8905373811721802.\n",
      "[I 2025-04-19 15:52:38,379] Trial 66 finished with value: 0.8921436667442322 and parameters: {'max_depth': 35, 'n_estimators': 600, 'learning_rate': 0.006979367393168061, 'subsample': 0.3575418131948522, 'colsample_bytree': 0.6886769244531441, 'min_child_weight': 2}. Best is trial 66 with value: 0.8921436667442322.\n",
      "[I 2025-04-19 15:52:39,551] Trial 67 finished with value: 0.7381685972213745 and parameters: {'max_depth': 35, 'n_estimators': 600, 'learning_rate': 0.0019657422988261977, 'subsample': 0.36458625348436724, 'colsample_bytree': 0.6803283900593449, 'min_child_weight': 2}. Best is trial 66 with value: 0.8921436667442322.\n",
      "[I 2025-04-19 15:52:40,880] Trial 68 finished with value: 0.8628421425819397 and parameters: {'max_depth': 40, 'n_estimators': 550, 'learning_rate': 0.12018791291791127, 'subsample': 0.2875117503236796, 'colsample_bytree': 0.6349361032933917, 'min_child_weight': 1}. Best is trial 66 with value: 0.8921436667442322.\n",
      "[I 2025-04-19 15:52:41,858] Trial 69 finished with value: 0.5603594779968262 and parameters: {'max_depth': 35, 'n_estimators': 600, 'learning_rate': 0.0010544119207743993, 'subsample': 0.44799156569000587, 'colsample_bytree': 0.7001834881854875, 'min_child_weight': 2}. Best is trial 66 with value: 0.8921436667442322.\n",
      "[I 2025-04-19 15:52:42,755] Trial 70 finished with value: 0.8705886602401733 and parameters: {'max_depth': 45, 'n_estimators': 500, 'learning_rate': 0.07697985702011592, 'subsample': 0.3210904212181254, 'colsample_bytree': 0.5702701028227154, 'min_child_weight': 3}. Best is trial 66 with value: 0.8921436667442322.\n",
      "[I 2025-04-19 15:52:43,815] Trial 71 finished with value: 0.8781328797340393 and parameters: {'max_depth': 30, 'n_estimators': 650, 'learning_rate': 0.028135939475703826, 'subsample': 0.41509313243677887, 'colsample_bytree': 0.743966199038034, 'min_child_weight': 3}. Best is trial 66 with value: 0.8921436667442322.\n",
      "[I 2025-04-19 15:52:45,476] Trial 72 finished with value: 0.8772868514060974 and parameters: {'max_depth': 35, 'n_estimators': 700, 'learning_rate': 0.07245155330294659, 'subsample': 0.49059126111567164, 'colsample_bytree': 0.6329307687984771, 'min_child_weight': 2}. Best is trial 66 with value: 0.8921436667442322.\n",
      "[I 2025-04-19 15:52:46,349] Trial 73 finished with value: 0.8682306408882141 and parameters: {'max_depth': 35, 'n_estimators': 650, 'learning_rate': 0.10279505134273278, 'subsample': 0.392157766980417, 'colsample_bytree': 0.7778070148610722, 'min_child_weight': 5}. Best is trial 66 with value: 0.8921436667442322.\n",
      "[I 2025-04-19 15:52:47,581] Trial 74 finished with value: 0.8595066070556641 and parameters: {'max_depth': 30, 'n_estimators': 750, 'learning_rate': 0.1469095635481794, 'subsample': 0.3359164153502814, 'colsample_bytree': 0.6825168989038113, 'min_child_weight': 3}. Best is trial 66 with value: 0.8921436667442322.\n",
      "[I 2025-04-19 15:52:49,284] Trial 75 finished with value: 0.8907662034034729 and parameters: {'max_depth': 30, 'n_estimators': 550, 'learning_rate': 0.05351264499459265, 'subsample': 0.46488848176004766, 'colsample_bytree': 0.7329005986243036, 'min_child_weight': 1}. Best is trial 66 with value: 0.8921436667442322.\n",
      "[I 2025-04-19 15:52:50,624] Trial 76 finished with value: 0.8786801099777222 and parameters: {'max_depth': 35, 'n_estimators': 550, 'learning_rate': 0.05848504100689551, 'subsample': 0.28633528506007194, 'colsample_bytree': 0.7272187236129909, 'min_child_weight': 1}. Best is trial 66 with value: 0.8921436667442322.\n",
      "[I 2025-04-19 15:52:52,933] Trial 77 finished with value: 0.8687208890914917 and parameters: {'max_depth': 40, 'n_estimators': 600, 'learning_rate': 0.12040708803703956, 'subsample': 0.4605642348218011, 'colsample_bytree': 0.7049929925906138, 'min_child_weight': 1}. Best is trial 66 with value: 0.8921436667442322.\n",
      "[I 2025-04-19 15:52:53,866] Trial 78 finished with value: 0.8054959177970886 and parameters: {'max_depth': 30, 'n_estimators': 450, 'learning_rate': 0.41641726020606873, 'subsample': 0.37964423198857306, 'colsample_bytree': 0.6635872199026219, 'min_child_weight': 2}. Best is trial 66 with value: 0.8921436667442322.\n",
      "[I 2025-04-19 15:52:54,987] Trial 79 finished with value: 0.8739031553268433 and parameters: {'max_depth': 35, 'n_estimators': 500, 'learning_rate': 0.05275741259261279, 'subsample': 0.540799423732642, 'colsample_bytree': 0.7693875394500349, 'min_child_weight': 3}. Best is trial 66 with value: 0.8921436667442322.\n",
      "[I 2025-04-19 15:52:55,842] Trial 80 finished with value: 0.868923008441925 and parameters: {'max_depth': 40, 'n_estimators': 550, 'learning_rate': 0.09779126789791431, 'subsample': 0.409847170420799, 'colsample_bytree': 0.5788853840298657, 'min_child_weight': 6}. Best is trial 66 with value: 0.8921436667442322.\n",
      "[I 2025-04-19 15:52:57,485] Trial 81 finished with value: 0.878708004951477 and parameters: {'max_depth': 30, 'n_estimators': 650, 'learning_rate': 0.023043503320071917, 'subsample': 0.4949830450372744, 'colsample_bytree': 0.7536205154266215, 'min_child_weight': 4}. Best is trial 66 with value: 0.8921436667442322.\n",
      "[I 2025-04-19 15:52:58,602] Trial 82 finished with value: 0.8874787092208862 and parameters: {'max_depth': 30, 'n_estimators': 700, 'learning_rate': 0.022433625309425817, 'subsample': 0.5083606308928079, 'colsample_bytree': 0.7925452692715632, 'min_child_weight': 7}. Best is trial 66 with value: 0.8921436667442322.\n",
      "[I 2025-04-19 15:52:59,429] Trial 83 finished with value: 0.8915640711784363 and parameters: {'max_depth': 30, 'n_estimators': 700, 'learning_rate': 0.01910976449193963, 'subsample': 0.46087534645107453, 'colsample_bytree': 0.786794191071876, 'min_child_weight': 8}. Best is trial 66 with value: 0.8921436667442322.\n",
      "[I 2025-04-19 15:53:00,663] Trial 84 finished with value: 0.876944899559021 and parameters: {'max_depth': 30, 'n_estimators': 750, 'learning_rate': 0.05496372473020511, 'subsample': 0.5225848606918956, 'colsample_bytree': 0.8241726597711225, 'min_child_weight': 7}. Best is trial 66 with value: 0.8921436667442322.\n",
      "[I 2025-04-19 15:53:01,224] Trial 85 finished with value: 0.4922454357147217 and parameters: {'max_depth': 30, 'n_estimators': 700, 'learning_rate': 0.0007217524915476975, 'subsample': 0.34042739840252867, 'colsample_bytree': 0.7890895093512947, 'min_child_weight': 7}. Best is trial 66 with value: 0.8921436667442322.\n",
      "[I 2025-04-19 15:53:02,013] Trial 86 finished with value: 0.875982403755188 and parameters: {'max_depth': 30, 'n_estimators': 550, 'learning_rate': 0.07622163621583272, 'subsample': 0.569737698416388, 'colsample_bytree': 0.7426432089039465, 'min_child_weight': 8}. Best is trial 66 with value: 0.8921436667442322.\n",
      "[I 2025-04-19 15:53:02,846] Trial 87 finished with value: -0.35256028175354004 and parameters: {'max_depth': 35, 'n_estimators': 600, 'learning_rate': 0.9964394602941959, 'subsample': 0.46645142168163417, 'colsample_bytree': 0.6217174467569754, 'min_child_weight': 8}. Best is trial 66 with value: 0.8921436667442322.\n",
      "[I 2025-04-19 15:53:03,238] Trial 88 finished with value: 0.8539031744003296 and parameters: {'max_depth': 25, 'n_estimators': 750, 'learning_rate': 0.041442969283480166, 'subsample': 0.41665747136524084, 'colsample_bytree': 0.06903562797630458, 'min_child_weight': 5}. Best is trial 66 with value: 0.8921436667442322.\n",
      "[I 2025-04-19 15:53:03,760] Trial 89 finished with value: 0.8774267435073853 and parameters: {'max_depth': 30, 'n_estimators': 450, 'learning_rate': 0.17489262324934002, 'subsample': 0.46171222153327324, 'colsample_bytree': 0.8885912945042318, 'min_child_weight': 10}. Best is trial 66 with value: 0.8921436667442322.\n",
      "[I 2025-04-19 15:53:04,142] Trial 90 finished with value: 0.8657206892967224 and parameters: {'max_depth': 35, 'n_estimators': 500, 'learning_rate': 0.08949384661829687, 'subsample': 0.26353520411866516, 'colsample_bytree': 0.710223312641437, 'min_child_weight': 19}. Best is trial 66 with value: 0.8921436667442322.\n",
      "[I 2025-04-19 15:53:04,868] Trial 91 finished with value: 0.8920155763626099 and parameters: {'max_depth': 35, 'n_estimators': 650, 'learning_rate': 0.023568201492064445, 'subsample': 0.3768701889553634, 'colsample_bytree': 0.6782914073701312, 'min_child_weight': 6}. Best is trial 66 with value: 0.8921436667442322.\n",
      "[I 2025-04-19 15:53:05,608] Trial 92 finished with value: 0.8873311281204224 and parameters: {'max_depth': 35, 'n_estimators': 700, 'learning_rate': 0.033336191163524424, 'subsample': 0.3783492953452913, 'colsample_bytree': 0.6499876622960312, 'min_child_weight': 7}. Best is trial 66 with value: 0.8921436667442322.\n",
      "[I 2025-04-19 15:53:06,274] Trial 93 finished with value: 0.8845177888870239 and parameters: {'max_depth': 40, 'n_estimators': 600, 'learning_rate': 0.038527775289394946, 'subsample': 0.37045293341981056, 'colsample_bytree': 0.7276067129964781, 'min_child_weight': 8}. Best is trial 66 with value: 0.8921436667442322.\n",
      "[I 2025-04-19 15:53:06,994] Trial 94 finished with value: 0.879213273525238 and parameters: {'max_depth': 35, 'n_estimators': 650, 'learning_rate': 0.1342952966541952, 'subsample': 0.38126482432437786, 'colsample_bytree': 0.6101769852354249, 'min_child_weight': 7}. Best is trial 66 with value: 0.8921436667442322.\n",
      "[I 2025-04-19 15:53:07,851] Trial 95 finished with value: 0.8854103684425354 and parameters: {'max_depth': 35, 'n_estimators': 700, 'learning_rate': 0.060224048437373084, 'subsample': 0.3022045438439236, 'colsample_bytree': 0.6567514691434038, 'min_child_weight': 6}. Best is trial 66 with value: 0.8921436667442322.\n",
      "[I 2025-04-19 15:53:08,774] Trial 96 finished with value: 0.8863680362701416 and parameters: {'max_depth': 35, 'n_estimators': 700, 'learning_rate': 0.02405162927335427, 'subsample': 0.35123990567865765, 'colsample_bytree': 0.7951839861961731, 'min_child_weight': 7}. Best is trial 66 with value: 0.8921436667442322.\n",
      "[I 2025-04-19 15:53:09,863] Trial 97 finished with value: 0.8685849905014038 and parameters: {'max_depth': 40, 'n_estimators': 750, 'learning_rate': 0.11027275297766537, 'subsample': 0.4247837503803915, 'colsample_bytree': 0.5169477783714903, 'min_child_weight': 6}. Best is trial 66 with value: 0.8921436667442322.\n",
      "[I 2025-04-19 15:53:10,543] Trial 98 finished with value: 0.875484824180603 and parameters: {'max_depth': 35, 'n_estimators': 650, 'learning_rate': 0.07954201064900537, 'subsample': 0.2538488936039501, 'colsample_bytree': 0.6853061630672068, 'min_child_weight': 7}. Best is trial 66 with value: 0.8921436667442322.\n",
      "[I 2025-04-19 15:53:10,902] Trial 99 finished with value: 0.8909271359443665 and parameters: {'max_depth': 30, 'n_estimators': 300, 'learning_rate': 0.03750392477257087, 'subsample': 0.5155396191667967, 'colsample_bytree': 0.6473001180636234, 'min_child_weight': 8}. Best is trial 66 with value: 0.8921436667442322.\n"
     ]
    }
   ],
   "source": [
    "# XGBoost\n",
    "study_xgb = optuna.create_study(direction = \"maximize\")\n",
    "func = lambda trial: objective_xgb(trial, X_train, X_valid, y_train, y_valid)\n",
    "study_xgb.optimize(func, n_trials = 100, timeout=600)\n",
    "xgb_model = XGBRegressor(**study_xgb.best_trial.params).fit(X_train_valid, y_train_valid)"
   ]
  },
  {
   "cell_type": "code",
   "execution_count": 11,
   "id": "b27e736c-b1a8-445c-b901-8b6fecbe88cb",
   "metadata": {},
   "outputs": [],
   "source": [
    "y_pred_test = xgb_model.predict(X_test)\n",
    "r2_value = r2_score(y_test, y_pred_test)\n",
    "rmse_value = root_mean_squared_error(y_test, y_pred_test)"
   ]
  },
  {
   "cell_type": "code",
   "execution_count": 12,
   "id": "4c070e84-2aae-4ee9-96f8-4116939139aa",
   "metadata": {},
   "outputs": [
    {
     "name": "stdout",
     "output_type": "stream",
     "text": [
      "R2 Score: 0.8480567336082458\n",
      "RMSE Score: 31607.138671875\n"
     ]
    }
   ],
   "source": [
    "print(f\"R2 Score: {r2_value}\")\n",
    "print(f\"RMSE Score: {rmse_value}\")"
   ]
  },
  {
   "cell_type": "markdown",
   "id": "2ca01f14-f5c5-4b07-b54a-7180bcacdce9",
   "metadata": {},
   "source": [
    "# <center> Using an XGBoost Regressor,<br> the sale price prediction deviates on average <br> <ins> +/- $31k </ins><br>from the real sale price."
   ]
  },
  {
   "cell_type": "markdown",
   "id": "e08679e9-6cc0-4e58-9d6a-60812475207f",
   "metadata": {},
   "source": [
    "# 5. Save Models"
   ]
  },
  {
   "cell_type": "code",
   "execution_count": 17,
   "id": "bc3bf54a-d613-4ee6-bdab-11437e28c3d9",
   "metadata": {},
   "outputs": [
    {
     "data": {
      "text/plain": [
       "['models/LinearRegressorModel.bin']"
      ]
     },
     "execution_count": 17,
     "metadata": {},
     "output_type": "execute_result"
    }
   ],
   "source": [
    "lr_path = models_path / \"LinearRegressorModel.bin\"\n",
    "joblib.dump(lr_model, lr_path, compress=True)"
   ]
  },
  {
   "cell_type": "code",
   "execution_count": 18,
   "id": "4cda2428-85c6-4e2d-aab2-a470202e1739",
   "metadata": {},
   "outputs": [],
   "source": [
    "xgb_path = models_path / \"XGBRegressorModel.json\"\n",
    "xgb_model.save_model(xgb_path)"
   ]
  },
  {
   "cell_type": "code",
   "execution_count": null,
   "id": "51d262f1-6252-4980-a76a-dc5da85ccede",
   "metadata": {},
   "outputs": [],
   "source": []
  }
 ],
 "metadata": {
  "kernelspec": {
   "display_name": "Python 3 (ipykernel)",
   "language": "python",
   "name": "python3"
  },
  "language_info": {
   "codemirror_mode": {
    "name": "ipython",
    "version": 3
   },
   "file_extension": ".py",
   "mimetype": "text/x-python",
   "name": "python",
   "nbconvert_exporter": "python",
   "pygments_lexer": "ipython3",
   "version": "3.12.3"
  }
 },
 "nbformat": 4,
 "nbformat_minor": 5
}
