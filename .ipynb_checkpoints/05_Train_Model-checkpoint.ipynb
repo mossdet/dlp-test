{
 "cells": [
  {
   "cell_type": "markdown",
   "id": "c248b0e7-b313-45de-a5b5-4a32576fc2d0",
   "metadata": {},
   "source": [
    "<img style=\"float: right;\" src=\"img/openhouse_logo.png\" width=\"200\" height=\"200\"/><br>\n",
    "\n",
    "# <center> <ins> House Price Prediction Coding Test <br><br> 5. Train and Test Model <ins> </center>\n",
    "### <center>by: Daniel Lachner-Piza, PhD <br> for: OpenHouse.ai </center>\n",
    "\n",
    "\n"
   ]
  },
  {
   "cell_type": "code",
   "execution_count": 1,
   "id": "5791fa66-60ba-4017-a1d1-1d4c4250e94a",
   "metadata": {},
   "outputs": [
    {
     "name": "stderr",
     "output_type": "stream",
     "text": [
      "/home/dlp/Development/OpenHouseAI_TechTask1/dlp-test/.venv/lib/python3.12/site-packages/tqdm/auto.py:21: TqdmWarning: IProgress not found. Please update jupyter and ipywidgets. See https://ipywidgets.readthedocs.io/en/stable/user_install.html\n",
      "  from .autonotebook import tqdm as notebook_tqdm\n"
     ]
    }
   ],
   "source": [
    "import os\n",
    "import pandas as pd\n",
    "import numpy as np\n",
    "import seaborn as sns\n",
    "import matplotlib.pyplot as plt\n",
    "import optuna\n",
    "\n",
    "from pathlib import Path\n",
    "from sklearn.linear_model import LinearRegression\n",
    "from sklearn.model_selection import train_test_split\n",
    "from sklearn.metrics import r2_score, root_mean_squared_error\n",
    "from xgboost import XGBRegressor\n",
    "\n",
    "EDA_FIG_SIZE = (3,3)\n",
    "models_path = Path(\"models\")\n",
    "os.makedirs(models_path, exist_ok=True)"
   ]
  },
  {
   "cell_type": "markdown",
   "id": "7b70b1b6-58c6-42e1-a1ed-f492a295ec5b",
   "metadata": {},
   "source": [
    "# <ins> 1.Data Loading <ins> "
   ]
  },
  {
   "cell_type": "code",
   "execution_count": 2,
   "id": "2439535d-affc-4446-88d4-b366aeb319ad",
   "metadata": {},
   "outputs": [],
   "source": [
    "clean_scaled_data_df = pd.read_csv(\"data/clean_scaled_dataset.csv\")\n",
    "y_df = pd.read_csv(\"data/target.csv\")"
   ]
  },
  {
   "cell_type": "code",
   "execution_count": 3,
   "id": "be88fa1d-38cf-40dd-b58d-f157d83fc291",
   "metadata": {},
   "outputs": [
    {
     "data": {
      "text/html": [
       "<div>\n",
       "<style scoped>\n",
       "    .dataframe tbody tr th:only-of-type {\n",
       "        vertical-align: middle;\n",
       "    }\n",
       "\n",
       "    .dataframe tbody tr th {\n",
       "        vertical-align: top;\n",
       "    }\n",
       "\n",
       "    .dataframe thead th {\n",
       "        text-align: right;\n",
       "    }\n",
       "</style>\n",
       "<table border=\"1\" class=\"dataframe\">\n",
       "  <thead>\n",
       "    <tr style=\"text-align: right;\">\n",
       "      <th></th>\n",
       "      <th>LotArea</th>\n",
       "      <th>GrLivArea</th>\n",
       "      <th>YearBuilt</th>\n",
       "      <th>TotalBsmtSF</th>\n",
       "      <th>GarageArea</th>\n",
       "      <th>OverallQuality</th>\n",
       "      <th>OverallCondition</th>\n",
       "      <th>FullBath</th>\n",
       "      <th>HalfBath</th>\n",
       "      <th>GarageCars</th>\n",
       "      <th>...</th>\n",
       "      <th>SaleType_ConLw</th>\n",
       "      <th>SaleType_New</th>\n",
       "      <th>SaleType_Oth</th>\n",
       "      <th>SaleType_WD</th>\n",
       "      <th>SaleCondition_Abnorml</th>\n",
       "      <th>SaleCondition_AdjLand</th>\n",
       "      <th>SaleCondition_Alloca</th>\n",
       "      <th>SaleCondition_Family</th>\n",
       "      <th>SaleCondition_Normal</th>\n",
       "      <th>SaleCondition_Partial</th>\n",
       "    </tr>\n",
       "  </thead>\n",
       "  <tbody>\n",
       "    <tr>\n",
       "      <th>0</th>\n",
       "      <td>-0.174981</td>\n",
       "      <td>-0.357075</td>\n",
       "      <td>-0.469580</td>\n",
       "      <td>-0.954556</td>\n",
       "      <td>0.210489</td>\n",
       "      <td>-0.130274</td>\n",
       "      <td>0.389367</td>\n",
       "      <td>-1.056176</td>\n",
       "      <td>-0.785264</td>\n",
       "      <td>0.209788</td>\n",
       "      <td>...</td>\n",
       "      <td>-0.0548</td>\n",
       "      <td>-0.303967</td>\n",
       "      <td>-0.027369</td>\n",
       "      <td>0.388242</td>\n",
       "      <td>-0.257373</td>\n",
       "      <td>-0.027369</td>\n",
       "      <td>-0.091115</td>\n",
       "      <td>-0.123278</td>\n",
       "      <td>0.45722</td>\n",
       "      <td>-0.308354</td>\n",
       "    </tr>\n",
       "    <tr>\n",
       "      <th>1</th>\n",
       "      <td>-0.888561</td>\n",
       "      <td>-0.868571</td>\n",
       "      <td>-0.096071</td>\n",
       "      <td>-1.011578</td>\n",
       "      <td>-1.154649</td>\n",
       "      <td>-1.624231</td>\n",
       "      <td>2.230762</td>\n",
       "      <td>-1.056176</td>\n",
       "      <td>-0.785264</td>\n",
       "      <td>-1.382694</td>\n",
       "      <td>...</td>\n",
       "      <td>-0.0548</td>\n",
       "      <td>-0.303967</td>\n",
       "      <td>-0.027369</td>\n",
       "      <td>0.388242</td>\n",
       "      <td>-0.257373</td>\n",
       "      <td>-0.027369</td>\n",
       "      <td>-0.091115</td>\n",
       "      <td>-0.123278</td>\n",
       "      <td>0.45722</td>\n",
       "      <td>-0.308354</td>\n",
       "    </tr>\n",
       "    <tr>\n",
       "      <th>2</th>\n",
       "      <td>0.374700</td>\n",
       "      <td>0.313130</td>\n",
       "      <td>1.160276</td>\n",
       "      <td>-0.409426</td>\n",
       "      <td>0.906547</td>\n",
       "      <td>-0.130274</td>\n",
       "      <td>-0.531331</td>\n",
       "      <td>0.771610</td>\n",
       "      <td>1.205462</td>\n",
       "      <td>1.802270</td>\n",
       "      <td>...</td>\n",
       "      <td>-0.0548</td>\n",
       "      <td>-0.303967</td>\n",
       "      <td>-0.027369</td>\n",
       "      <td>0.388242</td>\n",
       "      <td>-0.257373</td>\n",
       "      <td>-0.027369</td>\n",
       "      <td>-0.091115</td>\n",
       "      <td>-0.123278</td>\n",
       "      <td>0.45722</td>\n",
       "      <td>-0.308354</td>\n",
       "    </tr>\n",
       "    <tr>\n",
       "      <th>3</th>\n",
       "      <td>-0.340233</td>\n",
       "      <td>-0.496739</td>\n",
       "      <td>-0.809133</td>\n",
       "      <td>-2.448532</td>\n",
       "      <td>-0.431612</td>\n",
       "      <td>-1.624231</td>\n",
       "      <td>-0.531331</td>\n",
       "      <td>0.771610</td>\n",
       "      <td>-0.785264</td>\n",
       "      <td>0.209788</td>\n",
       "      <td>...</td>\n",
       "      <td>-0.0548</td>\n",
       "      <td>-0.303967</td>\n",
       "      <td>-0.027369</td>\n",
       "      <td>0.388242</td>\n",
       "      <td>-0.257373</td>\n",
       "      <td>-0.027369</td>\n",
       "      <td>-0.091115</td>\n",
       "      <td>-0.123278</td>\n",
       "      <td>0.45722</td>\n",
       "      <td>-0.308354</td>\n",
       "    </tr>\n",
       "    <tr>\n",
       "      <th>4</th>\n",
       "      <td>-0.253258</td>\n",
       "      <td>-0.026053</td>\n",
       "      <td>-0.843088</td>\n",
       "      <td>1.107358</td>\n",
       "      <td>1.683542</td>\n",
       "      <td>-0.877252</td>\n",
       "      <td>0.389367</td>\n",
       "      <td>-1.056176</td>\n",
       "      <td>-0.785264</td>\n",
       "      <td>0.209788</td>\n",
       "      <td>...</td>\n",
       "      <td>-0.0548</td>\n",
       "      <td>-0.303967</td>\n",
       "      <td>-0.027369</td>\n",
       "      <td>-2.575711</td>\n",
       "      <td>-0.257373</td>\n",
       "      <td>-0.027369</td>\n",
       "      <td>-0.091115</td>\n",
       "      <td>-0.123278</td>\n",
       "      <td>0.45722</td>\n",
       "      <td>-0.308354</td>\n",
       "    </tr>\n",
       "  </tbody>\n",
       "</table>\n",
       "<p>5 rows × 61 columns</p>\n",
       "</div>"
      ],
      "text/plain": [
       "    LotArea  GrLivArea  YearBuilt  TotalBsmtSF  GarageArea  OverallQuality  \\\n",
       "0 -0.174981  -0.357075  -0.469580    -0.954556    0.210489       -0.130274   \n",
       "1 -0.888561  -0.868571  -0.096071    -1.011578   -1.154649       -1.624231   \n",
       "2  0.374700   0.313130   1.160276    -0.409426    0.906547       -0.130274   \n",
       "3 -0.340233  -0.496739  -0.809133    -2.448532   -0.431612       -1.624231   \n",
       "4 -0.253258  -0.026053  -0.843088     1.107358    1.683542       -0.877252   \n",
       "\n",
       "   OverallCondition  FullBath  HalfBath  GarageCars  ...  SaleType_ConLw  \\\n",
       "0          0.389367 -1.056176 -0.785264    0.209788  ...         -0.0548   \n",
       "1          2.230762 -1.056176 -0.785264   -1.382694  ...         -0.0548   \n",
       "2         -0.531331  0.771610  1.205462    1.802270  ...         -0.0548   \n",
       "3         -0.531331  0.771610 -0.785264    0.209788  ...         -0.0548   \n",
       "4          0.389367 -1.056176 -0.785264    0.209788  ...         -0.0548   \n",
       "\n",
       "   SaleType_New  SaleType_Oth  SaleType_WD  SaleCondition_Abnorml  \\\n",
       "0     -0.303967     -0.027369     0.388242              -0.257373   \n",
       "1     -0.303967     -0.027369     0.388242              -0.257373   \n",
       "2     -0.303967     -0.027369     0.388242              -0.257373   \n",
       "3     -0.303967     -0.027369     0.388242              -0.257373   \n",
       "4     -0.303967     -0.027369    -2.575711              -0.257373   \n",
       "\n",
       "   SaleCondition_AdjLand  SaleCondition_Alloca  SaleCondition_Family  \\\n",
       "0              -0.027369             -0.091115             -0.123278   \n",
       "1              -0.027369             -0.091115             -0.123278   \n",
       "2              -0.027369             -0.091115             -0.123278   \n",
       "3              -0.027369             -0.091115             -0.123278   \n",
       "4              -0.027369             -0.091115             -0.123278   \n",
       "\n",
       "   SaleCondition_Normal  SaleCondition_Partial  \n",
       "0               0.45722              -0.308354  \n",
       "1               0.45722              -0.308354  \n",
       "2               0.45722              -0.308354  \n",
       "3               0.45722              -0.308354  \n",
       "4               0.45722              -0.308354  \n",
       "\n",
       "[5 rows x 61 columns]"
      ]
     },
     "execution_count": 3,
     "metadata": {},
     "output_type": "execute_result"
    }
   ],
   "source": [
    "clean_scaled_data_df.head(5)"
   ]
  },
  {
   "cell_type": "code",
   "execution_count": 4,
   "id": "9d8821c7-7fc4-4667-ad04-6e6dc3f84e4a",
   "metadata": {},
   "outputs": [
    {
     "data": {
      "text/html": [
       "<div>\n",
       "<style scoped>\n",
       "    .dataframe tbody tr th:only-of-type {\n",
       "        vertical-align: middle;\n",
       "    }\n",
       "\n",
       "    .dataframe tbody tr th {\n",
       "        vertical-align: top;\n",
       "    }\n",
       "\n",
       "    .dataframe thead th {\n",
       "        text-align: right;\n",
       "    }\n",
       "</style>\n",
       "<table border=\"1\" class=\"dataframe\">\n",
       "  <thead>\n",
       "    <tr style=\"text-align: right;\">\n",
       "      <th></th>\n",
       "      <th>SalePrice</th>\n",
       "    </tr>\n",
       "  </thead>\n",
       "  <tbody>\n",
       "    <tr>\n",
       "      <th>0</th>\n",
       "      <td>159500</td>\n",
       "    </tr>\n",
       "    <tr>\n",
       "      <th>1</th>\n",
       "      <td>86000</td>\n",
       "    </tr>\n",
       "    <tr>\n",
       "      <th>2</th>\n",
       "      <td>214000</td>\n",
       "    </tr>\n",
       "    <tr>\n",
       "      <th>3</th>\n",
       "      <td>90000</td>\n",
       "    </tr>\n",
       "    <tr>\n",
       "      <th>4</th>\n",
       "      <td>153500</td>\n",
       "    </tr>\n",
       "  </tbody>\n",
       "</table>\n",
       "</div>"
      ],
      "text/plain": [
       "   SalePrice\n",
       "0     159500\n",
       "1      86000\n",
       "2     214000\n",
       "3      90000\n",
       "4     153500"
      ]
     },
     "execution_count": 4,
     "metadata": {},
     "output_type": "execute_result"
    }
   ],
   "source": [
    "y_df.head(5)"
   ]
  },
  {
   "cell_type": "markdown",
   "id": "995df59b-2884-46ba-b426-c88b57848d54",
   "metadata": {},
   "source": [
    "# <ins> 2. Partition Data <ins> "
   ]
  },
  {
   "cell_type": "code",
   "execution_count": 5,
   "id": "69238e53-99d7-411b-9e30-61207cd52b1e",
   "metadata": {},
   "outputs": [],
   "source": [
    "# X_train_valid, X_test, y_train_valid, y_test = train_test_split(clean_scaled_data_df, y_df, test_size=0.20, stratify=y, random_state=42)\n",
    "# X_train, X_valid, y_train, y_valid = train_test_split(X_train_valid, y_train_valid, test_size=0.40, stratify=y_train_valid, random_state=42)\n",
    "\n",
    "X_train_valid, X_test, y_train_valid, y_test = train_test_split(clean_scaled_data_df, y_df, test_size=0.20, random_state=42)\n",
    "X_train, X_valid, y_train, y_valid = train_test_split(X_train_valid, y_train_valid, test_size=0.20, random_state=42)"
   ]
  },
  {
   "cell_type": "code",
   "execution_count": 6,
   "id": "20eda334-90c9-4be0-a7af-350d080f45ba",
   "metadata": {},
   "outputs": [
    {
     "name": "stdout",
     "output_type": "stream",
     "text": [
      "Train-set size: (854, 61) --- Perecentage: 63.92\n",
      "Validation-set size: (214, 61) --- Perecentage: 16.02\n",
      "Test-set size: (268, 61) --- Perecentage: 20.06\n"
     ]
    }
   ],
   "source": [
    "print(f\"Train-set size: {X_train.shape} --- Perecentage: {100*X_train.shape[0]/clean_scaled_data_df.shape[0]:.2f}\")\n",
    "print(f\"Validation-set size: {X_valid.shape} --- Perecentage: {100*X_valid.shape[0]/clean_scaled_data_df.shape[0]:.2f}\")\n",
    "print(f\"Test-set size: {X_test.shape} --- Perecentage: {100*X_test.shape[0]/clean_scaled_data_df.shape[0]:.2f}\")"
   ]
  },
  {
   "cell_type": "code",
   "execution_count": null,
   "id": "f6dfc471-0094-448c-adfa-c9d0e116f804",
   "metadata": {},
   "outputs": [],
   "source": []
  },
  {
   "cell_type": "markdown",
   "id": "e658cb13-3761-4901-8aa3-d7f66647f842",
   "metadata": {},
   "source": [
    "# <ins>  3. Train Simple Linear Regressor <ins> "
   ]
  },
  {
   "cell_type": "code",
   "execution_count": 7,
   "id": "d86fd5a5-0637-4522-93ad-9773714c1017",
   "metadata": {},
   "outputs": [],
   "source": [
    "lr_model = LinearRegression().fit(X_train_valid, y_train_valid)\n",
    "y_pred_test = lr_model.predict(X_test)\n",
    "r2_value = r2_score(y_test, y_pred_test)\n",
    "rmse_value = root_mean_squared_error(y_test, y_pred_test)"
   ]
  },
  {
   "cell_type": "code",
   "execution_count": 8,
   "id": "6d746b54-db43-4c48-bc3a-f5c4fe950dbd",
   "metadata": {},
   "outputs": [
    {
     "name": "stdout",
     "output_type": "stream",
     "text": [
      "R2 Score: 0.7551370221609158\n",
      "RMSE Score: 40124.16442334738\n"
     ]
    }
   ],
   "source": [
    "print(f\"R2 Score: {r2_value}\")\n",
    "print(f\"RMSE Score: {rmse_value}\")"
   ]
  },
  {
   "cell_type": "markdown",
   "id": "592308dd-b5f7-4fb8-9121-165ed71b0633",
   "metadata": {},
   "source": [
    "# <center> Using a simple linear regression model,<br> the sale price prediction deviates on average <br> <ins> +/- $40k </ins><br>from the real sale price."
   ]
  },
  {
   "cell_type": "code",
   "execution_count": null,
   "id": "60c29db7-d3da-4544-8961-472857cf8ab3",
   "metadata": {},
   "outputs": [],
   "source": []
  },
  {
   "cell_type": "markdown",
   "id": "f5297089-4313-4df4-a77b-feef2b4eb526",
   "metadata": {},
   "source": [
    "# <ins>  4. Train XGBoost Regressor <ins> "
   ]
  },
  {
   "cell_type": "code",
   "execution_count": 9,
   "id": "982be7df-f5bf-475d-bbd6-e5f6ee0704dd",
   "metadata": {},
   "outputs": [],
   "source": [
    "# Objective function for hyperparameter tuning of XGBRegressor\n",
    "def objective_xgb(trial, X_train, X_valid, y_train, y_valid):\n",
    "    \n",
    "    params = {\n",
    "    \"objective\":\"reg:squarederror\",\n",
    "    \"max_depth\": trial.suggest_int(\"max_depth\", 10, 50, step=5),\n",
    "    \"n_estimators\": trial.suggest_int(\"n_estimators\", 100, 1000, step=50),\n",
    "    \"learning_rate\": trial.suggest_float(\"learning_rate\", 1e-6, 1, log=False),\n",
    "    \"subsample\": trial.suggest_float(\"subsample\", 0.05, 1.0),\n",
    "    \"colsample_bytree\": trial.suggest_float(\"colsample_bytree\", 0.05, 1.0),\n",
    "    \"min_child_weight\": trial.suggest_int(\"min_child_weight\", 1, 20),\n",
    "    }\n",
    "   \n",
    "    model = XGBRegressor(**params,random_state=42).fit(X_train, y_train)\n",
    "    y_predicted = model.predict(X_valid)\n",
    "    r2 = r2_score(y_valid, y_predicted)\n",
    "    \n",
    "    return r2"
   ]
  },
  {
   "cell_type": "code",
   "execution_count": 10,
   "id": "20cffb1b-de82-4029-a9ad-0d46e8531254",
   "metadata": {},
   "outputs": [
    {
     "name": "stderr",
     "output_type": "stream",
     "text": [
      "[I 2025-04-19 15:43:32,997] A new study created in memory with name: no-name-7755fc2c-bda5-4650-a31f-c3634e7b5d2a\n",
      "[I 2025-04-19 15:43:33,203] Trial 0 finished with value: 0.8268437385559082 and parameters: {'max_depth': 50, 'n_estimators': 250, 'learning_rate': 0.014643219773982287, 'subsample': 0.11596933277453453, 'colsample_bytree': 0.6449368991225286, 'min_child_weight': 16}. Best is trial 0 with value: 0.8268437385559082.\n",
      "[I 2025-04-19 15:43:33,690] Trial 1 finished with value: 0.8082088828086853 and parameters: {'max_depth': 15, 'n_estimators': 250, 'learning_rate': 0.22798254363102835, 'subsample': 0.24651677238228786, 'colsample_bytree': 0.4428274328796406, 'min_child_weight': 5}. Best is trial 0 with value: 0.8268437385559082.\n",
      "[I 2025-04-19 15:43:33,871] Trial 2 finished with value: 0.6883785724639893 and parameters: {'max_depth': 15, 'n_estimators': 200, 'learning_rate': 0.8911279494774239, 'subsample': 0.6593359861756388, 'colsample_bytree': 0.7001522968198016, 'min_child_weight': 19}. Best is trial 0 with value: 0.8268437385559082.\n",
      "[I 2025-04-19 15:43:35,605] Trial 3 finished with value: 0.838919460773468 and parameters: {'max_depth': 40, 'n_estimators': 750, 'learning_rate': 0.518082260963612, 'subsample': 0.9907151984119535, 'colsample_bytree': 0.9688028773195207, 'min_child_weight': 14}. Best is trial 3 with value: 0.838919460773468.\n",
      "[I 2025-04-19 15:43:36,518] Trial 4 finished with value: 0.7936083674430847 and parameters: {'max_depth': 45, 'n_estimators': 500, 'learning_rate': 0.21885016334819413, 'subsample': 0.15426227369927722, 'colsample_bytree': 0.7951866147072814, 'min_child_weight': 9}. Best is trial 3 with value: 0.838919460773468.\n",
      "[I 2025-04-19 15:43:37,073] Trial 5 finished with value: -368.9829406738281 and parameters: {'max_depth': 30, 'n_estimators': 400, 'learning_rate': 0.9112629024703769, 'subsample': 0.1816423629248074, 'colsample_bytree': 0.4595375917398808, 'min_child_weight': 14}. Best is trial 3 with value: 0.838919460773468.\n",
      "[I 2025-04-19 15:43:39,395] Trial 6 finished with value: 0.8671776056289673 and parameters: {'max_depth': 50, 'n_estimators': 450, 'learning_rate': 0.1683329527300004, 'subsample': 0.6306956041503544, 'colsample_bytree': 0.7395024691023204, 'min_child_weight': 2}. Best is trial 6 with value: 0.8671776056289673.\n",
      "[I 2025-04-19 15:43:40,233] Trial 7 finished with value: 0.87014240026474 and parameters: {'max_depth': 30, 'n_estimators': 400, 'learning_rate': 0.1308533942790798, 'subsample': 0.9813042952995574, 'colsample_bytree': 0.6427289136341426, 'min_child_weight': 16}. Best is trial 7 with value: 0.87014240026474.\n",
      "[I 2025-04-19 15:43:40,662] Trial 8 finished with value: 0.8753171563148499 and parameters: {'max_depth': 35, 'n_estimators': 750, 'learning_rate': 0.008647759782281559, 'subsample': 0.30983266823781, 'colsample_bytree': 0.5444561473866005, 'min_child_weight': 18}. Best is trial 8 with value: 0.8753171563148499.\n",
      "[I 2025-04-19 15:43:41,062] Trial 9 finished with value: 0.8417134284973145 and parameters: {'max_depth': 40, 'n_estimators': 950, 'learning_rate': 0.17041716943136492, 'subsample': 0.18184163119695412, 'colsample_bytree': 0.7490159636733098, 'min_child_weight': 20}. Best is trial 8 with value: 0.8753171563148499.\n",
      "[I 2025-04-19 15:43:41,668] Trial 10 finished with value: 0.7462818622589111 and parameters: {'max_depth': 25, 'n_estimators': 800, 'learning_rate': 0.4921952808389734, 'subsample': 0.3840211711040022, 'colsample_bytree': 0.25343836046881735, 'min_child_weight': 9}. Best is trial 8 with value: 0.8753171563148499.\n",
      "[I 2025-04-19 15:43:41,946] Trial 11 finished with value: 0.7775365114212036 and parameters: {'max_depth': 25, 'n_estimators': 650, 'learning_rate': 0.447729506277747, 'subsample': 0.9345815651306046, 'colsample_bytree': 0.05436144837838919, 'min_child_weight': 17}. Best is trial 8 with value: 0.8753171563148499.\n",
      "[I 2025-04-19 15:43:42,741] Trial 12 finished with value: 0.8891889452934265 and parameters: {'max_depth': 35, 'n_estimators': 1000, 'learning_rate': 0.026491791615290708, 'subsample': 0.4554042675384439, 'colsample_bytree': 0.5406696238714388, 'min_child_weight': 12}. Best is trial 12 with value: 0.8891889452934265.\n",
      "[I 2025-04-19 15:43:43,436] Trial 13 finished with value: 0.7988847494125366 and parameters: {'max_depth': 35, 'n_estimators': 950, 'learning_rate': 0.3629105361312983, 'subsample': 0.4134315914378176, 'colsample_bytree': 0.3226894219102152, 'min_child_weight': 12}. Best is trial 12 with value: 0.8891889452934265.\n",
      "[I 2025-04-19 15:43:44,541] Trial 14 finished with value: 0.8912343978881836 and parameters: {'max_depth': 35, 'n_estimators': 1000, 'learning_rate': 0.013601073917935316, 'subsample': 0.4639903284385012, 'colsample_bytree': 0.5355718920944503, 'min_child_weight': 6}. Best is trial 14 with value: 0.8912343978881836.\n",
      "[I 2025-04-19 15:43:45,681] Trial 15 finished with value: 0.6353054046630859 and parameters: {'max_depth': 20, 'n_estimators': 1000, 'learning_rate': 0.6844465883329631, 'subsample': 0.5221320509575926, 'colsample_bytree': 0.34020823447500126, 'min_child_weight': 5}. Best is trial 14 with value: 0.8912343978881836.\n",
      "[I 2025-04-19 15:43:47,164] Trial 16 finished with value: 0.8116538524627686 and parameters: {'max_depth': 40, 'n_estimators': 850, 'learning_rate': 0.6462073061387492, 'subsample': 0.7584678429694773, 'colsample_bytree': 0.8897437897485563, 'min_child_weight': 7}. Best is trial 14 with value: 0.8912343978881836.\n",
      "[I 2025-04-19 15:43:49,038] Trial 17 finished with value: 0.8239376544952393 and parameters: {'max_depth': 35, 'n_estimators': 600, 'learning_rate': 0.3204792321952598, 'subsample': 0.5134134068833773, 'colsample_bytree': 0.5353823250430024, 'min_child_weight': 1}. Best is trial 14 with value: 0.8912343978881836.\n",
      "[I 2025-04-19 15:43:49,536] Trial 18 finished with value: 0.876372754573822 and parameters: {'max_depth': 10, 'n_estimators': 900, 'learning_rate': 0.06535884539605513, 'subsample': 0.4320614798546941, 'colsample_bytree': 0.16872710263491714, 'min_child_weight': 11}. Best is trial 14 with value: 0.8912343978881836.\n",
      "[I 2025-04-19 15:43:50,703] Trial 19 finished with value: 0.8346068263053894 and parameters: {'max_depth': 25, 'n_estimators': 700, 'learning_rate': 0.3064741857215486, 'subsample': 0.7875382065232297, 'colsample_bytree': 0.41140195506270516, 'min_child_weight': 4}. Best is trial 14 with value: 0.8912343978881836.\n",
      "[I 2025-04-19 15:43:52,467] Trial 20 finished with value: 0.870639979839325 and parameters: {'max_depth': 45, 'n_estimators': 1000, 'learning_rate': 0.09806598304664976, 'subsample': 0.5968605416699386, 'colsample_bytree': 0.586647231139606, 'min_child_weight': 8}. Best is trial 14 with value: 0.8912343978881836.\n",
      "[I 2025-04-19 15:43:53,489] Trial 21 finished with value: 0.8632674217224121 and parameters: {'max_depth': 10, 'n_estimators': 900, 'learning_rate': 0.06523873528584134, 'subsample': 0.455619116720468, 'colsample_bytree': 0.08368749575647927, 'min_child_weight': 11}. Best is trial 14 with value: 0.8912343978881836.\n",
      "[I 2025-04-19 15:43:54,231] Trial 22 finished with value: 0.8862169981002808 and parameters: {'max_depth': 10, 'n_estimators': 850, 'learning_rate': 0.01182471194298676, 'subsample': 0.35103768525752027, 'colsample_bytree': 0.19682205324858046, 'min_child_weight': 13}. Best is trial 14 with value: 0.8912343978881836.\n",
      "[I 2025-04-19 15:43:54,753] Trial 23 finished with value: 0.8919285535812378 and parameters: {'max_depth': 30, 'n_estimators': 850, 'learning_rate': 0.018558867711007787, 'subsample': 0.3092107020882781, 'colsample_bytree': 0.22433636746553856, 'min_child_weight': 13}. Best is trial 23 with value: 0.8919285535812378.\n",
      "[I 2025-04-19 15:43:55,567] Trial 24 finished with value: 0.8050864338874817 and parameters: {'max_depth': 30, 'n_estimators': 1000, 'learning_rate': 0.23731539675234847, 'subsample': 0.2821058555481593, 'colsample_bytree': 0.33020560935672016, 'min_child_weight': 7}. Best is trial 23 with value: 0.8919285535812378.\n",
      "[I 2025-04-19 15:43:56,398] Trial 25 finished with value: 0.8705276250839233 and parameters: {'max_depth': 35, 'n_estimators': 850, 'learning_rate': 0.11284701946924872, 'subsample': 0.5583706134017711, 'colsample_bytree': 0.4564788400555861, 'min_child_weight': 10}. Best is trial 23 with value: 0.8919285535812378.\n",
      "[I 2025-04-19 15:43:57,481] Trial 26 finished with value: 0.609520435333252 and parameters: {'max_depth': 30, 'n_estimators': 900, 'learning_rate': 0.778318413868186, 'subsample': 0.4964287391199596, 'colsample_bytree': 0.5987558443632031, 'min_child_weight': 14}. Best is trial 23 with value: 0.8919285535812378.\n",
      "[I 2025-04-19 15:43:57,562] Trial 27 finished with value: 0.7762033343315125 and parameters: {'max_depth': 40, 'n_estimators': 100, 'learning_rate': 0.41221059915165853, 'subsample': 0.24645933419872817, 'colsample_bytree': 0.40012377479905015, 'min_child_weight': 13}. Best is trial 23 with value: 0.8919285535812378.\n",
      "[I 2025-04-19 15:43:57,928] Trial 28 finished with value: 0.5441702008247375 and parameters: {'max_depth': 25, 'n_estimators': 750, 'learning_rate': 0.2541949720275643, 'subsample': 0.05491565872865439, 'colsample_bytree': 0.24511298242236154, 'min_child_weight': 6}. Best is trial 23 with value: 0.8919285535812378.\n",
      "[I 2025-04-19 15:44:00,285] Trial 29 finished with value: 0.8782624006271362 and parameters: {'max_depth': 45, 'n_estimators': 950, 'learning_rate': 0.011081185357861711, 'subsample': 0.7005884369825951, 'colsample_bytree': 0.5108171208299793, 'min_child_weight': 3}. Best is trial 23 with value: 0.8919285535812378.\n",
      "[I 2025-04-19 15:44:00,757] Trial 30 finished with value: 0.8513586521148682 and parameters: {'max_depth': 20, 'n_estimators': 600, 'learning_rate': 0.16107234618227273, 'subsample': 0.33685577835024827, 'colsample_bytree': 0.6466722327957156, 'min_child_weight': 16}. Best is trial 23 with value: 0.8919285535812378.\n",
      "[I 2025-04-19 15:44:01,691] Trial 31 finished with value: 0.8808438777923584 and parameters: {'max_depth': 20, 'n_estimators': 850, 'learning_rate': 0.05085406801283243, 'subsample': 0.36826892399621475, 'colsample_bytree': 0.15329033274283416, 'min_child_weight': 12}. Best is trial 23 with value: 0.8919285535812378.\n",
      "[I 2025-04-19 15:44:02,593] Trial 32 finished with value: 0.8441515564918518 and parameters: {'max_depth': 15, 'n_estimators': 800, 'learning_rate': 0.005567360769630265, 'subsample': 0.2561493764743096, 'colsample_bytree': 0.22245906929023038, 'min_child_weight': 15}. Best is trial 23 with value: 0.8919285535812378.\n",
      "[I 2025-04-19 15:44:03,155] Trial 33 finished with value: 0.8643770217895508 and parameters: {'max_depth': 35, 'n_estimators': 1000, 'learning_rate': 0.08451219078746017, 'subsample': 0.4458295061040726, 'colsample_bytree': 0.11202276941886585, 'min_child_weight': 12}. Best is trial 23 with value: 0.8919285535812378.\n",
      "[I 2025-04-19 15:44:03,717] Trial 34 finished with value: -79564.9296875 and parameters: {'max_depth': 50, 'n_estimators': 900, 'learning_rate': 0.981835510832606, 'subsample': 0.3416674546254567, 'colsample_bytree': 0.2881019168095519, 'min_child_weight': 10}. Best is trial 23 with value: 0.8919285535812378.\n",
      "[I 2025-04-19 15:44:04,101] Trial 35 finished with value: 0.8382203578948975 and parameters: {'max_depth': 15, 'n_estimators': 800, 'learning_rate': 0.17747492405584347, 'subsample': 0.21478911338287213, 'colsample_bytree': 0.19984464365781945, 'min_child_weight': 13}. Best is trial 23 with value: 0.8919285535812378.\n",
      "[I 2025-04-19 15:44:04,392] Trial 36 finished with value: 0.7530407309532166 and parameters: {'max_depth': 40, 'n_estimators': 700, 'learning_rate': 0.0032109060043319145, 'subsample': 0.10331468245555309, 'colsample_bytree': 0.3730172698788503, 'min_child_weight': 15}. Best is trial 23 with value: 0.8919285535812378.\n",
      "[I 2025-04-19 15:44:06,852] Trial 37 finished with value: 0.8694806694984436 and parameters: {'max_depth': 45, 'n_estimators': 950, 'learning_rate': 0.12202527740891993, 'subsample': 0.5838280875729048, 'colsample_bytree': 0.44307320299336894, 'min_child_weight': 9}. Best is trial 23 with value: 0.8919285535812378.\n",
      "[I 2025-04-19 15:44:07,174] Trial 38 finished with value: 0.8279328346252441 and parameters: {'max_depth': 30, 'n_estimators': 350, 'learning_rate': 0.2059608429616288, 'subsample': 0.47671057133738526, 'colsample_bytree': 0.4977175821787546, 'min_child_weight': 13}. Best is trial 23 with value: 0.8919285535812378.\n",
      "[I 2025-04-19 15:44:07,808] Trial 39 finished with value: 0.8178113102912903 and parameters: {'max_depth': 10, 'n_estimators': 850, 'learning_rate': 0.2856478332568491, 'subsample': 0.37924767060631204, 'colsample_bytree': 0.8578923403500512, 'min_child_weight': 15}. Best is trial 23 with value: 0.8919285535812378.\n",
      "[I 2025-04-19 15:44:08,126] Trial 40 finished with value: 0.589057207107544 and parameters: {'max_depth': 35, 'n_estimators': 550, 'learning_rate': 0.5724616612446556, 'subsample': 0.2937352737574551, 'colsample_bytree': 0.6771691126313486, 'min_child_weight': 18}. Best is trial 23 with value: 0.8919285535812378.\n",
      "[I 2025-04-19 15:44:08,710] Trial 41 finished with value: 0.8742523789405823 and parameters: {'max_depth': 20, 'n_estimators': 850, 'learning_rate': 0.05829749301854492, 'subsample': 0.37828063521737637, 'colsample_bytree': 0.12708095960234075, 'min_child_weight': 12}. Best is trial 23 with value: 0.8919285535812378.\n",
      "[I 2025-04-19 15:44:09,251] Trial 42 finished with value: 0.8626877665519714 and parameters: {'max_depth': 30, 'n_estimators': 950, 'learning_rate': 0.06298306197374054, 'subsample': 0.34388012434070103, 'colsample_bytree': 0.16875220963165538, 'min_child_weight': 11}. Best is trial 23 with value: 0.8919285535812378.\n",
      "[I 2025-04-19 15:44:09,784] Trial 43 finished with value: 0.8819790482521057 and parameters: {'max_depth': 20, 'n_estimators': 750, 'learning_rate': 0.045419995059676525, 'subsample': 0.3908765129540633, 'colsample_bytree': 0.27818415325229584, 'min_child_weight': 14}. Best is trial 23 with value: 0.8919285535812378.\n",
      "[I 2025-04-19 15:44:10,353] Trial 44 finished with value: 0.8451241254806519 and parameters: {'max_depth': 25, 'n_estimators': 750, 'learning_rate': 0.13570577495345776, 'subsample': 0.40249479290480605, 'colsample_bytree': 0.6111276720343295, 'min_child_weight': 14}. Best is trial 23 with value: 0.8919285535812378.\n",
      "[I 2025-04-19 15:44:10,933] Trial 45 finished with value: 0.8847465515136719 and parameters: {'max_depth': 30, 'n_estimators': 800, 'learning_rate': 0.03462077961262357, 'subsample': 0.5505345118205753, 'colsample_bytree': 0.2952143015397891, 'min_child_weight': 16}. Best is trial 23 with value: 0.8919285535812378.\n",
      "[I 2025-04-19 15:44:11,552] Trial 46 finished with value: 0.8634765148162842 and parameters: {'max_depth': 35, 'n_estimators': 700, 'learning_rate': 0.19884109406260497, 'subsample': 0.6211791742000099, 'colsample_bytree': 0.5574183443585584, 'min_child_weight': 17}. Best is trial 23 with value: 0.8919285535812378.\n",
      "[I 2025-04-19 15:44:12,484] Trial 47 finished with value: 0.8507347106933594 and parameters: {'max_depth': 30, 'n_estimators': 800, 'learning_rate': 0.12704714656549776, 'subsample': 0.5384756931863679, 'colsample_bytree': 0.49715180412941407, 'min_child_weight': 17}. Best is trial 23 with value: 0.8919285535812378.\n",
      "[I 2025-04-19 15:44:14,037] Trial 48 finished with value: 0.8843590617179871 and parameters: {'max_depth': 40, 'n_estimators': 1000, 'learning_rate': 0.02635318691836327, 'subsample': 0.6756953738749981, 'colsample_bytree': 0.7259734792686305, 'min_child_weight': 16}. Best is trial 23 with value: 0.8919285535812378.\n",
      "[I 2025-04-19 15:44:15,019] Trial 49 finished with value: 0.8680050373077393 and parameters: {'max_depth': 30, 'n_estimators': 900, 'learning_rate': 0.096646822059114, 'subsample': 0.4751320385523688, 'colsample_bytree': 0.38116361892189854, 'min_child_weight': 8}. Best is trial 23 with value: 0.8919285535812378.\n",
      "[I 2025-04-19 15:44:15,392] Trial 50 finished with value: 0.7480081915855408 and parameters: {'max_depth': 35, 'n_estimators': 950, 'learning_rate': 0.0020984846714195305, 'subsample': 0.1782244163878208, 'colsample_bytree': 0.3046949951301441, 'min_child_weight': 20}. Best is trial 23 with value: 0.8919285535812378.\n",
      "[I 2025-04-19 15:44:16,788] Trial 51 finished with value: 0.871168851852417 and parameters: {'max_depth': 40, 'n_estimators': 1000, 'learning_rate': 0.0426349594685556, 'subsample': 0.760383842495466, 'colsample_bytree': 0.7617598350883337, 'min_child_weight': 19}. Best is trial 23 with value: 0.8919285535812378.\n",
      "[I 2025-04-19 15:44:18,451] Trial 52 finished with value: 0.8731562495231628 and parameters: {'max_depth': 40, 'n_estimators': 1000, 'learning_rate': 0.15253571513692055, 'subsample': 0.7075921972786389, 'colsample_bytree': 0.8323298616922421, 'min_child_weight': 15}. Best is trial 23 with value: 0.8919285535812378.\n",
      "[I 2025-04-19 15:44:19,961] Trial 53 finished with value: 0.8688203692436218 and parameters: {'max_depth': 35, 'n_estimators': 950, 'learning_rate': 0.09607243519681521, 'subsample': 0.6754333313382112, 'colsample_bytree': 0.9126886792169111, 'min_child_weight': 16}. Best is trial 23 with value: 0.8919285535812378.\n",
      "[I 2025-04-19 15:44:21,588] Trial 54 finished with value: 0.8869247436523438 and parameters: {'max_depth': 45, 'n_estimators': 900, 'learning_rate': 0.052538910858623125, 'subsample': 0.563475586552046, 'colsample_bytree': 0.20502580581959076, 'min_child_weight': 13}. Best is trial 23 with value: 0.8919285535812378.\n",
      "[I 2025-04-19 15:44:22,507] Trial 55 finished with value: 0.8790384531021118 and parameters: {'max_depth': 45, 'n_estimators': 900, 'learning_rate': 0.09504076589575206, 'subsample': 0.5469489383499343, 'colsample_bytree': 0.22261256341645783, 'min_child_weight': 13}. Best is trial 23 with value: 0.8919285535812378.\n",
      "[I 2025-04-19 15:44:23,197] Trial 56 finished with value: 0.8902468681335449 and parameters: {'max_depth': 50, 'n_estimators': 800, 'learning_rate': 0.03129861194495571, 'subsample': 0.4324937323865096, 'colsample_bytree': 0.18395420660577902, 'min_child_weight': 10}. Best is trial 23 with value: 0.8919285535812378.\n",
      "[I 2025-04-19 15:44:24,118] Trial 57 finished with value: 0.20223605632781982 and parameters: {'max_depth': 50, 'n_estimators': 900, 'learning_rate': 0.7744485066010394, 'subsample': 0.43402014853812293, 'colsample_bytree': 0.0662513790875153, 'min_child_weight': 10}. Best is trial 23 with value: 0.8919285535812378.\n",
      "[I 2025-04-19 15:44:25,112] Trial 58 finished with value: 0.8040181994438171 and parameters: {'max_depth': 50, 'n_estimators': 850, 'learning_rate': 0.18970770948748497, 'subsample': 0.5114330274440004, 'colsample_bytree': 0.18012022782105974, 'min_child_weight': 5}. Best is trial 23 with value: 0.8919285535812378.\n",
      "[I 2025-04-19 15:44:25,615] Trial 59 finished with value: 0.7312301397323608 and parameters: {'max_depth': 50, 'n_estimators': 650, 'learning_rate': 0.37308244824059367, 'subsample': 0.30264459125865045, 'colsample_bytree': 0.352418427116047, 'min_child_weight': 8}. Best is trial 23 with value: 0.8919285535812378.\n",
      "[I 2025-04-19 15:44:26,097] Trial 60 finished with value: 0.8371092677116394 and parameters: {'max_depth': 45, 'n_estimators': 950, 'learning_rate': 0.1467386478608217, 'subsample': 0.42430430149160825, 'colsample_bytree': 0.10499323416830098, 'min_child_weight': 11}. Best is trial 23 with value: 0.8919285535812378.\n",
      "[I 2025-04-19 15:44:26,665] Trial 61 finished with value: 0.8888483047485352 and parameters: {'max_depth': 25, 'n_estimators': 800, 'learning_rate': 0.036115394258880384, 'subsample': 0.5824752301220536, 'colsample_bytree': 0.25908453964469885, 'min_child_weight': 13}. Best is trial 23 with value: 0.8919285535812378.\n",
      "[I 2025-04-19 15:44:27,347] Trial 62 finished with value: 0.8909444808959961 and parameters: {'max_depth': 25, 'n_estimators': 850, 'learning_rate': 0.035536661187728774, 'subsample': 0.5906876007691968, 'colsample_bytree': 0.2339185932550744, 'min_child_weight': 12}. Best is trial 23 with value: 0.8919285535812378.\n",
      "[I 2025-04-19 15:44:27,973] Trial 63 finished with value: 0.8794283866882324 and parameters: {'max_depth': 25, 'n_estimators': 800, 'learning_rate': 0.0718376106379766, 'subsample': 0.6247857415198489, 'colsample_bytree': 0.24707175221333066, 'min_child_weight': 12}. Best is trial 23 with value: 0.8919285535812378.\n",
      "[I 2025-04-19 15:44:28,553] Trial 64 finished with value: 0.8723809719085693 and parameters: {'max_depth': 25, 'n_estimators': 900, 'learning_rate': 0.03607003876622443, 'subsample': 0.5848826805064685, 'colsample_bytree': 0.1416744447520989, 'min_child_weight': 9}. Best is trial 23 with value: 0.8919285535812378.\n",
      "[I 2025-04-19 15:44:28,800] Trial 65 finished with value: 0.8832061290740967 and parameters: {'max_depth': 25, 'n_estimators': 300, 'learning_rate': 0.08039287851828675, 'subsample': 0.4868260068390755, 'colsample_bytree': 0.4192994771981159, 'min_child_weight': 14}. Best is trial 23 with value: 0.8919285535812378.\n",
      "[I 2025-04-19 15:44:29,390] Trial 66 finished with value: 0.8859690427780151 and parameters: {'max_depth': 45, 'n_estimators': 450, 'learning_rate': 0.11202683899384185, 'subsample': 0.6432862890481048, 'colsample_bytree': 0.5599771684518002, 'min_child_weight': 11}. Best is trial 23 with value: 0.8919285535812378.\n",
      "[I 2025-04-19 15:44:30,066] Trial 67 finished with value: 0.8887274265289307 and parameters: {'max_depth': 30, 'n_estimators': 850, 'learning_rate': 0.028029100965676478, 'subsample': 0.5741592905967189, 'colsample_bytree': 0.26756235456222066, 'min_child_weight': 12}. Best is trial 23 with value: 0.8919285535812378.\n",
      "[I 2025-04-19 15:44:31,754] Trial 68 finished with value: 0.8018968105316162 and parameters: {'max_depth': 30, 'n_estimators': 700, 'learning_rate': 0.2544798390591161, 'subsample': 0.5225741027856067, 'colsample_bytree': 0.2767493347292813, 'min_child_weight': 1}. Best is trial 23 with value: 0.8919285535812378.\n",
      "[I 2025-04-19 15:44:32,333] Trial 69 finished with value: 0.7496069669723511 and parameters: {'max_depth': 25, 'n_estimators': 650, 'learning_rate': 0.0019558492933715865, 'subsample': 0.46240595407439794, 'colsample_bytree': 0.4674369791732389, 'min_child_weight': 6}. Best is trial 23 with value: 0.8919285535812378.\n",
      "[I 2025-04-19 15:44:33,345] Trial 70 finished with value: 0.8484292030334473 and parameters: {'max_depth': 30, 'n_estimators': 750, 'learning_rate': 0.49003070359657064, 'subsample': 0.8662026604731741, 'colsample_bytree': 0.250562135850806, 'min_child_weight': 10}. Best is trial 23 with value: 0.8919285535812378.\n",
      "[I 2025-04-19 15:44:34,165] Trial 71 finished with value: 0.8845560550689697 and parameters: {'max_depth': 25, 'n_estimators': 850, 'learning_rate': 0.030957519355494345, 'subsample': 0.5798679951046013, 'colsample_bytree': 0.19471770592201793, 'min_child_weight': 13}. Best is trial 23 with value: 0.8919285535812378.\n",
      "[I 2025-04-19 15:44:35,110] Trial 72 finished with value: 0.8856348991394043 and parameters: {'max_depth': 35, 'n_estimators': 850, 'learning_rate': 0.06784088112936554, 'subsample': 0.6081585407442011, 'colsample_bytree': 0.23050549288812666, 'min_child_weight': 12}. Best is trial 23 with value: 0.8919285535812378.\n",
      "[I 2025-04-19 15:44:36,110] Trial 73 finished with value: 0.8879328370094299 and parameters: {'max_depth': 50, 'n_estimators': 900, 'learning_rate': 0.035916916747327, 'subsample': 0.5599078954221497, 'colsample_bytree': 0.3230147436795039, 'min_child_weight': 13}. Best is trial 23 with value: 0.8919285535812378.\n",
      "[I 2025-04-19 15:44:36,984] Trial 74 finished with value: 0.8708915114402771 and parameters: {'max_depth': 50, 'n_estimators': 750, 'learning_rate': 0.12187393159614267, 'subsample': 0.49283332207026465, 'colsample_bytree': 0.3122230709079816, 'min_child_weight': 11}. Best is trial 23 with value: 0.8919285535812378.\n",
      "[I 2025-04-19 15:44:38,228] Trial 75 finished with value: 0.862405002117157 and parameters: {'max_depth': 20, 'n_estimators': 800, 'learning_rate': 0.16179659708886895, 'subsample': 0.6440648966879912, 'colsample_bytree': 0.3459640532868602, 'min_child_weight': 4}. Best is trial 23 with value: 0.8919285535812378.\n",
      "[I 2025-04-19 15:44:40,271] Trial 76 finished with value: 0.8901345729827881 and parameters: {'max_depth': 30, 'n_estimators': 950, 'learning_rate': 0.02590533388247461, 'subsample': 0.5329469932269474, 'colsample_bytree': 0.25990204633128544, 'min_child_weight': 12}. Best is trial 23 with value: 0.8919285535812378.\n",
      "[I 2025-04-19 15:44:41,272] Trial 77 finished with value: 0.8690899014472961 and parameters: {'max_depth': 30, 'n_estimators': 950, 'learning_rate': 0.08392772050998375, 'subsample': 0.5170739111324583, 'colsample_bytree': 0.2704609212730028, 'min_child_weight': 12}. Best is trial 23 with value: 0.8919285535812378.\n",
      "[I 2025-04-19 15:44:41,796] Trial 78 finished with value: 0.8272258639335632 and parameters: {'max_depth': 35, 'n_estimators': 1000, 'learning_rate': 0.0034646518357339326, 'subsample': 0.41248094814870306, 'colsample_bytree': 0.16316597721362153, 'min_child_weight': 10}. Best is trial 23 with value: 0.8919285535812378.\n",
      "[I 2025-04-19 15:44:42,794] Trial 79 finished with value: 0.879855751991272 and parameters: {'max_depth': 30, 'n_estimators': 950, 'learning_rate': 0.03216083748976434, 'subsample': 0.46664225212486915, 'colsample_bytree': 0.6366361530212655, 'min_child_weight': 14}. Best is trial 23 with value: 0.8919285535812378.\n",
      "[I 2025-04-19 15:44:43,840] Trial 80 finished with value: 0.8498965501785278 and parameters: {'max_depth': 25, 'n_estimators': 1000, 'learning_rate': 0.11538638119322885, 'subsample': 0.2552624830659215, 'colsample_bytree': 0.5828830695095847, 'min_child_weight': 11}. Best is trial 23 with value: 0.8919285535812378.\n",
      "[I 2025-04-19 15:44:44,619] Trial 81 finished with value: 0.8712337017059326 and parameters: {'max_depth': 25, 'n_estimators': 900, 'learning_rate': 0.060120925304792835, 'subsample': 0.5730228336842306, 'colsample_bytree': 0.22021195894588655, 'min_child_weight': 12}. Best is trial 23 with value: 0.8919285535812378.\n",
      "[I 2025-04-19 15:44:45,337] Trial 82 finished with value: 0.8938947916030884 and parameters: {'max_depth': 30, 'n_estimators': 850, 'learning_rate': 0.02144512514989989, 'subsample': 0.5979903287707208, 'colsample_bytree': 0.3269241499344584, 'min_child_weight': 13}. Best is trial 82 with value: 0.8938947916030884.\n",
      "[I 2025-04-19 15:44:45,494] Trial 83 finished with value: 0.872566819190979 and parameters: {'max_depth': 30, 'n_estimators': 150, 'learning_rate': 0.026352478984620346, 'subsample': 0.715283100084597, 'colsample_bytree': 0.26398766822314723, 'min_child_weight': 13}. Best is trial 82 with value: 0.8938947916030884.\n",
      "[I 2025-04-19 15:44:46,333] Trial 84 finished with value: 0.8706767559051514 and parameters: {'max_depth': 30, 'n_estimators': 800, 'learning_rate': 0.0790881401886524, 'subsample': 0.6064320189609445, 'colsample_bytree': 0.4788605548077698, 'min_child_weight': 12}. Best is trial 82 with value: 0.8938947916030884.\n",
      "[I 2025-04-19 15:44:47,009] Trial 85 finished with value: 0.8984687328338623 and parameters: {'max_depth': 35, 'n_estimators': 850, 'learning_rate': 0.022280518447674258, 'subsample': 0.4420535182048168, 'colsample_bytree': 0.369141860220474, 'min_child_weight': 14}. Best is trial 85 with value: 0.8984687328338623.\n",
      "[I 2025-04-19 15:44:47,853] Trial 86 finished with value: 0.6944506168365479 and parameters: {'max_depth': 35, 'n_estimators': 950, 'learning_rate': 0.5943358848676206, 'subsample': 0.43798673617626227, 'colsample_bytree': 0.38166586111093964, 'min_child_weight': 15}. Best is trial 85 with value: 0.8984687328338623.\n",
      "[I 2025-04-19 15:44:48,344] Trial 87 finished with value: 0.3092021346092224 and parameters: {'max_depth': 35, 'n_estimators': 850, 'learning_rate': 0.0003403056269545811, 'subsample': 0.3271294052950759, 'colsample_bytree': 0.5367351912438565, 'min_child_weight': 14}. Best is trial 85 with value: 0.8984687328338623.\n",
      "[I 2025-04-19 15:44:50,665] Trial 88 finished with value: 0.8591039776802063 and parameters: {'max_depth': 20, 'n_estimators': 750, 'learning_rate': 0.1061135480207254, 'subsample': 0.5022700415379115, 'colsample_bytree': 0.43554412094592, 'min_child_weight': 13}. Best is trial 85 with value: 0.8984687328338623.\n",
      "[I 2025-04-19 15:44:51,556] Trial 89 finished with value: 0.8721179962158203 and parameters: {'max_depth': 40, 'n_estimators': 850, 'learning_rate': 0.055212103430743946, 'subsample': 0.44974897751704224, 'colsample_bytree': 0.5136887878682845, 'min_child_weight': 14}. Best is trial 85 with value: 0.8984687328338623.\n",
      "[I 2025-04-19 15:44:52,290] Trial 90 finished with value: 0.861440896987915 and parameters: {'max_depth': 25, 'n_estimators': 1000, 'learning_rate': 0.08340099572057524, 'subsample': 0.3625990291838135, 'colsample_bytree': 0.3002153569879952, 'min_child_weight': 15}. Best is trial 85 with value: 0.8984687328338623.\n",
      "[I 2025-04-19 15:44:53,070] Trial 91 finished with value: 0.8908666372299194 and parameters: {'max_depth': 30, 'n_estimators': 800, 'learning_rate': 0.03164521558214482, 'subsample': 0.5446829162389595, 'colsample_bytree': 0.36123254797337556, 'min_child_weight': 12}. Best is trial 85 with value: 0.8984687328338623.\n",
      "[I 2025-04-19 15:44:53,993] Trial 92 finished with value: 0.8807729482650757 and parameters: {'max_depth': 30, 'n_estimators': 800, 'learning_rate': 0.05205690988082628, 'subsample': 0.5373813245827376, 'colsample_bytree': 0.3626274732685789, 'min_child_weight': 11}. Best is trial 85 with value: 0.8984687328338623.\n",
      "[I 2025-04-19 15:44:54,823] Trial 93 finished with value: 0.8509623408317566 and parameters: {'max_depth': 35, 'n_estimators': 900, 'learning_rate': 0.13762719210732477, 'subsample': 0.40622369441434286, 'colsample_bytree': 0.40091297716793056, 'min_child_weight': 14}. Best is trial 85 with value: 0.8984687328338623.\n",
      "[I 2025-04-19 15:44:55,628] Trial 94 finished with value: 0.8950566053390503 and parameters: {'max_depth': 35, 'n_estimators': 850, 'learning_rate': 0.013392077593611836, 'subsample': 0.6693885111187241, 'colsample_bytree': 0.32867097692756414, 'min_child_weight': 12}. Best is trial 85 with value: 0.8984687328338623.\n",
      "[I 2025-04-19 15:44:57,109] Trial 95 finished with value: 0.8872030973434448 and parameters: {'max_depth': 35, 'n_estimators': 950, 'learning_rate': 0.02203039738808393, 'subsample': 0.7279821826598949, 'colsample_bytree': 0.33609251301661663, 'min_child_weight': 9}. Best is trial 85 with value: 0.8984687328338623.\n",
      "[I 2025-04-19 15:44:58,038] Trial 96 finished with value: 0.88344407081604 and parameters: {'max_depth': 35, 'n_estimators': 850, 'learning_rate': 0.06866609105250254, 'subsample': 0.6806456465318397, 'colsample_bytree': 0.43743608716059834, 'min_child_weight': 12}. Best is trial 85 with value: 0.8984687328338623.\n",
      "[I 2025-04-19 15:44:58,790] Trial 97 finished with value: 0.8890079855918884 and parameters: {'max_depth': 35, 'n_estimators': 900, 'learning_rate': 0.01872534016563347, 'subsample': 0.5276673259788986, 'colsample_bytree': 0.18633258617713996, 'min_child_weight': 11}. Best is trial 85 with value: 0.8984687328338623.\n",
      "[I 2025-04-19 15:44:59,741] Trial 98 finished with value: 0.873958945274353 and parameters: {'max_depth': 40, 'n_estimators': 950, 'learning_rate': 0.09954761331467317, 'subsample': 0.645234651232043, 'colsample_bytree': 0.38779784500349546, 'min_child_weight': 13}. Best is trial 85 with value: 0.8984687328338623.\n",
      "[I 2025-04-19 15:45:00,894] Trial 99 finished with value: 0.8292211294174194 and parameters: {'max_depth': 30, 'n_estimators': 1000, 'learning_rate': 0.17175903832107414, 'subsample': 0.2282455364257313, 'colsample_bytree': 0.9990966894086385, 'min_child_weight': 10}. Best is trial 85 with value: 0.8984687328338623.\n"
     ]
    }
   ],
   "source": [
    "# XGBoost\n",
    "study_xgb = optuna.create_study(direction = \"maximize\")\n",
    "func = lambda trial: objective_xgb(trial, X_train, X_valid, y_train, y_valid)\n",
    "study_xgb.optimize(func, n_trials = 100, timeout=600)\n",
    "xgb_model = XGBRegressor(**study_xgb.best_trial.params).fit(X_train_valid, y_train_valid)"
   ]
  },
  {
   "cell_type": "code",
   "execution_count": 11,
   "id": "b27e736c-b1a8-445c-b901-8b6fecbe88cb",
   "metadata": {},
   "outputs": [],
   "source": [
    "y_pred_test = xgb_model.predict(X_test)\n",
    "r2_value = r2_score(y_test, y_pred_test)\n",
    "rmse_value = root_mean_squared_error(y_test, y_pred_test)"
   ]
  },
  {
   "cell_type": "code",
   "execution_count": 12,
   "id": "4c070e84-2aae-4ee9-96f8-4116939139aa",
   "metadata": {},
   "outputs": [
    {
     "name": "stdout",
     "output_type": "stream",
     "text": [
      "R2 Score: 0.8529456853866577\n",
      "RMSE Score: 31094.484375\n"
     ]
    }
   ],
   "source": [
    "print(f\"R2 Score: {r2_value}\")\n",
    "print(f\"RMSE Score: {rmse_value}\")"
   ]
  },
  {
   "cell_type": "markdown",
   "id": "2ca01f14-f5c5-4b07-b54a-7180bcacdce9",
   "metadata": {},
   "source": [
    "# <center> Using an XGBoost Regressor,<br> the sale price prediction deviates on average <br> <ins> +/- $31k </ins><br>from the real sale price."
   ]
  },
  {
   "cell_type": "markdown",
   "id": "e08679e9-6cc0-4e58-9d6a-60812475207f",
   "metadata": {},
   "source": [
    "# 5. Save Models"
   ]
  },
  {
   "cell_type": "code",
   "execution_count": null,
   "id": "bc3bf54a-d613-4ee6-bdab-11437e28c3d9",
   "metadata": {},
   "outputs": [],
   "source": [
    "lr_path = models_path / \"LinearRegressorModel.bin\"\n",
    "joblib.dump(lr_model, lr_path compress=True)"
   ]
  },
  {
   "cell_type": "code",
   "execution_count": null,
   "id": "4cda2428-85c6-4e2d-aab2-a470202e1739",
   "metadata": {},
   "outputs": [],
   "source": [
    "xgb_path = models_path / \"XGBRegressorModel.json\"\n",
    "xgb_model.save_model(xgb_path)"
   ]
  }
 ],
 "metadata": {
  "kernelspec": {
   "display_name": "Python 3 (ipykernel)",
   "language": "python",
   "name": "python3"
  },
  "language_info": {
   "codemirror_mode": {
    "name": "ipython",
    "version": 3
   },
   "file_extension": ".py",
   "mimetype": "text/x-python",
   "name": "python",
   "nbconvert_exporter": "python",
   "pygments_lexer": "ipython3",
   "version": "3.12.3"
  }
 },
 "nbformat": 4,
 "nbformat_minor": 5
}
